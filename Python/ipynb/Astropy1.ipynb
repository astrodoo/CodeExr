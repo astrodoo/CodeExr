{
 "cells": [
  {
   "cell_type": "code",
   "execution_count": 12,
   "metadata": {
    "collapsed": false
   },
   "outputs": [],
   "source": [
    "from astropy import constants as const\n",
    "from astropy import units as u"
   ]
  },
  {
   "cell_type": "code",
   "execution_count": 11,
   "metadata": {
    "collapsed": false
   },
   "outputs": [
    {
     "name": "stdout",
     "output_type": "stream",
     "text": [
      "  Name   = Speed of light in vacuum\n",
      "  Value  = 299792458.0\n",
      "  Uncertainty  = 0.0\n",
      "  Unit  = m / s\n",
      "  Reference = CODATA 2010\n",
      "29979245800.0 cm / s\n",
      "299792.458 km / s\n",
      "0.306601393788 pc / yr\n"
     ]
    }
   ],
   "source": [
    "print const.c\n",
    "\n",
    "print const.c.cgs\n",
    "\n",
    "print const.c.to('km/s')\n",
    "print const.c.to('pc/yr')"
   ]
  },
  {
   "cell_type": "code",
   "execution_count": 21,
   "metadata": {
    "collapsed": false
   },
   "outputs": [
    {
     "name": "stdout",
     "output_type": "stream",
     "text": [
      "8.22826558512e+27 cm3 kg / (AU2 s2)\n",
      "36766.9392028 dyn\n",
      "0.367669392028 N\n"
     ]
    }
   ],
   "source": [
    "F = (const.G.cgs * 3.*const.M_sun.cgs* 100* u.kg) / (2.2*u.au)**2\n",
    "print F\n",
    "\n",
    "print F.to(u.dyne)\n",
    "print F.to(u.N)"
   ]
  },
  {
   "cell_type": "code",
   "execution_count": null,
   "metadata": {
    "collapsed": true
   },
   "outputs": [],
   "source": []
  }
 ],
 "metadata": {
  "kernelspec": {
   "display_name": "Python 2",
   "language": "python",
   "name": "python2"
  },
  "language_info": {
   "codemirror_mode": {
    "name": "ipython",
    "version": 2
   },
   "file_extension": ".py",
   "mimetype": "text/x-python",
   "name": "python",
   "nbconvert_exporter": "python",
   "pygments_lexer": "ipython2",
   "version": "2.7.11"
  }
 },
 "nbformat": 4,
 "nbformat_minor": 0
}
