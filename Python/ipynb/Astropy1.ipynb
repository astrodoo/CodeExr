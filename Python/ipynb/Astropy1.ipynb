{
 "cells": [
  {
   "cell_type": "code",
   "execution_count": 27,
   "metadata": {
    "collapsed": false
   },
   "outputs": [
    {
     "name": "stdout",
     "output_type": "stream",
     "text": [
      "Populating the interactive namespace from numpy and matplotlib\n"
     ]
    }
   ],
   "source": [
    "%pylab inline"
   ]
  },
  {
   "cell_type": "code",
   "execution_count": 1,
   "metadata": {
    "collapsed": false
   },
   "outputs": [],
   "source": [
    "from astropy import constants as const\n",
    "from astropy import units as u"
   ]
  },
  {
   "cell_type": "code",
   "execution_count": 2,
   "metadata": {
    "collapsed": false
   },
   "outputs": [
    {
     "name": "stdout",
     "output_type": "stream",
     "text": [
      "  Name   = Speed of light in vacuum\n",
      "  Value  = 299792458.0\n",
      "  Uncertainty  = 0.0\n",
      "  Unit  = m / s\n",
      "  Reference = CODATA 2010\n",
      "29979245800.0 cm / s\n",
      "299792.458 km / s\n",
      "0.306601393788 pc / yr\n"
     ]
    }
   ],
   "source": [
    "print const.c\n",
    "\n",
    "print const.c.cgs\n",
    "\n",
    "print const.c.to('km/s')\n",
    "print const.c.to('pc/yr')"
   ]
  },
  {
   "cell_type": "code",
   "execution_count": 3,
   "metadata": {
    "collapsed": false
   },
   "outputs": [
    {
     "name": "stdout",
     "output_type": "stream",
     "text": [
      "8.22826558512e+27 cm3 kg / (AU2 s2)\n",
      "36766.9392028 dyn\n",
      "0.367669392028 N\n"
     ]
    }
   ],
   "source": [
    "F = (const.G.cgs * 3.*const.M_sun.cgs* 100* u.kg) / (2.2*u.au)**2\n",
    "print F\n",
    "\n",
    "print F.to(u.dyne)\n",
    "print F.to(u.N)"
   ]
  },
  {
   "cell_type": "code",
   "execution_count": 4,
   "metadata": {
    "collapsed": false
   },
   "outputs": [
    {
     "name": "stdout",
     "output_type": "stream",
     "text": [
      "42.0\n",
      "cm\n",
      "3.08567758147e+13 km\n"
     ]
    }
   ],
   "source": [
    "a = 42.*u.cm\n",
    "\n",
    "print a.value\n",
    "print a.unit\n",
    "\n",
    "x = 1.*u.pc\n",
    "print x.to(u.km)"
   ]
  },
  {
   "cell_type": "code",
   "execution_count": 5,
   "metadata": {
    "collapsed": false
   },
   "outputs": [
    {
     "name": "stdout",
     "output_type": "stream",
     "text": [
      "42.0 cm / s\n",
      "0.939513242663 mi / h\n"
     ]
    }
   ],
   "source": [
    "\"\"\" create custom units \"\"\"\n",
    "\n",
    "cms = u.cm / u.s\n",
    "mph = u.imperial.mile / u.hour\n",
    "\n",
    "q = 42.*cms\n",
    "\n",
    "print q\n",
    "print q.to(mph)"
   ]
  },
  {
   "cell_type": "code",
   "execution_count": 6,
   "metadata": {
    "collapsed": false
   },
   "outputs": [
    {
     "name": "stdout",
     "output_type": "stream",
     "text": [
      "14600.1 m\n",
      "14.6001 km\n"
     ]
    }
   ],
   "source": [
    "print 1100.1*u.m + 13.5*u.km\n",
    "print 13.5*u.km + 1100.1*u.m"
   ]
  },
  {
   "cell_type": "code",
   "execution_count": 7,
   "metadata": {
    "collapsed": false
   },
   "outputs": [
    {
     "name": "stdout",
     "output_type": "stream",
     "text": [
      "0.5\n",
      "0.5\n"
     ]
    }
   ],
   "source": [
    "import numpy as np\n",
    "\n",
    "print np.sin(30.*u.deg)\n",
    "\n",
    "print np.sin(np.pi/6.)"
   ]
  },
  {
   "cell_type": "code",
   "execution_count": 8,
   "metadata": {
    "collapsed": false
   },
   "outputs": [
    {
     "name": "stdout",
     "output_type": "stream",
     "text": [
      "0.995212254619\n",
      "0.995212254619\n"
     ]
    }
   ],
   "source": [
    "\"\"\" dimensionless quantitites \"\"\"\n",
    "nu = 3.*u.GHz\n",
    "T  = 30.*u.K\n",
    "\n",
    "print np.exp(-const.h * nu / (const.k_B * T))\n",
    "\n",
    "nu2 = 3.e9*u.Hz\n",
    "print np.exp(-const.h * nu2 / (const.k_B * T))"
   ]
  },
  {
   "cell_type": "code",
   "execution_count": 9,
   "metadata": {
    "collapsed": false
   },
   "outputs": [
    {
     "name": "stdout",
     "output_type": "stream",
     "text": [
      "1.001\n",
      "2.0\n",
      "1.0 m / km\n",
      "m / km\n",
      "0.001\n"
     ]
    }
   ],
   "source": [
    "a = 1. + 1.*u.m/u.km\n",
    "print a\n",
    "\n",
    "b = 1.+(1.*u.m/u.km).value\n",
    "print b\n",
    "\n",
    "c = (1.*u.m/u.km)\n",
    "print c\n",
    "print c.unit\n",
    "print c.unit.decompose()"
   ]
  },
  {
   "cell_type": "code",
   "execution_count": 10,
   "metadata": {
    "collapsed": false
   },
   "outputs": [
    {
     "name": "stdout",
     "output_type": "stream",
     "text": [
      "True\n"
     ]
    }
   ],
   "source": [
    "print u.dimensionless_unscaled == u.Unit('')"
   ]
  },
  {
   "cell_type": "code",
   "execution_count": 11,
   "metadata": {
    "collapsed": false
   },
   "outputs": [
    {
     "name": "stdout",
     "output_type": "stream",
     "text": [
      "  Primary name | Unit definition | Aliases                         \n",
      "[\n",
      "  M_e          | 9.10938e-31 kg  |                                  ,\n",
      "  M_p          | 1.67262e-27 kg  |                                  ,\n",
      "  earthMass    | 5.9742e+24 kg   | M_earth, Mearth                  ,\n",
      "  g            | 0.001 kg        | gram                             ,\n",
      "  jupiterMass  | 1.8987e+27 kg   | M_jup, Mjup, M_jupiter, Mjupiter ,\n",
      "  kg           | irreducible     | kilogram                         ,\n",
      "  solMass      | 1.9891e+30 kg   | M_sun, Msun                      ,\n",
      "  t            | 1000 kg         | tonne                            ,\n",
      "  u            | 1.66054e-27 kg  | Da, Dalton                       ,\n",
      "]\n"
     ]
    }
   ],
   "source": [
    "print u.g.find_equivalent_units()"
   ]
  },
  {
   "cell_type": "markdown",
   "metadata": {},
   "source": [
    "## decomposing and composing units"
   ]
  },
  {
   "cell_type": "code",
   "execution_count": 12,
   "metadata": {
    "collapsed": false
   },
   "outputs": [
    {
     "name": "stdout",
     "output_type": "stream",
     "text": [
      "1000\n",
      "dimensionless\n"
     ]
    }
   ],
   "source": [
    "print (u.km / u.m).decompose()\n",
    "print (u.km / u.m).physical_type"
   ]
  },
  {
   "cell_type": "code",
   "execution_count": 13,
   "metadata": {
    "collapsed": false
   },
   "outputs": [
    {
     "name": "stdout",
     "output_type": "stream",
     "text": [
      "Ry\n",
      "2.17987e-11 cm2 g / s2\n"
     ]
    }
   ],
   "source": [
    "print u.Ry\n",
    "\n",
    "print u.Ry.decompose(bases = u.cgs.bases)"
   ]
  },
  {
   "cell_type": "code",
   "execution_count": 14,
   "metadata": {
    "collapsed": false
   },
   "outputs": [
    {
     "name": "stdout",
     "output_type": "stream",
     "text": [
      "[Unit(\"Ry\"), Unit(\"2.17987e-18 J\"), Unit(\"2.17987e-11 erg\"), Unit(\"13.6057 eV\")]\n"
     ]
    }
   ],
   "source": [
    "x = u.Ry.decompose()\n",
    "\n",
    "print x.compose()"
   ]
  },
  {
   "cell_type": "code",
   "execution_count": 15,
   "metadata": {
    "collapsed": false
   },
   "outputs": [
    {
     "data": {
      "text/plain": [
       "[Unit(\"Hz\"), Unit(\"Bq\"), Unit(\"3.7e+10 Ci\")]"
      ]
     },
     "execution_count": 15,
     "metadata": {},
     "output_type": "execute_result"
    }
   ],
   "source": [
    "\"\"\" compound units \"\"\"\n",
    "(u.s**-1).compose()"
   ]
  },
  {
   "cell_type": "code",
   "execution_count": 16,
   "metadata": {
    "collapsed": false
   },
   "outputs": [
    {
     "data": {
      "text/plain": [
       "[Unit(\"Bq\"),\n",
       " Unit(\"Hz\"),\n",
       " Unit(\"6.62607e-34 J\"),\n",
       " Unit(\"6.62607e-27 erg\"),\n",
       " Unit(\"3.03966e-16 Ry\"),\n",
       " Unit(\"4.13567e-15 eV\"),\n",
       " Unit(\"3.33564e-11 k\"),\n",
       " Unit(\"9.71561e-09 pc\"),\n",
       " Unit(\"3.16881e-08 lyr\"),\n",
       " Unit(\"0.00200399 AU\"),\n",
       " Unit(\"0.431041 solRad\"),\n",
       " Unit(\"2.99792e+08 m\"),\n",
       " Unit(\"2.99792e+10 cm\"),\n",
       " Unit(\"3.7e+10 Ci\"),\n",
       " Unit(\"2.99792e+14 micron\"),\n",
       " Unit(\"2.99792e+18 Angstrom\"),\n",
       " Unit(\"2.99792e+06 k m2\"),\n",
       " Unit(\"3.33564e-09 / m\"),\n",
       " Unit(\"3.50331e-42 pc2 / m3\"),\n",
       " Unit(\"3.72675e-41 lyr2 / m3\"),\n",
       " Unit(\"1.49049e-31 AU2 / m3\"),\n",
       " Unit(\"6.89565e-27 solRad2 / m3\"),\n",
       " Unit(\"3.33564e-05 cm2 / m3\"),\n",
       " Unit(\"3335.64 micron2 / m3\"),\n",
       " Unit(\"3.33564e+11 Angstrom2 / m3\")]"
      ]
     },
     "execution_count": 16,
     "metadata": {},
     "output_type": "execute_result"
    }
   ],
   "source": [
    "(u.s**-1).compose(equivalencies=u.spectral())"
   ]
  },
  {
   "cell_type": "code",
   "execution_count": 17,
   "metadata": {
    "collapsed": false
   },
   "outputs": [
    {
     "name": "stdout",
     "output_type": "stream",
     "text": [
      "86.1733238496 eV\n"
     ]
    }
   ],
   "source": [
    "\"\"\" Temperature Energy Equivalency \"\"\"\n",
    "\n",
    "t_k = 1.e6*u.K\n",
    "\n",
    "print t_k.to(u.eV, equivalencies = u.temperature_energy())"
   ]
  },
  {
   "cell_type": "code",
   "execution_count": 18,
   "metadata": {
    "collapsed": false
   },
   "outputs": [
    {
     "data": {
      "text/plain": [
       "  Primary name | Unit definition | Aliases     \n",
       "[\n",
       "  Bq           | 1 / s           | becquerel    ,\n",
       "  Ci           | 2.7027e-11 / s  | curie        ,\n",
       "  Hz           | 1 / s           | Hertz, hertz ,\n",
       "]"
      ]
     },
     "execution_count": 18,
     "metadata": {},
     "output_type": "execute_result"
    }
   ],
   "source": [
    "u.Hz.find_equivalent_units()"
   ]
  },
  {
   "cell_type": "code",
   "execution_count": 19,
   "metadata": {
    "collapsed": false
   },
   "outputs": [
    {
     "data": {
      "text/plain": [
       "  Primary name | Unit definition        | Aliases              \n",
       "[\n",
       "  AU           | 1.49598e+11 m          | au, astronomical_unit ,\n",
       "  Angstrom     | 1e-10 m                | AA, angstrom          ,\n",
       "  Bq           | 1 / s                  | becquerel             ,\n",
       "  Ci           | 2.7027e-11 / s         | curie                 ,\n",
       "  Hz           | 1 / s                  | Hertz, hertz          ,\n",
       "  J            | kg m2 / s2             | Joule, joule          ,\n",
       "  Ry           | 2.17987e-18 kg m2 / s2 | rydberg               ,\n",
       "  cm           | 0.01 m                 | centimeter            ,\n",
       "  eV           | 1.60218e-19 kg m2 / s2 | electronvolt          ,\n",
       "  erg          | 1e-07 kg m2 / s2       |                       ,\n",
       "  k            | 100 / m                | Kayser, kayser        ,\n",
       "  lyr          | 9.46073e+15 m          | lightyear             ,\n",
       "  m            | irreducible            | meter                 ,\n",
       "  micron       | 1e-06 m                |                       ,\n",
       "  pc           | 3.08568e+16 m          | parsec                ,\n",
       "  solRad       | 6.95508e+08 m          | R_sun, Rsun           ,\n",
       "]"
      ]
     },
     "execution_count": 19,
     "metadata": {},
     "output_type": "execute_result"
    }
   ],
   "source": [
    "u.Hz.find_equivalent_units(equivalencies=u.spectral())"
   ]
  },
  {
   "cell_type": "code",
   "execution_count": 20,
   "metadata": {
    "collapsed": false
   },
   "outputs": [
    {
     "name": "stdout",
     "output_type": "stream",
     "text": [
      "True\n",
      "True\n"
     ]
    }
   ],
   "source": [
    "print u.m.is_equivalent(u.pc)\n",
    "print (u.m**3).is_equivalent(u.l)"
   ]
  },
  {
   "cell_type": "markdown",
   "metadata": {},
   "source": [
    "## Models and Fitting"
   ]
  },
  {
   "cell_type": "code",
   "execution_count": 28,
   "metadata": {
    "collapsed": false
   },
   "outputs": [
    {
     "name": "stdout",
     "output_type": "stream",
     "text": [
      "Model: Gaussian1D\n",
      "Inputs: (u'x',)\n",
      "Outputs: (u'y',)\n",
      "Model set size: 1\n",
      "Parameters:\n",
      "    amplitude mean stddev\n",
      "    --------- ---- ------\n",
      "          1.2  0.9    0.5\n",
      "Parameter('amplitude', value=1.2)\n",
      "Parameter('mean', value=0.9)\n",
      "Parameter('stddev', value=0.5)\n",
      "0.333644760544\n",
      "[ 0.87137884  1.07619607  1.1893806   1.17623841  1.04091417  0.82428907\n",
      "  0.58410271]\n"
     ]
    },
    {
     "data": {
      "image/png": "[encoded data removed]",
      "text/plain": [
       "<matplotlib.figure.Figure at 0x7f12b3b04210>"
      ]
     },
     "metadata": {},
     "output_type": "display_data"
    }
   ],
   "source": [
    "from astropy.modeling import models\n",
    "import numpy as np\n",
    "import matplotlib.pyplot as plt\n",
    "\n",
    "g = models.Gaussian1D(amplitude=1.2, mean=0.9, stddev=0.5)\n",
    "\n",
    "print (g)\n",
    "\n",
    "print g.amplitude\n",
    "print g.mean\n",
    "print g.stddev\n",
    "\n",
    "print g(0.1)\n",
    "\n",
    "x = np.linspace(0.5,1.5,7)\n",
    "y = g(x)\n",
    "print y\n",
    "\n",
    "plt.plot(x,y)\n",
    "plt.show()"
   ]
  },
  {
   "cell_type": "code",
   "execution_count": 32,
   "metadata": {
    "collapsed": false
   },
   "outputs": [
    {
     "data": {
      "image/png": "[encoded data removed]",
      "text/plain": [
       "<matplotlib.figure.Figure at 0x7f12bede3bd0>"
      ]
     },
     "metadata": {},
     "output_type": "display_data"
    }
   ],
   "source": [
    "import numpy as np\n",
    "from astropy.modeling import models, fitting\n",
    "import matplotlib.pyplot as plt\n",
    "\n",
    "# Generate face data\n",
    "np.random.seed(0)\n",
    "x = np.linspace(-5.,5.,200)\n",
    "y = 3*np.exp(-0.5*(x-1.3)**2 / 0.8**2)\n",
    "y += np.random.normal(0., 0.2, x.shape)\n",
    "\n",
    "# Fit the data using a box model\n",
    "t_init = models.Trapezoid1D(amplitude=1., x_0=0., width=1., slope=0.5)\n",
    "fit_t = fitting.LevMarLSQFitter()\n",
    "t = fit_t(t_init, x, y)\n",
    "\n",
    "# Fit the data using a Gaussian\n",
    "g_init = models.Gaussian1D(amplitude=1., mean=0., stddev=1.)\n",
    "fit_g = fitting.LevMarLSQFitter()\n",
    "g = fit_g(g_init, x, y)\n",
    "\n",
    "# Plot the data with the best-fit model\n",
    "# plt.figure(figsize=(8,5))\n",
    "plt.plot(x, y, 'ko')\n",
    "plt.plot(x, t(x), 'b-', lw=2, label='Trapezoid')\n",
    "plt.plot(x, g(x), 'r-', lw=2, label='Gaussian')\n",
    "plt.xlabel('Position')\n",
    "plt.ylabel('Flux')\n",
    "plt.legend(loc=2, fontsize='medium')\n",
    "plt.show()"
   ]
  },
  {
   "cell_type": "code",
   "execution_count": 33,
   "metadata": {
    "collapsed": false
   },
   "outputs": [
    {
     "name": "stdout",
     "output_type": "stream",
     "text": [
      "Optimization terminated successfully.    (Exit mode 0)\n",
      "            Current function value: 6.83285936044\n",
      "            Iterations: 14\n",
      "            Function evaluations: 137\n",
      "            Gradient evaluations: 14\n"
     ]
    },
    {
     "data": {
      "image/png": "[encoded data removed]",
      "text/plain": [
       "<matplotlib.figure.Figure at 0x7f12bafa3e10>"
      ]
     },
     "metadata": {},
     "output_type": "display_data"
    }
   ],
   "source": [
    "import numpy as np\n",
    "from astropy.modeling import models, fitting\n",
    "import matplotlib.pyplot as plt\n",
    "\n",
    "# Generate fake data\n",
    "np.random.seed(42)\n",
    "g1 = models.Gaussian1D(1, 0, 0.2)\n",
    "g2 = models.Gaussian1D(2.5, 0.5, 0.1)\n",
    "x = np.linspace(-1, 1, 200)\n",
    "y = g1(x) + g2(x) + np.random.normal(0., 0.2, x.shape)\n",
    "\n",
    "# Now to fit the data create a new superposition with initial\n",
    "# guesses for the parameters:\n",
    "gg_init = models.Gaussian1D(1, 0, 0.1) + models.Gaussian1D(2, 0.5, 0.1)\n",
    "fitter = fitting.SLSQPLSQFitter()\n",
    "gg_fit = fitter(gg_init, x, y)\n",
    "\n",
    "# Plot the data with the best-fit model\n",
    "#plt.figure(figsize=(8,5))\n",
    "plt.plot(x, y, 'ko')\n",
    "plt.plot(x, gg_fit(x), 'r-', lw=2)\n",
    "plt.xlabel('Position')\n",
    "plt.ylabel('Flux')\n",
    "plt.show()"
   ]
  },
  {
   "cell_type": "code",
   "execution_count": null,
   "metadata": {
    "collapsed": true
   },
   "outputs": [],
   "source": []
  }
 ],
 "metadata": {
  "kernelspec": {
   "display_name": "Python 2",
   "language": "python",
   "name": "python2"
  },
  "language_info": {
   "codemirror_mode": {
    "name": "ipython",
    "version": 2
   },
   "file_extension": ".py",
   "mimetype": "text/x-python",
   "name": "python",
   "nbconvert_exporter": "python",
   "pygments_lexer": "ipython2",
   "version": "2.7.11"
  }
 },
 "nbformat": 4,
 "nbformat_minor": 0
}
