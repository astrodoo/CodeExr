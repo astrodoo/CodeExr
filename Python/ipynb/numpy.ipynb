{
 "cells": [
  {
   "cell_type": "code",
   "execution_count": 1,
   "metadata": {},
   "outputs": [],
   "source": [
    "import numpy as np\n",
    "import matplotlib.pyplot as plt\n",
    "%matplotlib inline"
   ]
  },
  {
   "cell_type": "code",
   "execution_count": 2,
   "metadata": {},
   "outputs": [
    {
     "data": {
      "text/plain": [
       "array(3.1415927, dtype=float32)"
      ]
     },
     "execution_count": 2,
     "metadata": {},
     "output_type": "execute_result"
    }
   ],
   "source": [
    "np.cast['f'](np.pi)"
   ]
  },
  {
   "cell_type": "code",
   "execution_count": 3,
   "metadata": {},
   "outputs": [
    {
     "name": "stdout",
     "output_type": "stream",
     "text": [
      "<class 'numpy.ndarray'>\n",
      "[0 1 2 3]\n"
     ]
    }
   ],
   "source": [
    "a = np.array([0,1,2,3])\n",
    "print(type(a))\n",
    "\n",
    "print(a)"
   ]
  },
  {
   "cell_type": "code",
   "execution_count": 4,
   "metadata": {},
   "outputs": [
    {
     "name": "stdout",
     "output_type": "stream",
     "text": [
      "27.3 µs ± 209 ns per loop (mean ± std. dev. of 7 runs, 10000 loops each)\n",
      "607 ns ± 4.7 ns per loop (mean ± std. dev. of 7 runs, 1000000 loops each)\n"
     ]
    }
   ],
   "source": [
    "L = range(100)\n",
    "%timeit [i**2 for i in L]\n",
    "\n",
    "a = np.arange(100)\n",
    "%timeit a**2"
   ]
  },
  {
   "cell_type": "code",
   "execution_count": 5,
   "metadata": {},
   "outputs": [
    {
     "name": "stdout",
     "output_type": "stream",
     "text": [
      "Search results for 'square root'\n",
      "--------------------------------\n",
      "numpy.sqrt\n",
      "    Return the non-negative square-root of an array, element-wise.\n",
      "numpy.ma.sqrt\n",
      "    Return the non-negative square-root of an array, element-wise.\n",
      "numpy.roots\n",
      "    Return the roots of a polynomial with coefficients given in p.\n",
      "numpy.poly\n",
      "    Find the coefficients of a polynomial with the given sequence of roots.\n",
      "numpy.std\n",
      "    Compute the standard deviation along the specified axis.\n",
      "numpy.nanstd\n",
      "    Compute the standard deviation along the specified axis, while\n",
      "numpy.poly1d\n",
      "    A one-dimensional polynomial class.\n",
      "numpy.linalg.cond\n",
      "    Compute the condition number of a matrix.\n",
      "numpy.histogram_bin_edges\n",
      "    Function to calculate only the edges of the bins used by the `histogram`"
     ]
    }
   ],
   "source": [
    "np.lookfor('square root')"
   ]
  },
  {
   "cell_type": "code",
   "execution_count": 6,
   "metadata": {},
   "outputs": [
    {
     "data": {
      "text/plain": [
       "array([1, 6, 1, 2])"
      ]
     },
     "execution_count": 6,
     "metadata": {},
     "output_type": "execute_result"
    }
   ],
   "source": [
    "import numpy as np\n",
    "def addsubtract(a,b):\n",
    "    if a > b:\n",
    "        return a - b\n",
    "    else:\n",
    "        return a + b\n",
    "    \n",
    "vec_addsubtract = np.vectorize(addsubtract)\n",
    "\n",
    "vec_addsubtract([0,3,6,9],[1,3,5,7])"
   ]
  },
  {
   "cell_type": "markdown",
   "metadata": {},
   "source": [
    "# Arrays"
   ]
  },
  {
   "cell_type": "code",
   "execution_count": 7,
   "metadata": {},
   "outputs": [
    {
     "name": "stdout",
     "output_type": "stream",
     "text": [
      "[0 1 2 3]\n",
      "1\n",
      "(4,)\n",
      "4\n",
      "<class 'numpy.ndarray'>\n",
      "[0 1 2 3]\n",
      "<class 'list'>\n",
      "[0, 1, 2, 3]\n"
     ]
    }
   ],
   "source": [
    "a = np.array([0,1,2,3])\n",
    "\n",
    "print(a)\n",
    "print(a.ndim)\n",
    "print(a.shape)\n",
    "print(len(a))\n",
    "\n",
    "b = a.copy()\n",
    "print(type(b))\n",
    "print(b)\n",
    "c = b.tolist()\n",
    "print(type(c))\n",
    "print(c)"
   ]
  },
  {
   "cell_type": "code",
   "execution_count": 8,
   "metadata": {},
   "outputs": [
    {
     "name": "stdout",
     "output_type": "stream",
     "text": [
      "[[0 1 2]\n",
      " [3 4 5]]\n",
      "2\n",
      "(2, 3)\n",
      "2\n",
      "[[[1]\n",
      "  [2]]\n",
      "\n",
      " [[3]\n",
      "  [4]]]\n",
      "3\n",
      "(2, 2, 1)\n",
      "2\n"
     ]
    }
   ],
   "source": [
    "b = np.array([[0,1,2],[3,4,5]])    # 2x3 array\n",
    "print(b)\n",
    "print(b.ndim)\n",
    "print(b.shape)\n",
    "print(len(b))\n",
    "\n",
    "c = np.array([[[1],[2]],[[3],[4]]])\n",
    "print(c)\n",
    "print(c.ndim)\n",
    "print(c.shape)\n",
    "print(len(c))"
   ]
  },
  {
   "cell_type": "code",
   "execution_count": 9,
   "metadata": {},
   "outputs": [
    {
     "name": "stdout",
     "output_type": "stream",
     "text": [
      "[0 1 2 3 4 5 6 7 8 9]\n",
      "[1 3 5 7]\n",
      "[0.  0.2 0.4 0.6 0.8 1. ]\n",
      "[0.   0.25 0.5  0.75 1.  ]\n"
     ]
    }
   ],
   "source": [
    "a = np.arange(10)\n",
    "print(a)\n",
    "\n",
    "b = np.arange(1,9,2)\n",
    "print(b)\n",
    "\n",
    "c = np.linspace(0,1,6)  # start, end, num-points\n",
    "print(c)\n",
    "\n",
    "d = np.linspace(0,1,5,endpoint=True)\n",
    "print(d)"
   ]
  },
  {
   "cell_type": "code",
   "execution_count": 10,
   "metadata": {},
   "outputs": [
    {
     "name": "stdout",
     "output_type": "stream",
     "text": [
      "[[1. 1. 1.]\n",
      " [1. 1. 1.]\n",
      " [1. 1. 1.]]\n",
      "[[0. 0.]\n",
      " [0. 0.]]\n",
      "[[1. 0. 0.]\n",
      " [0. 1. 0.]\n",
      " [0. 0. 1.]]\n",
      "[[1 0 0 0]\n",
      " [0 2 0 0]\n",
      " [0 0 3 0]\n",
      " [0 0 0 4]]\n"
     ]
    }
   ],
   "source": [
    "a = np.ones((3,3))   # tuple\n",
    "print(a)\n",
    "\n",
    "b = np.zeros((2,2))\n",
    "print(b)\n",
    "\n",
    "c = np.eye(3)\n",
    "print(c)\n",
    "\n",
    "d = np.diag(np.array([1,2,3,4]))\n",
    "print(d)"
   ]
  },
  {
   "cell_type": "code",
   "execution_count": 11,
   "metadata": {},
   "outputs": [
    {
     "name": "stdout",
     "output_type": "stream",
     "text": [
      "[0.50755507 0.0211933  0.43352176 0.44631306]\n",
      "[0.23881999 0.83024573 0.74476418 0.586479  ]\n"
     ]
    }
   ],
   "source": [
    "a = np.random.rand(4)   # uniform\n",
    "print(a)\n",
    "\n",
    "b = np.random.rand(4)   # Gaussian\n",
    "print(b)\n",
    "\n",
    "np.random.seed(1234)  # seeting the random seed"
   ]
  },
  {
   "cell_type": "code",
   "execution_count": 12,
   "metadata": {},
   "outputs": [
    {
     "name": "stdout",
     "output_type": "stream",
     "text": [
      "[ 0  1  2  3  4 10 10 10 10 10]\n",
      "[0 1 2 3 4 4 3 2 1 0]\n"
     ]
    }
   ],
   "source": [
    "a = np.arange(10)\n",
    "a[5:] = 10\n",
    "print(a)\n",
    "\n",
    "b = np.arange(5)\n",
    "a[5:] = b[::-1]\n",
    "print(a)"
   ]
  },
  {
   "cell_type": "code",
   "execution_count": 13,
   "metadata": {},
   "outputs": [
    {
     "name": "stdout",
     "output_type": "stream",
     "text": [
      "[[ 0  1  2  3  4]\n",
      " [10 11 12 13 14]\n",
      " [20 21 22 23 24]\n",
      " [30 31 32 33 34]\n",
      " [40 41 42 43 44]\n",
      " [50 51 52 53 54]]\n"
     ]
    }
   ],
   "source": [
    "a = np.arange(5) + np.arange(0,51,10)[:,np.newaxis]\n",
    "print(a)"
   ]
  },
  {
   "cell_type": "code",
   "execution_count": 14,
   "metadata": {},
   "outputs": [
    {
     "name": "stdout",
     "output_type": "stream",
     "text": [
      "[[ 0 10 20 30]\n",
      " [ 0 10 20 30]\n",
      " [ 0 10 20 30]]\n",
      "[[ 0  0  0]\n",
      " [10 10 10]\n",
      " [20 20 20]\n",
      " [30 30 30]]\n",
      "[0 0 0]\n",
      "[10 10 10]\n",
      "[20 20 20]\n",
      "[30 30 30]\n",
      "[0 0 0]\n"
     ]
    }
   ],
   "source": [
    "a = np.tile(np.arange(0,40,10),(3,1))\n",
    "print(a)\n",
    "a = a.T\n",
    "print(a)\n",
    "\n",
    "b,c,d,e = a\n",
    "print(b)\n",
    "print(c)\n",
    "print(d)\n",
    "print(e)\n",
    "\n",
    "print(a[0])"
   ]
  },
  {
   "cell_type": "code",
   "execution_count": 15,
   "metadata": {},
   "outputs": [
    {
     "name": "stdout",
     "output_type": "stream",
     "text": [
      "[ 0 10 20 30]\n",
      "(4,)\n",
      "[[ 0]\n",
      " [10]\n",
      " [20]\n",
      " [30]]\n",
      "(4, 1)\n",
      "[[ 1  2  3]\n",
      " [11 12 13]\n",
      " [21 22 23]\n",
      " [31 32 33]]\n",
      "(4, 3)\n"
     ]
    }
   ],
   "source": [
    "a = np.arange(0,40,10)\n",
    "print(a)\n",
    "print(a.shape)\n",
    "\n",
    "a = a[:, np.newaxis]   # adds a new axis  -> 2D array\n",
    "print(a)\n",
    "print(a.shape)\n",
    "\n",
    "b = np.array([1,2,3])\n",
    "c = a + b\n",
    "print(c)\n",
    "print(c.shape)"
   ]
  },
  {
   "cell_type": "code",
   "execution_count": 16,
   "metadata": {},
   "outputs": [
    {
     "name": "stdout",
     "output_type": "stream",
     "text": [
      "[0 1 2 3 4]\n",
      "[[0]\n",
      " [1]\n",
      " [2]\n",
      " [3]\n",
      " [4]]\n",
      "[[0.         1.         2.         3.         4.        ]\n",
      " [1.         1.41421356 2.23606798 3.16227766 4.12310563]\n",
      " [2.         2.23606798 2.82842712 3.60555128 4.47213595]\n",
      " [3.         3.16227766 3.60555128 4.24264069 5.        ]\n",
      " [4.         4.12310563 4.47213595 5.         5.65685425]]\n",
      "(5, 5)\n"
     ]
    },
    {
     "data": {
      "text/plain": [
       "<matplotlib.colorbar.Colorbar at 0x7fe5892393d0>"
      ]
     },
     "execution_count": 16,
     "metadata": {},
     "output_type": "execute_result"
    },
    {
     "data": {
      "image/png": "[encoded data removed]",
      "text/plain": [
       "<Figure size 800x600 with 2 Axes>"
      ]
     },
     "metadata": {},
     "output_type": "display_data"
    }
   ],
   "source": [
    "import matplotlib.pyplot as plt\n",
    "import numpy as np\n",
    "%matplotlib inline\n",
    "\n",
    "x, y = np.arange(5), np.arange(5)[:, np.newaxis]\n",
    "print(x)\n",
    "print(y)\n",
    "distance = np.sqrt(x**2 + y**2)\n",
    "print(distance)\n",
    "print(distance.shape)\n",
    "\n",
    "plt.pcolor(distance)\n",
    "plt.colorbar()"
   ]
  },
  {
   "cell_type": "code",
   "execution_count": 17,
   "metadata": {},
   "outputs": [
    {
     "name": "stdout",
     "output_type": "stream",
     "text": [
      "[[0]\n",
      " [1]\n",
      " [2]\n",
      " [3]\n",
      " [4]]\n",
      "[[0 1 2 3 4]]\n",
      "(5, 1) (1, 5)\n",
      "[[0.         1.         2.         3.         4.        ]\n",
      " [1.         1.41421356 2.23606798 3.16227766 4.12310563]\n",
      " [2.         2.23606798 2.82842712 3.60555128 4.47213595]\n",
      " [3.         3.16227766 3.60555128 4.24264069 5.        ]\n",
      " [4.         4.12310563 4.47213595 5.         5.65685425]]\n"
     ]
    }
   ],
   "source": [
    "x, y = np.ogrid[0:5, 0:5]\n",
    "print(x)\n",
    "print(y)\n",
    "\n",
    "print(x.shape, y.shape)\n",
    "\n",
    "distance = np.sqrt(x**2 + y**2)\n",
    "print(distance)"
   ]
  },
  {
   "cell_type": "code",
   "execution_count": 18,
   "metadata": {},
   "outputs": [
    {
     "name": "stdout",
     "output_type": "stream",
     "text": [
      "[[0 0 0 0]\n",
      " [1 1 1 1]\n",
      " [2 2 2 2]\n",
      " [3 3 3 3]]\n",
      "[[0 1 2 3]\n",
      " [0 1 2 3]\n",
      " [0 1 2 3]\n",
      " [0 1 2 3]]\n",
      "(4, 4) (4, 4)\n"
     ]
    }
   ],
   "source": [
    "x, y = np.mgrid[0:4, 0:4]\n",
    "print(x)\n",
    "print(y)\n",
    "print(x.shape, y.shape)"
   ]
  },
  {
   "cell_type": "markdown",
   "metadata": {},
   "source": [
    "## Array shaping"
   ]
  },
  {
   "cell_type": "code",
   "execution_count": 19,
   "metadata": {},
   "outputs": [
    {
     "name": "stdout",
     "output_type": "stream",
     "text": [
      "[[1 2 3]\n",
      " [4 5 6]]\n",
      "(2, 3)\n",
      "[1 2 3 4 5 6]\n",
      "[[1 4]\n",
      " [2 5]\n",
      " [3 6]]\n",
      "[1 4 2 5 3 6]\n",
      "[[1 2]\n",
      " [3 4]\n",
      " [5 6]]\n",
      "(3, 2)\n",
      "[[1 2]\n",
      " [3 4]\n",
      " [5 6]]\n",
      "(3, 2)\n"
     ]
    }
   ],
   "source": [
    "a = np.array([[1,2,3],[4,5,6]])\n",
    "print(a)\n",
    "print(a.shape)\n",
    "print(a.ravel())\n",
    "print(a.T)\n",
    "print(a.T.ravel())\n",
    "\n",
    "b = a.ravel()\n",
    "b = b.reshape((3,2))\n",
    "print(b)\n",
    "print(b.shape)\n",
    "\n",
    "c = a.reshape((3,-1))   # unsapecified (-1) value is inferred\n",
    "print(c)\n",
    "print(c.shape)"
   ]
  },
  {
   "cell_type": "code",
   "execution_count": 20,
   "metadata": {},
   "outputs": [
    {
     "name": "stdout",
     "output_type": "stream",
     "text": [
      "[0 1 2 3]\n",
      "[0 1 2 3 0 0 0 0]\n",
      "[0 1 2 3 0 0 0 0]\n"
     ]
    }
   ],
   "source": [
    "a = np.arange(4)\n",
    "print(a)\n",
    "#b = a\n",
    "c = a.copy()\n",
    "a.resize((8,))\n",
    "print(a)\n",
    "\n",
    "#b.resize((8,))   # referencing array cannot be resized !!     \n",
    "#print b\n",
    "\n",
    "c.resize((8,))\n",
    "print(c)"
   ]
  },
  {
   "cell_type": "code",
   "execution_count": 21,
   "metadata": {},
   "outputs": [
    {
     "name": "stdout",
     "output_type": "stream",
     "text": [
      "original array\n",
      "[[1 2]\n",
      " [3 4]]\n",
      "(2, 2)\n",
      "extended array\n",
      "(2, 2, 3)\n",
      "[[1 2]\n",
      " [3 4]]\n",
      "[[1 2]\n",
      " [3 4]]\n",
      "[[1 2]\n",
      " [3 4]]\n"
     ]
    }
   ],
   "source": [
    "\"\"\" copy 2D to 3D arrays by np.repeat\"\"\"\n",
    "import numpy as np\n",
    "\n",
    "a = np.array([[1, 2], [3, 4]])\n",
    "print(\"original array\")\n",
    "print(a)\n",
    "print(a.shape)\n",
    "# (2,  2)\n",
    "\n",
    "# indexing with np.newaxis inserts a new 3rd dimension, which we then repeat the\n",
    "# array along, (you can achieve the same effect by indexing with None, see below)\n",
    "b = np.repeat(a[:, :, np.newaxis], 3, axis=2)\n",
    "\n",
    "print(\"extended array\")\n",
    "print(b.shape)\n",
    "# (2, 2, 3)\n",
    "\n",
    "print(b[:, :, 0])\n",
    "# [[1 2]\n",
    "#  [1 2]]\n",
    "\n",
    "print(b[:, :, 1])\n",
    "# [[1 2]\n",
    "#  [1 2]]\n",
    "\n",
    "print(b[:, :, 2])\n",
    "# [[1 2]\n",
    "#  [1 2]]"
   ]
  },
  {
   "cell_type": "markdown",
   "metadata": {},
   "source": [
    "## Sort"
   ]
  },
  {
   "cell_type": "code",
   "execution_count": 22,
   "metadata": {},
   "outputs": [
    {
     "name": "stdout",
     "output_type": "stream",
     "text": [
      "[[3 4 5]\n",
      " [1 1 2]]\n",
      "[[3 4 5]\n",
      " [1 1 2]]\n"
     ]
    }
   ],
   "source": [
    "a = np.array([[4,3,5],[1,2,1]])\n",
    "b = np.sort(a,axis=1)\n",
    "\n",
    "print(b)\n",
    "\n",
    "# in-place sort\n",
    "a.sort(axis=1)\n",
    "print(a)"
   ]
  },
  {
   "cell_type": "code",
   "execution_count": 23,
   "metadata": {},
   "outputs": [
    {
     "name": "stdout",
     "output_type": "stream",
     "text": [
      "[4. 3. 1. 2.]\n",
      "[2 3 1 0]\n",
      "[1. 2. 3. 4.]\n"
     ]
    }
   ],
   "source": [
    "a = np.array([4.,3.,1.,2.])\n",
    "j = np.argsort(a)\n",
    "print(a)\n",
    "print(j)\n",
    "print(a[j])"
   ]
  },
  {
   "cell_type": "code",
   "execution_count": 24,
   "metadata": {
    "scrolled": true
   },
   "outputs": [
    {
     "name": "stdout",
     "output_type": "stream",
     "text": [
      "0 2\n",
      "4.0 1.0\n"
     ]
    }
   ],
   "source": [
    "a = np.array([4.,3.,1.,2.])\n",
    "j_max = np.argmax(a)\n",
    "j_min = np.argmin(a)\n",
    "\n",
    "print(j_max, j_min)\n",
    "print(a[j_max], a[j_min])"
   ]
  },
  {
   "cell_type": "markdown",
   "metadata": {},
   "source": [
    "## Data type"
   ]
  },
  {
   "cell_type": "code",
   "execution_count": 25,
   "metadata": {},
   "outputs": [
    {
     "name": "stdout",
     "output_type": "stream",
     "text": [
      "<class 'numpy.ndarray'>\n",
      "int64\n",
      "<class 'numpy.ndarray'>\n",
      "float64\n",
      "<class 'numpy.ndarray'>\n",
      "float64\n"
     ]
    }
   ],
   "source": [
    "a = np.array([1,2,3,4])\n",
    "print(type(a))\n",
    "print(a.dtype)\n",
    "\n",
    "b = np.array([1.,2.,3.,4.])\n",
    "print(type(b))\n",
    "print(b.dtype)\n",
    "\n",
    "c = np.array([1,2,3,4], dtype=float)\n",
    "print(type(c))\n",
    "print(c.dtype)"
   ]
  },
  {
   "cell_type": "code",
   "execution_count": 26,
   "metadata": {},
   "outputs": [
    {
     "name": "stdout",
     "output_type": "stream",
     "text": [
      "complex128\n",
      "bool\n",
      "<U7\n"
     ]
    }
   ],
   "source": [
    "d = np.array([1+2j, 3+4j, 5+6*1j])\n",
    "print(d.dtype)\n",
    "\n",
    "e = np.array([True, False, False, True])\n",
    "print(e.dtype)\n",
    "\n",
    "f = np.array(['Bonjour', 'Hello', 'Hallo'])\n",
    "print(f.dtype)"
   ]
  },
  {
   "cell_type": "code",
   "execution_count": 27,
   "metadata": {},
   "outputs": [
    {
     "name": "stdout",
     "output_type": "stream",
     "text": [
      "[1 1 1]\n"
     ]
    }
   ],
   "source": [
    "a = np.array([1.7,1.2,1.6])\n",
    "b = a.astype(int)   # truncate to integer\n",
    "print(b)"
   ]
  },
  {
   "cell_type": "code",
   "execution_count": 28,
   "metadata": {},
   "outputs": [
    {
     "name": "stdout",
     "output_type": "stream",
     "text": [
      "[1. 2. 2. 2. 4. 4.]\n",
      "[1 2 2 2 4 4]\n"
     ]
    }
   ],
   "source": [
    "a = np.array([1.2,1.5,1.6,2.5,3.5,4.5])\n",
    "b = np.around(a)\n",
    "print(b)\n",
    "\n",
    "c = np.around(a).astype(int)\n",
    "print(c)"
   ]
  },
  {
   "cell_type": "code",
   "execution_count": 29,
   "metadata": {},
   "outputs": [
    {
     "name": "stdout",
     "output_type": "stream",
     "text": [
      "int64\n",
      "2147483647 2147483647\n",
      "9223372036854775807 9223372036854775807\n"
     ]
    }
   ],
   "source": [
    "\"\"\" Integer \n",
    "int8, int16, int32, int64 (same as int on 64-bit platform) \"\"\"\n",
    "\n",
    "print(np.array([1],dtype=int).dtype)\n",
    "print(np.iinfo(np.int32).max, 2**31 - 1)\n",
    "print(np.iinfo(np.int64).max, 2**63 - 1)"
   ]
  },
  {
   "cell_type": "code",
   "execution_count": 30,
   "metadata": {},
   "outputs": [
    {
     "name": "stdout",
     "output_type": "stream",
     "text": [
      "4294967295 4294967295\n",
      "18446744073709551615 18446744073709551615\n"
     ]
    }
   ],
   "source": [
    "\"\"\" Unsigned Integer \n",
    "uint8, uint16, uint32, uint64 \"\"\"\n",
    "\n",
    "print(np.iinfo(np.uint32).max, 2**32 - 1)\n",
    "print(np.iinfo(np.uint64).max, 2**64 - 1)"
   ]
  },
  {
   "cell_type": "code",
   "execution_count": 31,
   "metadata": {},
   "outputs": [
    {
     "name": "stdout",
     "output_type": "stream",
     "text": [
      "1.1920929e-07\n",
      "2.220446049250313e-16\n",
      "True\n",
      "False\n"
     ]
    }
   ],
   "source": [
    "\"\"\" Float \n",
    "float16, float32, float64 (same as float), \n",
    "float96, float128 (same as np.longdouble) \"\"\"\n",
    "\n",
    "print(np.finfo(np.float32).eps)  # The smallest representable positive number\n",
    "print(np.finfo(np.float64).eps)  # same as float\n",
    "\n",
    "print(np.float32(1e-8) + np.float32(1) == 1)\n",
    "print(np.float64(1e-8) + np.float64(1) == 1)"
   ]
  },
  {
   "cell_type": "markdown",
   "metadata": {},
   "source": [
    "### Structured Data Type"
   ]
  },
  {
   "cell_type": "code",
   "execution_count": 32,
   "metadata": {},
   "outputs": [
    {
     "name": "stdout",
     "output_type": "stream",
     "text": [
      "1\n",
      "(6,)\n",
      "[('sensor_code', 'S4'), ('position', '<f8'), ('value', '<f8')]\n",
      "('sensor_code', 'position', 'value')\n",
      "[(b'', 0., 0.) (b'', 0., 0.) (b'', 0., 0.) (b'', 0., 0.) (b'', 0., 0.)\n",
      " (b'', 0., 0.)]\n",
      "[(b'ALFA', 1. , 0.37) (b'BETA', 1. , 0.11) (b'TAU', 1. , 0.13)\n",
      " (b'ALFA', 1.5, 0.37) (b'ALFA', 3. , 0.11) (b'TAU', 1.2, 0.13)]\n",
      "[b'ALFA' b'BETA' b'TAU' b'ALFA' b'ALFA' b'TAU']\n",
      "b'BETA'\n",
      "(b'ALFA', 1., 0.37)\n",
      "float64\n",
      "[(1. , 0.37) (1. , 0.11) (1. , 0.13) (1.5, 0.37) (3. , 0.11) (1.2, 0.13)]\n",
      "[]\n",
      "[]\n"
     ]
    }
   ],
   "source": [
    "\"\"\" Structured data type \"\"\"\n",
    "\n",
    "samples = np.zeros((6,),dtype=[('sensor_code','S4'),\n",
    "                               ('position',float),('value',float)])\n",
    "print(samples.ndim)\n",
    "print(samples.shape)\n",
    "print(samples.dtype)\n",
    "print(samples.dtype.names)\n",
    "\n",
    "print(samples)\n",
    "samples[:] = [('ALFA', 1, 0.37), ('BETA', 1, 0.11), ('TAU', 1, 0.13),\n",
    "              ('ALFA', 1.5, 0.37), ('ALFA', 3, 0.11), ('TAU', 1.2, 0.13)]\n",
    "print(samples)\n",
    "print(samples['sensor_code'])\n",
    "print(samples['sensor_code'][1])\n",
    "print(samples[0])\n",
    "print(samples['position'].dtype)\n",
    "print(samples[['position', 'value']])\n",
    "print(samples[samples['sensor_code'] == 'ALFA'])\n",
    "print(samples['position'][samples['sensor_code'] == 'ALFA'])"
   ]
  },
  {
   "cell_type": "code",
   "execution_count": 33,
   "metadata": {},
   "outputs": [
    {
     "data": {
      "text/plain": [
       "array([(1, 2., b'Hello'), (2, 3., b'World')],\n",
       "      dtype=[('foo', '<i4'), ('bar', '<f4'), ('baz', 'S10')])"
      ]
     },
     "execution_count": 33,
     "metadata": {},
     "output_type": "execute_result"
    }
   ],
   "source": [
    "x = np.array([(1,2.,'Hello'), (2,3.,\"World\")],dtype=[('foo', 'i4'),('bar', 'f4'), ('baz', 'S10')])\n",
    "x"
   ]
  },
  {
   "cell_type": "code",
   "execution_count": 34,
   "metadata": {},
   "outputs": [
    {
     "data": {
      "text/plain": [
       "array([([0, 0, 0], 0., [[0., 0., 0.], [0., 0., 0.]]),\n",
       "       ([0, 0, 0], 0., [[0., 0., 0.], [0., 0., 0.]]),\n",
       "       ([0, 0, 0], 0., [[0., 0., 0.], [0., 0., 0.]])],\n",
       "      dtype=[('f0', 'i1', (3,)), ('f1', '<f4'), ('f2', '<f8', (2, 3))])"
      ]
     },
     "execution_count": 34,
     "metadata": {},
     "output_type": "execute_result"
    }
   ],
   "source": [
    "\"\"\" Structured Arrays \n",
    "    1) String argument\n",
    "\"\"\" \n",
    "\n",
    "x = np.zeros(3, dtype='3int8, float32, (2,3)float64')\n",
    "x"
   ]
  },
  {
   "cell_type": "code",
   "execution_count": 35,
   "metadata": {},
   "outputs": [
    {
     "data": {
      "text/plain": [
       "array([0, 0, 0],\n",
       "      dtype=(numpy.int32, [('r', 'u1'), ('g', 'u1'), ('b', 'u1'), ('a', 'u1')]))"
      ]
     },
     "execution_count": 35,
     "metadata": {},
     "output_type": "execute_result"
    }
   ],
   "source": [
    "\"\"\" Structured Arrays \n",
    "    2) Tuple argument\n",
    "\"\"\" \n",
    "\n",
    "x = np.zeros(3, dtype=('i4',[('r','u1'), ('g','u1'), ('b','u1'), ('a','u1')]))\n",
    "x"
   ]
  },
  {
   "cell_type": "code",
   "execution_count": 36,
   "metadata": {},
   "outputs": [
    {
     "data": {
      "text/plain": [
       "array([(0., 0., [[0., 0.], [0., 0.]]), (0., 0., [[0., 0.], [0., 0.]]),\n",
       "       (0., 0., [[0., 0.], [0., 0.]])],\n",
       "      dtype=[('x', '<f4'), ('y', '<f4'), ('value', '<f4', (2, 2))])"
      ]
     },
     "execution_count": 36,
     "metadata": {},
     "output_type": "execute_result"
    }
   ],
   "source": [
    "\"\"\" Structured Arrays \n",
    "    3) List argument\n",
    "\"\"\" \n",
    "\n",
    "x = np.zeros(3, dtype=[('x','f4'),('y',np.float32),('value','f4',(2,2))])\n",
    "x"
   ]
  },
  {
   "cell_type": "code",
   "execution_count": 37,
   "metadata": {},
   "outputs": [
    {
     "data": {
      "text/plain": [
       "array([(0, 0.), (0, 0.), (0, 0.)],\n",
       "      dtype=[('col1', '<i4'), ('col2', '<f4')])"
      ]
     },
     "execution_count": 37,
     "metadata": {},
     "output_type": "execute_result"
    }
   ],
   "source": [
    "\"\"\" Structured Arrays \n",
    "    4) dictionary argument\n",
    "\"\"\" \n",
    "\n",
    "x = np.zeros(3, dtype={'names':['col1', 'col2'], 'formats':['i4','f4']})\n",
    "x"
   ]
  },
  {
   "cell_type": "markdown",
   "metadata": {},
   "source": [
    "## Maskedarray (Missing Data)"
   ]
  },
  {
   "cell_type": "code",
   "execution_count": 38,
   "metadata": {
    "tags": []
   },
   "outputs": [
    {
     "data": {
      "text/plain": [
       "\u001b[0;31mType:\u001b[0m        module\n",
       "\u001b[0;31mString form:\u001b[0m <module 'numpy.ma' from '/Users/astrodoo/opt/anaconda3/lib/python3.8/site-packages/numpy/ma/__init__.py'>\n",
       "\u001b[0;31mFile:\u001b[0m        ~/opt/anaconda3/lib/python3.8/site-packages/numpy/ma/__init__.py\n",
       "\u001b[0;31mDocstring:\u001b[0m  \n",
       "=============\n",
       "Masked Arrays\n",
       "=============\n",
       "\n",
       "Arrays sometimes contain invalid or missing data.  When doing operations\n",
       "on such arrays, we wish to suppress invalid values, which is the purpose masked\n",
       "arrays fulfill (an example of typical use is given below).\n",
       "\n",
       "For example, examine the following array:\n",
       "\n",
       ">>> x = np.array([2, 1, 3, np.nan, 5, 2, 3, np.nan])\n",
       "\n",
       "When we try to calculate the mean of the data, the result is undetermined:\n",
       "\n",
       ">>> np.mean(x)\n",
       "nan\n",
       "\n",
       "The mean is calculated using roughly ``np.sum(x)/len(x)``, but since\n",
       "any number added to ``NaN`` [1]_ produces ``NaN``, this doesn't work.  Enter\n",
       "masked arrays:\n",
       "\n",
       ">>> m = np.ma.masked_array(x, np.isnan(x))\n",
       ">>> m\n",
       "masked_array(data = [2.0 1.0 3.0 -- 5.0 2.0 3.0 --],\n",
       "      mask = [False False False  True False False False  True],\n",
       "      fill_value=1e+20)\n",
       "\n",
       "Here, we construct a masked array that suppress all ``NaN`` values.  We\n",
       "may now proceed to calculate the mean of the other values:\n",
       "\n",
       ">>> np.mean(m)\n",
       "2.6666666666666665\n",
       "\n",
       ".. [1] Not-a-Number, a floating point value that is the result of an\n",
       "       invalid operation.\n",
       "\n",
       ".. moduleauthor:: Pierre Gerard-Marchant\n",
       ".. moduleauthor:: Jarrod Millman\n"
      ]
     },
     "metadata": {},
     "output_type": "display_data"
    }
   ],
   "source": [
    "?np.ma"
   ]
  },
  {
   "cell_type": "code",
   "execution_count": 39,
   "metadata": {},
   "outputs": [
    {
     "data": {
      "text/plain": [
       "masked_array(data=[1, --, 3, --],\n",
       "             mask=[False,  True, False,  True],\n",
       "       fill_value=999999)"
      ]
     },
     "execution_count": 39,
     "metadata": {},
     "output_type": "execute_result"
    }
   ],
   "source": [
    "x = np.ma.array([1,2,3,4], mask=[0,1,0,1])\n",
    "x"
   ]
  },
  {
   "cell_type": "code",
   "execution_count": 40,
   "metadata": {},
   "outputs": [
    {
     "data": {
      "text/plain": [
       "masked_array(data=[2, --, --, --],\n",
       "             mask=[False,  True,  True,  True],\n",
       "       fill_value=999999)"
      ]
     },
     "execution_count": 40,
     "metadata": {},
     "output_type": "execute_result"
    }
   ],
   "source": [
    "y = np.ma.array([1,2,3,4], mask=[0,1,1,1])\n",
    "x+y"
   ]
  },
  {
   "cell_type": "code",
   "execution_count": 41,
   "metadata": {},
   "outputs": [
    {
     "data": {
      "text/plain": [
       "array([1.        ,        nan, 1.41421356,        nan])"
      ]
     },
     "execution_count": 41,
     "metadata": {},
     "output_type": "execute_result"
    }
   ],
   "source": [
    "np.sqrt([1,-1,2,-2])"
   ]
  },
  {
   "cell_type": "code",
   "execution_count": 42,
   "metadata": {},
   "outputs": [
    {
     "data": {
      "text/plain": [
       "masked_array(data=[1.0, --, 1.4142135623730951, --],\n",
       "             mask=[False,  True, False,  True],\n",
       "       fill_value=1e+20)"
      ]
     },
     "execution_count": 42,
     "metadata": {},
     "output_type": "execute_result"
    }
   ],
   "source": [
    "np.ma.sqrt([1,-1,2,-2])"
   ]
  },
  {
   "cell_type": "code",
   "execution_count": 43,
   "metadata": {},
   "outputs": [
    {
     "name": "stdout",
     "output_type": "stream",
     "text": [
      "nan\n",
      "[2.0 1.0 3.0 -- 5.0 2.0 3.0 --]\n",
      "2.6666666666666665 2.6666666666666665\n"
     ]
    }
   ],
   "source": [
    "x = np.array([2, 1, 3, np.nan, 5, 2, 3, np.nan])\n",
    "print(np.mean(x))\n",
    "\n",
    "m = np.ma.masked_array(x, np.isnan(x))\n",
    "print(m)\n",
    "print(np.mean(m), (2.+1.+3.+5.+2.+3.)/6.)"
   ]
  },
  {
   "cell_type": "markdown",
   "metadata": {},
   "source": [
    "## Copies & Views"
   ]
  },
  {
   "cell_type": "code",
   "execution_count": 44,
   "metadata": {},
   "outputs": [
    {
     "name": "stdout",
     "output_type": "stream",
     "text": [
      "[0 1 2 3 4 5 6 7 8 9]\n",
      "[0 2 4 6 8]\n",
      "True\n",
      "[12  2  4  6  8]\n",
      "[12  1  2  3  4  5  6  7  8  9]\n",
      "False\n",
      "[1 2 4 6 8]\n",
      "[12  1  2  3  4  5  6  7  8  9]\n"
     ]
    }
   ],
   "source": [
    "a = np.arange(10)\n",
    "print(a)\n",
    "\n",
    "b = a[::2]\n",
    "print(b)\n",
    "\n",
    "print(np.may_share_memory(a,b))\n",
    "\n",
    "b[0] = 12\n",
    "print(b)\n",
    "print(a)\n",
    "\n",
    "c = a[::2].copy()  # not share the memory. Copy of the array\n",
    "print(np.may_share_memory(a,c))\n",
    "c[0] = 1\n",
    "print(c)\n",
    "print(a)"
   ]
  },
  {
   "cell_type": "code",
   "execution_count": 45,
   "metadata": {},
   "outputs": [
    {
     "name": "stdout",
     "output_type": "stream",
     "text": [
      "[10  3  8  0 19 10 11  9 10  6  0 20 12  7 14]\n",
      "[False  True False  True False False False  True False  True  True False\n",
      "  True False False]\n",
      "[ 3  0  9  6  0 12]\n",
      "[10 -1  8 -1 19 10 11 -1 10 -1 -1 20 -1  7 14]\n"
     ]
    },
    {
     "name": "stderr",
     "output_type": "stream",
     "text": [
      "<ipython-input-45-2cf0da781df9>:2: DeprecationWarning: This function is deprecated. Please call randint(0, 20 + 1) instead\n",
      "  a = np.random.random_integers(0,20,15)\n"
     ]
    }
   ],
   "source": [
    "np.random.seed(3)\n",
    "a = np.random.random_integers(0,20,15)\n",
    "\n",
    "print(a)\n",
    "\n",
    "mask = (a % 3 == 0)\n",
    "print(mask)\n",
    "\n",
    "b = a[mask]\n",
    "print(b)\n",
    "\n",
    "c = a.copy()\n",
    "c[mask] = -1\n",
    "print(c)"
   ]
  },
  {
   "cell_type": "code",
   "execution_count": 46,
   "metadata": {},
   "outputs": [
    {
     "name": "stdout",
     "output_type": "stream",
     "text": [
      "[ 0 10 20 30 40 50 60 70 80 90]\n",
      "[20 30 20 40 20]\n",
      "[90 70]\n"
     ]
    }
   ],
   "source": [
    "a = np.arange(0,100,10)\n",
    "print(a)\n",
    "\n",
    "b = a[[2,3,2,4,2]]  #note: [2,3,2,4,2] is a Python list\n",
    "print(b)\n",
    "\n",
    "c = a[[9,7]] \n",
    "print(c)"
   ]
  },
  {
   "cell_type": "markdown",
   "metadata": {},
   "source": [
    "# Operator"
   ]
  },
  {
   "cell_type": "code",
   "execution_count": 47,
   "metadata": {},
   "outputs": [
    {
     "name": "stdout",
     "output_type": "stream",
     "text": [
      "[[1. 1. 1.]\n",
      " [1. 1. 1.]\n",
      " [1. 1. 1.]]\n",
      "[[1. 1. 1.]\n",
      " [1. 1. 1.]\n",
      " [1. 1. 1.]]\n",
      "[[3. 3. 3.]\n",
      " [3. 3. 3.]\n",
      " [3. 3. 3.]]\n"
     ]
    }
   ],
   "source": [
    "a = np.ones((3,3))\n",
    "print(a)\n",
    "\n",
    "b = a*a     # NOT matric multiplication\n",
    "print(b)\n",
    "\n",
    "c = a.dot(a)  # matric multiplication\n",
    "print(c)"
   ]
  },
  {
   "cell_type": "code",
   "execution_count": 48,
   "metadata": {},
   "outputs": [
    {
     "name": "stdout",
     "output_type": "stream",
     "text": [
      "[False  True False  True]\n",
      "[False False  True False]\n",
      "False\n",
      "True\n"
     ]
    }
   ],
   "source": [
    "a = np.array([1,2,3,4])\n",
    "b = np.array([4,2,2,4])\n",
    "\n",
    "print(a == b)\n",
    "print(a > b)\n",
    "\n",
    "c = np.array([1,2,3,4])\n",
    "print(np.array_equal(a,b))\n",
    "print(np.array_equal(a,c))"
   ]
  },
  {
   "cell_type": "code",
   "execution_count": 50,
   "metadata": {},
   "outputs": [
    {
     "name": "stdout",
     "output_type": "stream",
     "text": [
      "[ True  True  True False]\n",
      "[ True False False False]\n",
      "False\n",
      "True\n",
      "False\n",
      "True\n",
      "True\n"
     ]
    }
   ],
   "source": [
    "a = np.array([1,1,0,0], dtype=bool)\n",
    "b = np.array([1,0,1,0], dtype=bool)\n",
    "\n",
    "print(np.logical_or(a,b))\n",
    "\n",
    "print(np.logical_and(a,b))\n",
    "\n",
    "print(np.all([True, True, False]))\n",
    "print(np.any([True, True, False]))\n",
    "\n",
    "c = np.zeros((100,100))\n",
    "print(np.any(c != 0))\n",
    "print(np.all(c == c))\n",
    "\n",
    "d = np.array([1,2,3,2])\n",
    "e = np.array([2,2,3,2])\n",
    "f = np.array([6,4,4,5])\n",
    "print( ((d <= e) & (e <=f)).all() )"
   ]
  },
  {
   "cell_type": "code",
   "execution_count": 51,
   "metadata": {},
   "outputs": [
    {
     "name": "stdout",
     "output_type": "stream",
     "text": [
      "10\n",
      "10\n",
      "[[1 1]\n",
      " [2 2]\n",
      " [3 3]]\n",
      "[6 6]\n",
      "6 6\n",
      "[2 4 6]\n",
      "1.2671177193964822\n",
      "1.2671177193964822\n"
     ]
    }
   ],
   "source": [
    "x = np.array([1,2,3,4])\n",
    "print(np.sum(x))\n",
    "\n",
    "print(x.sum())\n",
    "\n",
    "x = np.array([[1,1],[2,2],[3,3]])\n",
    "print(x)\n",
    "print(x.sum(axis=0))\n",
    "print(x[:,0].sum(), x[:,1].sum())\n",
    "print(x.sum(axis=1))\n",
    "\n",
    "x = np.random.rand(2,2,2)\n",
    "print(x.sum(axis=2)[0,1])\n",
    "print(x[0,1,:].sum())"
   ]
  },
  {
   "cell_type": "code",
   "execution_count": 52,
   "metadata": {},
   "outputs": [
    {
     "name": "stdout",
     "output_type": "stream",
     "text": [
      "1\n",
      "0\n",
      "3\n",
      "1\n"
     ]
    }
   ],
   "source": [
    "x = np.array([1,3,2])\n",
    "print(x.min())\n",
    "print(x.argmin())    # index of minimum\n",
    "print(x.max())\n",
    "print(x.argmax())    # index of maximum"
   ]
  },
  {
   "cell_type": "code",
   "execution_count": 53,
   "metadata": {},
   "outputs": [
    {
     "name": "stdout",
     "output_type": "stream",
     "text": [
      "1.75\n",
      "1.5\n",
      "[2. 5.]\n",
      "0.82915619758885\n"
     ]
    }
   ],
   "source": [
    "x = np.array([1,2,3,1])\n",
    "y = np.array([[1,2,3],[5,6,1]])\n",
    "\n",
    "print(x.mean())\n",
    "print(np.median(x))\n",
    "print(np.median(y, axis=-1))\n",
    "print(x.std())"
   ]
  },
  {
   "cell_type": "code",
   "execution_count": null,
   "metadata": {},
   "outputs": [],
   "source": []
  },
  {
   "cell_type": "markdown",
   "metadata": {},
   "source": [
    "# Polynomials"
   ]
  },
  {
   "cell_type": "code",
   "execution_count": 55,
   "metadata": {},
   "outputs": [
    {
     "name": "stdout",
     "output_type": "stream",
     "text": [
      "   2\n",
      "3 x + 2 x - 1\n",
      "32\n",
      "[-1.          0.33333333]\n",
      "2\n"
     ]
    }
   ],
   "source": [
    "# 3x^2 + 2x -1:\n",
    "\n",
    "p = np.poly1d([3,2,-1])\n",
    "print(p)\n",
    "print(p(3))\n",
    "\n",
    "print(p.roots)\n",
    "print(p.order)"
   ]
  },
  {
   "cell_type": "code",
   "execution_count": 56,
   "metadata": {},
   "outputs": [
    {
     "name": "stdout",
     "output_type": "stream",
     "text": [
      "       5         4        3         2\n",
      "10.38 x - 23.86 x + 17.9 x - 5.374 x + 0.4737 x + 1.121\n"
     ]
    },
    {
     "data": {
      "text/plain": [
       "[<matplotlib.lines.Line2D at 0x7fe5894a30d0>,\n",
       " <matplotlib.lines.Line2D at 0x7fe5894a31c0>]"
      ]
     },
     "execution_count": 56,
     "metadata": {},
     "output_type": "execute_result"
    },
    {
     "data": {
      "image/png": "[encoded data removed]",
      "text/plain": [
       "<Figure size 800x600 with 1 Axes>"
      ]
     },
     "metadata": {},
     "output_type": "display_data"
    }
   ],
   "source": [
    "import matplotlib.pyplot as plt\n",
    "import numpy as np\n",
    "\n",
    "x = np.linspace(0,1,20)\n",
    "y = np.cos(x) + 0.3*np.random.rand(20)\n",
    "p = np.poly1d(np.polyfit(x,y,5))\n",
    "\n",
    "print(p)\n",
    "\n",
    "t = np.linspace(0,1,200)\n",
    "plt.plot(x,y,'o', t,p(t),'-')"
   ]
  },
  {
   "cell_type": "code",
   "execution_count": 57,
   "metadata": {},
   "outputs": [
    {
     "name": "stdout",
     "output_type": "stream",
     "text": [
      "poly([-1.  2.  3.])\n",
      "[-1.          0.33333333]\n",
      "<bound method ABCPolyBase.degree of Polynomial([-1.,  2.,  3.], domain=[-1,  1], window=[-1,  1])>\n"
     ]
    }
   ],
   "source": [
    "# 3x^2 + 2x -1:\n",
    "\n",
    "p = np.polynomial.Polynomial([-1,2,3])   # coefs in different order!\n",
    "print(p)\n",
    "\n",
    "print(p.roots())\n",
    "print(p.degree)    # No 'order' for general polynomials"
   ]
  },
  {
   "cell_type": "code",
   "execution_count": 58,
   "metadata": {},
   "outputs": [
    {
     "name": "stdout",
     "output_type": "stream",
     "text": [
      "cheb([ 9.14043761e-01  2.19222458e-03 -2.35169376e-01  3.20701401e-03\n",
      "  2.76701731e-03 -2.09022617e-03 -8.67722149e-03 -5.18024682e-04\n",
      " -2.17178977e-03  2.36010868e-03 -1.95651621e-03  6.34399746e-03\n",
      "  6.07882923e-04  1.03595466e-03  3.19772166e-03  8.78653016e-04\n",
      "  1.56587751e-03  8.00870944e-04  4.12908733e-03  1.04561426e-03\n",
      "  1.48051061e-03  6.18256714e-03  4.34691664e-03  4.43694970e-03\n",
      "  3.20068400e-03  5.24654701e-04  1.40123706e-03 -1.23420448e-03\n",
      "  1.09937361e-03  3.73652371e-03 -1.51325787e-03  2.99222408e-03\n",
      " -5.38920509e-03 -1.43374846e-03 -8.77803366e-04 -4.98137092e-03\n",
      "  3.93201308e-03 -3.73722903e-03  3.34900302e-03 -1.68506051e-03\n",
      "  5.26052685e-04  9.65610689e-04 -2.83980221e-03 -8.60446568e-04\n",
      " -7.14496563e-03  3.07402327e-04 -5.63295567e-03  1.71446534e-03\n",
      " -2.33432719e-03 -1.30654201e-03 -4.83882538e-03  1.68722125e-03\n",
      " -4.62057216e-03 -6.26133776e-03 -5.00293728e-04 -3.89766461e-03\n",
      "  2.79494010e-03 -3.72870959e-03  2.32839472e-03 -5.89208263e-03\n",
      " -2.19352302e-06 -8.28727483e-03 -4.62325296e-03 -6.04706450e-03\n",
      " -9.48890484e-04 -4.87012036e-03 -9.22462000e-04 -3.68215847e-03\n",
      " -3.70745680e-03 -4.83580228e-03 -2.40725576e-03 -5.49768976e-03\n",
      " -9.52885461e-05 -3.34824453e-03 -2.15170664e-03 -4.49157642e-03\n",
      " -3.16356793e-03 -3.26949511e-03 -3.59127431e-03 -7.46391304e-03\n",
      " -1.63320051e-03 -1.57746562e-03 -4.87803604e-03 -3.37295434e-03\n",
      " -3.67855996e-03 -6.37870783e-04 -6.83287932e-03  3.63541826e-03\n",
      "  2.93594457e-03  1.39682469e-03 -6.64899738e-03])\n"
     ]
    },
    {
     "data": {
      "text/plain": [
       "[<matplotlib.lines.Line2D at 0x7fe58ab17f70>]"
      ]
     },
     "execution_count": 58,
     "metadata": {},
     "output_type": "execute_result"
    },
    {
     "data": {
      "image/png": "[encoded data removed]",
      "text/plain": [
       "<Figure size 800x600 with 1 Axes>"
      ]
     },
     "metadata": {},
     "output_type": "display_data"
    }
   ],
   "source": [
    "import matplotlib.pyplot as plt\n",
    "import numpy as np\n",
    "\n",
    "x = np.linspace(-1,1,2000)\n",
    "y = np.cos(x) + 0.3*np.random.rand(2000)\n",
    "p = np.polynomial.Chebyshev.fit(x,y,90)\n",
    "print(p)\n",
    "\n",
    "t = np.linspace(-1,1,200)\n",
    "plt.plot(x,y,'r.')\n",
    "plt.plot(t,p(t),'k-',lw=3)"
   ]
  },
  {
   "cell_type": "code",
   "execution_count": null,
   "metadata": {},
   "outputs": [],
   "source": []
  },
  {
   "cell_type": "code",
   "execution_count": null,
   "metadata": {},
   "outputs": [],
   "source": []
  },
  {
   "cell_type": "markdown",
   "metadata": {},
   "source": [
    "\n",
    "# Input & Output"
   ]
  },
  {
   "cell_type": "code",
   "execution_count": 59,
   "metadata": {},
   "outputs": [
    {
     "name": "stdout",
     "output_type": "stream",
     "text": [
      "1  5.23    2345.\n",
      "3  3453.   212.\n",
      "5  23.     2345.\n",
      "6  234.    345.\n",
      "7  23.     234.\n"
     ]
    }
   ],
   "source": [
    "!cat ../data/colms.dat"
   ]
  },
  {
   "cell_type": "code",
   "execution_count": 60,
   "metadata": {},
   "outputs": [
    {
     "name": "stdout",
     "output_type": "stream",
     "text": [
      "[[1.000e+00 5.230e+00 2.345e+03]\n",
      " [3.000e+00 3.453e+03 2.120e+02]\n",
      " [5.000e+00 2.300e+01 2.345e+03]\n",
      " [6.000e+00 2.340e+02 3.450e+02]\n",
      " [7.000e+00 2.300e+01 2.340e+02]]\n",
      "float64\n",
      "[1. 3. 5. 6. 7.]\n",
      "[   5.23 3453.     23.    234.     23.  ]\n",
      "[2345.  212. 2345.  345.  234.]\n"
     ]
    }
   ],
   "source": [
    "data = np.loadtxt('../data/colms.dat')\n",
    "\n",
    "print(data)\n",
    "print(data.dtype)\n",
    "a,b,c = data.T       # Trick (transpose: colums to variables)\n",
    "\n",
    "print(a)\n",
    "print(b)\n",
    "print(c)"
   ]
  },
  {
   "cell_type": "code",
   "execution_count": 61,
   "metadata": {},
   "outputs": [
    {
     "name": "stdout",
     "output_type": "stream",
     "text": [
      "# year  hare    lynx    carrot\n",
      "1900    30e3    4e3     48300\n",
      "1901    47.2e3  6.1e3   48200\n",
      "1902    70.2e3  9.8e3   41500\n",
      "1902    77.4e3  35.2e3  38200\n"
     ]
    }
   ],
   "source": [
    "!cat ../data/populations.txt"
   ]
  },
  {
   "cell_type": "code",
   "execution_count": 62,
   "metadata": {
    "scrolled": true
   },
   "outputs": [
    {
     "data": {
      "text/plain": [
       "array([[ 1900., 30000.,  4000., 48300.],\n",
       "       [ 1901., 47200.,  6100., 48200.],\n",
       "       [ 1902., 70200.,  9800., 41500.],\n",
       "       [ 1902., 77400., 35200., 38200.]])"
      ]
     },
     "execution_count": 62,
     "metadata": {},
     "output_type": "execute_result"
    }
   ],
   "source": [
    "data = np.loadtxt('../data/populations.txt')\n",
    "data"
   ]
  },
  {
   "cell_type": "code",
   "execution_count": 63,
   "metadata": {},
   "outputs": [
    {
     "name": "stdout",
     "output_type": "stream",
     "text": [
      "[[ 1900. 30000.  4000. 48300.]\n",
      " [ 1901. 47200.  6100. 48200.]\n",
      " [ 1902. 70200.  9800. 41500.]\n",
      " [ 1902. 77400. 35200. 38200.]]\n",
      "float64\n",
      "(4, 4)\n",
      "4\n"
     ]
    }
   ],
   "source": [
    "np.savetxt('../data/pop2.txt',data)\n",
    "data2 = np.loadtxt('../data/pop2.txt')\n",
    "print(data2)\n",
    "print(data2.dtype)\n",
    "print(data2.shape)\n",
    "print(len(data2))"
   ]
  },
  {
   "cell_type": "code",
   "execution_count": 64,
   "metadata": {},
   "outputs": [
    {
     "name": "stdout",
     "output_type": "stream",
     "text": [
      "[[1. 1. 1.]\n",
      " [1. 1. 1.]\n",
      " [1. 1. 1.]]\n"
     ]
    }
   ],
   "source": [
    "\"\"\" Numpy's own format \"\"\"\n",
    "\n",
    "data = np.ones((3,3))\n",
    "np.save('../data/pop.npy', data)\n",
    "\n",
    "data3 = np.load('../data/pop.npy')\n",
    "print(data3)"
   ]
  },
  {
   "cell_type": "code",
   "execution_count": 65,
   "metadata": {},
   "outputs": [],
   "source": [
    "\"\"\" Save Multiple variables to one file\"\"\"\n",
    "\n",
    "import numpy as np\n",
    "\n",
    "d1 = np.ones((3,3))\n",
    "d2 = np.linspace(0.,10.,5)\n",
    "d3 = {'a':1., 'b':3.}\n",
    "\n",
    "# Since 'savez' is basically for saving arrays, the dictionary should be saved as an array\n",
    "# and restore with appened [0].\n",
    "np.savez('../data/pop4.npz', d1=d1, d2=d2,d3=[d3])\n",
    "\n",
    "#load_data = np.load('../data/pop4.npz')\n",
    "#print type(load_data)"
   ]
  },
  {
   "cell_type": "code",
   "execution_count": 72,
   "metadata": {},
   "outputs": [
    {
     "name": "stdout",
     "output_type": "stream",
     "text": [
      "<class 'numpy.lib.npyio.NpzFile'>\n"
     ]
    }
   ],
   "source": [
    "load_data = np.load('../data/pop4.npz', allow_pickle=True)\n",
    "print(type(load_data))"
   ]
  },
  {
   "cell_type": "code",
   "execution_count": 73,
   "metadata": {},
   "outputs": [
    {
     "name": "stdout",
     "output_type": "stream",
     "text": [
      "['d1', 'd2', 'd3']\n"
     ]
    }
   ],
   "source": [
    "print(load_data.files)"
   ]
  },
  {
   "cell_type": "code",
   "execution_count": 74,
   "metadata": {},
   "outputs": [
    {
     "name": "stdout",
     "output_type": "stream",
     "text": [
      "[[1. 1. 1.]\n",
      " [1. 1. 1.]\n",
      " [1. 1. 1.]]\n",
      "[ 0.   2.5  5.   7.5 10. ]\n",
      "{'a': 1.0, 'b': 3.0}\n",
      "1.0\n"
     ]
    }
   ],
   "source": [
    "load_d1 = load_data['d1']\n",
    "load_d2 = load_data['d2']\n",
    "load_d3 = load_data['d3'][0]\n",
    "\n",
    "print(d1)\n",
    "print(d2)\n",
    "print(d3)\n",
    "print(d3['a'])"
   ]
  },
  {
   "cell_type": "code",
   "execution_count": 75,
   "metadata": {},
   "outputs": [
    {
     "name": "stdout",
     "output_type": "stream",
     "text": [
      "float64 float64 <class 'dict'>\n"
     ]
    }
   ],
   "source": [
    "print(d1.dtype, d2.dtype, type(d3))"
   ]
  },
  {
   "cell_type": "code",
   "execution_count": 76,
   "metadata": {},
   "outputs": [
    {
     "name": "stdout",
     "output_type": "stream",
     "text": [
      "[1. 2. 3.]\n",
      "[2. 3.]\n"
     ]
    }
   ],
   "source": [
    "import numpy as np\n",
    "\n",
    "a  = np.array([1.,2.,3.])\n",
    "\n",
    "print(a)\n",
    "\n",
    "a = np.delete(a,0)\n",
    "\n",
    "print(a)"
   ]
  },
  {
   "cell_type": "code",
   "execution_count": 77,
   "metadata": {},
   "outputs": [
    {
     "name": "stdout",
     "output_type": "stream",
     "text": [
      "[ 1. nan  3.]\n"
     ]
    }
   ],
   "source": [
    "a = np.array([1.,2.,3.])\n",
    "\n",
    "a[1] = np.nan\n",
    "\n",
    "print(a)"
   ]
  },
  {
   "cell_type": "code",
   "execution_count": 79,
   "metadata": {},
   "outputs": [
    {
     "name": "stdout",
     "output_type": "stream",
     "text": [
      "[1. 3.]\n"
     ]
    }
   ],
   "source": [
    "print(a[~np.isnan(a)])"
   ]
  },
  {
   "cell_type": "code",
   "execution_count": 80,
   "metadata": {},
   "outputs": [],
   "source": [
    "a = a[~np.isnan(a)]"
   ]
  },
  {
   "cell_type": "code",
   "execution_count": 81,
   "metadata": {},
   "outputs": [
    {
     "name": "stdout",
     "output_type": "stream",
     "text": [
      "aaaa 0.100000\n",
      "printing list [1, 2, 3]\n"
     ]
    }
   ],
   "source": [
    "a=0.1\n",
    "b = [1,2,3]\n",
    "print('aaaa %f' %a)\n",
    "print('printing list [%s]' % ', '.join('%.i' % val for val in b))"
   ]
  }
 ],
 "metadata": {
  "kernelspec": {
   "display_name": "Python 3",
   "language": "python",
   "name": "python3"
  },
  "language_info": {
   "codemirror_mode": {
    "name": "ipython",
    "version": 3
   },
   "file_extension": ".py",
   "mimetype": "text/x-python",
   "name": "python",
   "nbconvert_exporter": "python",
   "pygments_lexer": "ipython3",
   "version": "3.8.3"
  },
  "toc-autonumbering": false,
  "toc-showmarkdowntxt": true
 },
 "nbformat": 4,
 "nbformat_minor": 4
}
