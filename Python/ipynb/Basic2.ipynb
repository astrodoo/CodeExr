{
 "cells": [
  {
   "cell_type": "markdown",
   "metadata": {},
   "source": [
    "## Named Tuple\n",
    "- create structure & substructure"
   ]
  },
  {
   "cell_type": "code",
   "execution_count": 1,
   "metadata": {
    "collapsed": false
   },
   "outputs": [
    {
     "name": "stdout",
     "output_type": "stream",
     "text": [
      "11 22\n",
      "12 34\n",
      "11 34\n",
      "('x', 'y')\n"
     ]
    }
   ],
   "source": [
    "\"\"\" basic usage \"\"\"\n",
    "from collections import namedtuple\n",
    "\n",
    "Point = namedtuple('Point','x,y')\n",
    "\n",
    "a = Point(11,22)\n",
    "b = Point(x=12,y=34)\n",
    "\n",
    "print a[0],a[1]\n",
    "print b[0],b[1]\n",
    "print a.x, b.y\n",
    "print a._fields"
   ]
  },
  {
   "cell_type": "code",
   "execution_count": 2,
   "metadata": {
    "collapsed": false
   },
   "outputs": [
    {
     "name": "stdout",
     "output_type": "stream",
     "text": [
      "33 22\n"
     ]
    }
   ],
   "source": [
    "\"\"\" replace \"\"\"\n",
    "from collections import namedtuple\n",
    "\n",
    "Point = namedtuple('Point','x,y')\n",
    "\n",
    "a = Point(x=11,y=22)\n",
    "\n",
    "b = a._replace(x=33)\n",
    "\n",
    "print b.x,b.y"
   ]
  },
  {
   "cell_type": "code",
   "execution_count": 3,
   "metadata": {
    "collapsed": false
   },
   "outputs": [
    {
     "name": "stdout",
     "output_type": "stream",
     "text": [
      "11 22\n"
     ]
    }
   ],
   "source": [
    "\"\"\" transform to dictionary \"\"\"\n",
    "from collections import namedtuple\n",
    "\n",
    "Point = namedtuple('Point','x,y')\n",
    "\n",
    "a = Point(x=11,y=22)\n",
    "\n",
    "b = a._asdict()\n",
    "\n",
    "print b['x'],b['y']"
   ]
  },
  {
   "cell_type": "code",
   "execution_count": 4,
   "metadata": {
    "collapsed": false
   },
   "outputs": [
    {
     "name": "stdout",
     "output_type": "stream",
     "text": [
      "1 hey 23.0 1\n"
     ]
    }
   ],
   "source": [
    "\"\"\" Substructures \"\"\"\n",
    "from collections import namedtuple\n",
    "\n",
    "Struc1 = namedtuple('Struc1','a,b,c')\n",
    "Struc2 = namedtuple('Struc2','d,e')\n",
    "\n",
    "aa = Struc1(a=1,b='hey',c=Struc2(d=23.,e=1))\n",
    "\n",
    "print aa.a, aa.b, aa.c.d, aa.c.e"
   ]
  },
  {
   "cell_type": "code",
   "execution_count": 5,
   "metadata": {
    "collapsed": false
   },
   "outputs": [
    {
     "name": "stdout",
     "output_type": "stream",
     "text": [
      "2 hey 3.0 __main__.kk 5.0 12.0\n"
     ]
    }
   ],
   "source": [
    "\"\"\" alternative way: substructures by class \"\"\"\n",
    "class mysubstruc:\n",
    "    a = 2\n",
    "    b = 'hey'\n",
    "    c = 3.\n",
    "    class kk:\n",
    "        d = 5.\n",
    "        e = 12.\n",
    "\n",
    "xx = mysubstruc()\n",
    "print xx.a, xx.b, xx.c, xx.kk, xx.kk.d, xx.kk.e"
   ]
  },
  {
   "cell_type": "markdown",
   "metadata": {},
   "source": [
    "## Ordered Dictionary"
   ]
  },
  {
   "cell_type": "code",
   "execution_count": 6,
   "metadata": {
    "collapsed": false
   },
   "outputs": [
    {
     "name": "stdout",
     "output_type": "stream",
     "text": [
      "{'orange': 2, 'pear': 1, 'banana': 3, 'apple': 4}\n",
      "OrderedDict([('apple', 4), ('banana', 3), ('orange', 2), ('pear', 1)])\n",
      "OrderedDict([('pear', 1), ('orange', 2), ('banana', 3), ('apple', 4)])\n",
      "OrderedDict([('pear', 1), ('apple', 4), ('orange', 2), ('banana', 3)])\n",
      "orange 2\n",
      "apple 4\n",
      "pear 1\n",
      "pear 1\n"
     ]
    }
   ],
   "source": [
    "from collections import OrderedDict\n",
    "\n",
    "# regular unsorted dictionary\n",
    "a = {'banana': 3, 'apple': 4, 'pear': 1, 'orange': 2}\n",
    "\n",
    "# dictionary sorted by key\n",
    "b = OrderedDict(sorted(a.items(), key=lambda t: t[0]))\n",
    "\n",
    "# dictionary sorted by value\n",
    "c = OrderedDict(sorted(a.items(), key=lambda t: t[1]))\n",
    "\n",
    "# dictionary sorted by length of the key string\n",
    "d = OrderedDict(sorted(a.items(), key=lambda t: len(t[0])))\n",
    "\n",
    "print a\n",
    "print b\n",
    "print c\n",
    "print d\n",
    "\n",
    "print a.keys()[0],a.values()[0]\n",
    "print b.keys()[0],b.values()[0]\n",
    "print c.keys()[0],c.values()[0]\n",
    "print d.keys()[0],d.values()[0]\n"
   ]
  },
  {
   "cell_type": "markdown",
   "metadata": {},
   "source": [
    "## Mutable & Immutable Class\n",
    "\n",
    "http://www.blog.pythonlibrary.org/2014/01/17/how-to-create-immutable-classes-in-python/"
   ]
  },
  {
   "cell_type": "code",
   "execution_count": 1,
   "metadata": {
    "collapsed": true
   },
   "outputs": [],
   "source": [
    "\"\"\" Mutable example (default of class) \"\"\"\n",
    "\n",
    "class Mutable(object):\n",
    "    \"\"\"\n",
    "    A mutable class\n",
    "    \"\"\"\n",
    " \n",
    "    #----------------------------------------------------------------------\n",
    "    def __init__(self):\n",
    "        \"\"\"Constructor\"\"\"\n",
    "        pass"
   ]
  },
  {
   "cell_type": "code",
   "execution_count": 2,
   "metadata": {
    "collapsed": false
   },
   "outputs": [
    {
     "name": "stdout",
     "output_type": "stream",
     "text": [
      "tamarin\n"
     ]
    }
   ],
   "source": [
    "mut_obj = Mutable()\n",
    "mut_obj.monkey = \"tamarin\"\n",
    "print mut_obj.monkey"
   ]
  },
  {
   "cell_type": "code",
   "execution_count": 138,
   "metadata": {
    "collapsed": false
   },
   "outputs": [],
   "source": [
    "class Immutable(object):\n",
    "    \"\"\"\n",
    "    An immutable class\n",
    "    \"\"\"\n",
    "    __slots__ = [\"one\", \"two\", \"three\"]\n",
    " \n",
    "    #----------------------------------------------------------------------\n",
    "    def __init__(self, one, two, three):\n",
    "        \"\"\"Constructor\"\"\"\n",
    "        super(Immutable, self).__setattr__(\"one\", one)\n",
    "        super(Immutable, self).__setattr__(\"two\", two)\n",
    "        super(Immutable, self).__setattr__(\"three\", three)\n",
    "        \n",
    "    #----------------------------------------------------------------------\n",
    "    def __setattr__(self, name, value):\n",
    "        \"\"\"\"\"\"\n",
    "        msg = \"'%s' has no attribute %s\" % (self.__class__,\n",
    "                                            name)\n",
    "        raise AttributeError(msg)"
   ]
  },
  {
   "cell_type": "code",
   "execution_count": 71,
   "metadata": {
    "collapsed": false
   },
   "outputs": [],
   "source": [
    "i = Immutable(1,2,3)\n",
    "#i.one = 4\n",
    "#i.four = 3\n",
    "#print i.one"
   ]
  },
  {
   "cell_type": "code",
   "execution_count": 74,
   "metadata": {
    "collapsed": true
   },
   "outputs": [],
   "source": [
    "# 'object' should be written (meaning of no inheritance.)\n",
    "# Following example shows mutable class but not allow to have additional attributes other than in slots.\n",
    "class Immutable(object):\n",
    "    \"\"\"\n",
    "    mutable class but only in slots\n",
    "    \"\"\"\n",
    "    __slots__ = (\"one\", \"two\", \"three\")\n",
    "    \n",
    "#    aa = 3\n",
    " \n",
    "    #----------------------------------------------------------------------\n",
    "    def __init__(self, one, two, three):\n",
    "        \"\"\"Constructor\"\"\"\n",
    "        self.one = one\n",
    "        self.two = two\n",
    "        self.three = three\n",
    "#        self.bb = 3\n",
    "        #self.four = 21"
   ]
  },
  {
   "cell_type": "code",
   "execution_count": 75,
   "metadata": {
    "collapsed": false
   },
   "outputs": [
    {
     "name": "stdout",
     "output_type": "stream",
     "text": [
      "1\n"
     ]
    }
   ],
   "source": [
    "i = Immutable(1,2,3)\n",
    "\n",
    "#print i.cc\n",
    "#i.one =43\n",
    "print i.one\n",
    "#print i.four"
   ]
  },
  {
   "cell_type": "code",
   "execution_count": 129,
   "metadata": {
    "collapsed": false
   },
   "outputs": [
    {
     "name": "stdout",
     "output_type": "stream",
     "text": [
      "2\n"
     ]
    }
   ],
   "source": [
    "class hey(object):\n",
    "    __slots__ = ('x',)\n",
    "    #__statics__ = {'x','y'}\n",
    "    \n",
    "    def __init__(self):\n",
    "        #self.__class__.y = 1\n",
    "        self.x = 2\n",
    "        #self.z = 3\n",
    "        #self.x = 1\n",
    "    #pass\n",
    "    \n",
    "a = hey()\n",
    "\n",
    "hey().x = 3\n",
    "#a.x = 2\n",
    "\n",
    "print a.x\n",
    "#a.x = 2\n",
    "#hey.y = 2\n",
    "#print a.__dict__\n",
    "#print a.__class__.__dict__"
   ]
  },
  {
   "cell_type": "code",
   "execution_count": 185,
   "metadata": {
    "collapsed": false
   },
   "outputs": [
    {
     "name": "stdout",
     "output_type": "stream",
     "text": [
      "hey\n",
      "3 2\n",
      "20 2\n"
     ]
    }
   ],
   "source": [
    "\"\"\" Class attribute and instance attribute \"\"\"\n",
    "\n",
    "class test(object):\n",
    "    c=2\n",
    "    __slots__ = ('a',)\n",
    "    \n",
    "    def __init__(self):\n",
    "        self.a = 20\n",
    "    #@classmethod    \n",
    "    @staticmethod\n",
    "    def aa():\n",
    "        print 'hey'\n",
    "        pass\n",
    "\n",
    "test.b = 3\n",
    "test.aa()\n",
    "print test.b, test.c\n",
    "inst = test()\n",
    "print inst.a, inst.c\n",
    "#inst.b = 10\n",
    "#print inst.b"
   ]
  },
  {
   "cell_type": "markdown",
   "metadata": {},
   "source": [
    "## Class: classmethod vs. staticmethod\n",
    "\n",
    "class Dummy(object):\n",
    "\n",
    "    @classmethod\n",
    "    def some_function(cls,*args,**kwargs):\n",
    "        print cls\n",
    "\n",
    "#both of these will have exactly the same effect\n",
    "\n",
    "Dummy.some_function()\n",
    "\n",
    "Dummy().some_function()\n",
    "\n",
    "================================\n",
    "\n",
    "class MyClass(object):\n",
    "\n",
    "    def some_instance_method(self, *args, **kwds):\n",
    "        pass\n",
    "\n",
    "    @classmethod\n",
    "    def some_class_method(cls, *args, **kwds):\n",
    "        pass\n",
    "\n",
    "    @staticmethod\n",
    "    def some_static_method(*args, **kwds):\n",
    "        pass\n",
    "\n",
    "* classmethod must have a reference to a class object as the first parameter, whereas staticmethod can have no parameters at all."
   ]
  },
  {
   "cell_type": "code",
   "execution_count": 175,
   "metadata": {
    "collapsed": false
   },
   "outputs": [
    {
     "name": "stdout",
     "output_type": "stream",
     "text": [
      "11 9 2012\n"
     ]
    }
   ],
   "source": [
    "class Date(object):\n",
    "\n",
    "    def __init__(self, day=0, month=0, year=0):\n",
    "        self.day = day\n",
    "        self.month = month\n",
    "        self.year = year\n",
    "        \n",
    "    @classmethod\n",
    "    def from_string(cls, date_as_string):\n",
    "        day, month, year = map(int, date_as_string.split('-'))\n",
    "        date1 = cls(day, month, year)\n",
    "        return date1\n",
    "\n",
    "date2 = Date.from_string('11-09-2012')\n",
    "print date2.day, date2.month, date2.year"
   ]
  },
  {
   "cell_type": "code",
   "execution_count": 176,
   "metadata": {
    "collapsed": false
   },
   "outputs": [
    {
     "name": "stdout",
     "output_type": "stream",
     "text": [
      "True\n"
     ]
    }
   ],
   "source": [
    "class Date(object):\n",
    "\n",
    "    def __init__(self, day=0, month=0, year=0):\n",
    "        self.day = day\n",
    "        self.month = month\n",
    "        self.year = year\n",
    "    \n",
    "    @staticmethod\n",
    "    def is_date_valid(date_as_string):\n",
    "        day, month, year = map(int, date_as_string.split('-'))\n",
    "        return day <= 31 and month <= 12 and year <= 3999\n",
    "\n",
    "# usage:\n",
    "is_date = Date.is_date_valid('11-09-2012')\n",
    "print is_date"
   ]
  },
  {
   "cell_type": "markdown",
   "metadata": {
    "collapsed": true
   },
   "source": [
    "## Intrinsic Functions"
   ]
  },
  {
   "cell_type": "markdown",
   "metadata": {},
   "source": [
    "## zip()\n",
    "* combine two (same size; n-elements) list to produce n-elements list, at which each element has tuple of two data points"
   ]
  },
  {
   "cell_type": "code",
   "execution_count": 14,
   "metadata": {
    "collapsed": false
   },
   "outputs": [
    {
     "name": "stdout",
     "output_type": "stream",
     "text": [
      "[(1, 4), (2, 5), (3, 6)]\n",
      "3\n",
      "(1, 4)\n"
     ]
    }
   ],
   "source": [
    "\"\"\" Basic example of zip function \"\"\"\n",
    "x = [1, 2, 3]\n",
    "y = [4, 5, 6]\n",
    "zipped = zip(x, y)\n",
    "print zipped\n",
    "print len(zipped)\n",
    "print zipped[0]"
   ]
  },
  {
   "cell_type": "code",
   "execution_count": 8,
   "metadata": {
    "collapsed": false
   },
   "outputs": [
    {
     "name": "stdout",
     "output_type": "stream",
     "text": [
      "[(1, 2, 3), (4, 5, 6)]\n",
      "True\n"
     ]
    }
   ],
   "source": [
    "\"\"\" '*' can be used for unzip \"\"\"\n",
    "print zip(*zipped)\n",
    "\n",
    "x2, y2 = zip(*zipped)\n",
    "print ((x==list(x2)) & (y==list(y2)))"
   ]
  },
  {
   "cell_type": "code",
   "execution_count": 9,
   "metadata": {
    "collapsed": false
   },
   "outputs": [
    {
     "name": "stdout",
     "output_type": "stream",
     "text": [
      "a1 b1\n",
      "a2 b2\n",
      "a3 b3\n"
     ]
    }
   ],
   "source": [
    "\"\"\" zip function with for-loop \"\"\"\n",
    "\n",
    "alist = ['a1', 'a2', 'a3']\n",
    "blist = ['b1', 'b2', 'b3']\n",
    "\n",
    "for a, b in zip(alist, blist):\n",
    "    print a, b"
   ]
  },
  {
   "cell_type": "code",
   "execution_count": 10,
   "metadata": {
    "collapsed": false
   },
   "outputs": [
    {
     "name": "stdout",
     "output_type": "stream",
     "text": [
      "0 a1 b1\n",
      "1 a2 b2\n",
      "2 a3 b3\n"
     ]
    }
   ],
   "source": [
    "\"\"\" zip function with enumerated for-loop \"\"\"\n",
    "alist = ['a1', 'a2', 'a3']\n",
    "blist = ['b1', 'b2', 'b3']\n",
    "\n",
    "for i, (a, b) in enumerate(zip(alist, blist)):\n",
    "    print i, a, b"
   ]
  },
  {
   "cell_type": "markdown",
   "metadata": {
    "collapsed": true
   },
   "source": [
    "## map()\n",
    "* map(some_function, some_iterable) --> return the list"
   ]
  },
  {
   "cell_type": "code",
   "execution_count": 3,
   "metadata": {
    "collapsed": false
   },
   "outputs": [
    {
     "name": "stdout",
     "output_type": "stream",
     "text": [
      "[0, 1, 2, 3, 4] [10, 11, 12, 13, 14]\n",
      "[0, 1, 2, 3, 4] [10, 11, 12, 13, 14]\n"
     ]
    }
   ],
   "source": [
    "def func(x):\n",
    "    return x+10\n",
    "\n",
    "xx = range(5)\n",
    "\n",
    "yy = map(func,xx)\n",
    "print xx, yy\n",
    "\n",
    "# such map function is equivalent to list-comprehenive\n",
    "\n",
    "yy2 = [func(x) for x in xx]\n",
    "print xx, yy2"
   ]
  },
  {
   "cell_type": "code",
   "execution_count": 6,
   "metadata": {
    "collapsed": false
   },
   "outputs": [
    {
     "name": "stdout",
     "output_type": "stream",
     "text": [
      "[0, 1, 2, 3, 4] [0, 1, 2, 3, 4] [0, 2, 4, 6, 8]\n",
      "[0, 1, 2, 3, 4] [0, 1, 2, 3, 4] [0, 2, 4, 6, 8]\n"
     ]
    }
   ],
   "source": [
    "def func(a,b):\n",
    "    return a+b\n",
    "\n",
    "aa = range(5)\n",
    "bb = range(5)\n",
    "\n",
    "yy = map(func,aa,bb)\n",
    "print aa,bb,yy\n",
    "\n",
    "# such map function is equivalent to list-comprehenive\n",
    "\n",
    "yy2 = [func(a,b) for a,b in zip(aa,bb)]\n",
    "print aa,bb,yy2"
   ]
  },
  {
   "cell_type": "code",
   "execution_count": 8,
   "metadata": {
    "collapsed": false
   },
   "outputs": [
    {
     "name": "stdout",
     "output_type": "stream",
     "text": [
      "[2, 2, 9, 4, 9]\n"
     ]
    }
   ],
   "source": [
    "\"\"\" useful implication with lambda function\"\"\"\n",
    "a = [1, 2, 3, 4, 5]\n",
    "b = [2, 2, 9, 0, 9]\n",
    "\n",
    "c = map(lambda pair: max(pair), zip(a, b))\n",
    "print c"
   ]
  },
  {
   "cell_type": "markdown",
   "metadata": {},
   "source": [
    "## lambda()\n",
    "\n",
    "* one-line mini-function"
   ]
  },
  {
   "cell_type": "code",
   "execution_count": 11,
   "metadata": {
    "collapsed": false
   },
   "outputs": [
    {
     "name": "stdout",
     "output_type": "stream",
     "text": [
      "6\n",
      "6\n"
     ]
    }
   ],
   "source": [
    "g = lambda x: x*2\n",
    "\n",
    "print g(3)\n",
    "\n",
    "# it is equivalent to\n",
    "def g2(x):\n",
    "    return x*2\n",
    "\n",
    "print g2(3)"
   ]
  },
  {
   "cell_type": "code",
   "execution_count": 12,
   "metadata": {
    "collapsed": false
   },
   "outputs": [
    {
     "name": "stdout",
     "output_type": "stream",
     "text": [
      "3\n"
     ]
    }
   ],
   "source": [
    "\"\"\" multiple inputs \"\"\"\n",
    "\n",
    "f = lambda x,y: x+y\n",
    "\n",
    "print f(1,2)"
   ]
  }
 ],
 "metadata": {
  "kernelspec": {
   "display_name": "Python 2",
   "language": "python",
   "name": "python2"
  },
  "language_info": {
   "codemirror_mode": {
    "name": "ipython",
    "version": 2
   },
   "file_extension": ".py",
   "mimetype": "text/x-python",
   "name": "python",
   "nbconvert_exporter": "python",
   "pygments_lexer": "ipython2",
   "version": "2.7.13"
  }
 },
 "nbformat": 4,
 "nbformat_minor": 2
}
