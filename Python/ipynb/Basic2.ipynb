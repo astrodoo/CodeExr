{
 "cells": [
  {
   "cell_type": "markdown",
   "metadata": {},
   "source": [
    "## Named Tuple\n",
    "- create structure & substructure"
   ]
  },
  {
   "cell_type": "code",
   "execution_count": 1,
   "metadata": {
    "collapsed": false
   },
   "outputs": [
    {
     "name": "stdout",
     "output_type": "stream",
     "text": [
      "11 22\n",
      "12 34\n",
      "11 34\n",
      "('x', 'y')\n"
     ]
    }
   ],
   "source": [
    "\"\"\" basic usage \"\"\"\n",
    "from collections import namedtuple\n",
    "\n",
    "Point = namedtuple('Point','x,y')\n",
    "\n",
    "a = Point(11,22)\n",
    "b = Point(x=12,y=34)\n",
    "\n",
    "print a[0],a[1]\n",
    "print b[0],b[1]\n",
    "print a.x, b.y\n",
    "print a._fields"
   ]
  },
  {
   "cell_type": "code",
   "execution_count": 2,
   "metadata": {
    "collapsed": false
   },
   "outputs": [
    {
     "name": "stdout",
     "output_type": "stream",
     "text": [
      "33 22\n"
     ]
    }
   ],
   "source": [
    "\"\"\" replace \"\"\"\n",
    "from collections import namedtuple\n",
    "\n",
    "Point = namedtuple('Point','x,y')\n",
    "\n",
    "a = Point(x=11,y=22)\n",
    "\n",
    "b = a._replace(x=33)\n",
    "\n",
    "print b.x,b.y"
   ]
  },
  {
   "cell_type": "code",
   "execution_count": 3,
   "metadata": {
    "collapsed": false
   },
   "outputs": [
    {
     "name": "stdout",
     "output_type": "stream",
     "text": [
      "11 22\n"
     ]
    }
   ],
   "source": [
    "\"\"\" transform to dictionary \"\"\"\n",
    "from collections import namedtuple\n",
    "\n",
    "Point = namedtuple('Point','x,y')\n",
    "\n",
    "a = Point(x=11,y=22)\n",
    "\n",
    "b = a._asdict()\n",
    "\n",
    "print b['x'],b['y']"
   ]
  },
  {
   "cell_type": "code",
   "execution_count": 4,
   "metadata": {
    "collapsed": false
   },
   "outputs": [
    {
     "name": "stdout",
     "output_type": "stream",
     "text": [
      "1 hey 23.0 1\n"
     ]
    }
   ],
   "source": [
    "\"\"\" Substructures \"\"\"\n",
    "from collections import namedtuple\n",
    "\n",
    "Struc1 = namedtuple('Struc1','a,b,c')\n",
    "Struc2 = namedtuple('Struc2','d,e')\n",
    "\n",
    "aa = Struc1(a=1,b='hey',c=Struc2(d=23.,e=1))\n",
    "\n",
    "print aa.a, aa.b, aa.c.d, aa.c.e"
   ]
  },
  {
   "cell_type": "code",
   "execution_count": 5,
   "metadata": {
    "collapsed": false
   },
   "outputs": [
    {
     "name": "stdout",
     "output_type": "stream",
     "text": [
      "2 hey 3.0 __main__.kk 5.0 12.0\n"
     ]
    }
   ],
   "source": [
    "\"\"\" alternative way: substructures by class \"\"\"\n",
    "class mysubstruc:\n",
    "    a = 2\n",
    "    b = 'hey'\n",
    "    c = 3.\n",
    "    class kk:\n",
    "        d = 5.\n",
    "        e = 12.\n",
    "\n",
    "xx = mysubstruc()\n",
    "print xx.a, xx.b, xx.c, xx.kk, xx.kk.d, xx.kk.e"
   ]
  },
  {
   "cell_type": "markdown",
   "metadata": {},
   "source": [
    "## Ordered Dictionary"
   ]
  },
  {
   "cell_type": "code",
   "execution_count": 6,
   "metadata": {
    "collapsed": false
   },
   "outputs": [
    {
     "name": "stdout",
     "output_type": "stream",
     "text": [
      "{'orange': 2, 'pear': 1, 'banana': 3, 'apple': 4}\n",
      "OrderedDict([('apple', 4), ('banana', 3), ('orange', 2), ('pear', 1)])\n",
      "OrderedDict([('pear', 1), ('orange', 2), ('banana', 3), ('apple', 4)])\n",
      "OrderedDict([('pear', 1), ('apple', 4), ('orange', 2), ('banana', 3)])\n",
      "orange 2\n",
      "apple 4\n",
      "pear 1\n",
      "pear 1\n"
     ]
    }
   ],
   "source": [
    "from collections import OrderedDict\n",
    "\n",
    "# regular unsorted dictionary\n",
    "a = {'banana': 3, 'apple': 4, 'pear': 1, 'orange': 2}\n",
    "\n",
    "# dictionary sorted by key\n",
    "b = OrderedDict(sorted(a.items(), key=lambda t: t[0]))\n",
    "\n",
    "# dictionary sorted by value\n",
    "c = OrderedDict(sorted(a.items(), key=lambda t: t[1]))\n",
    "\n",
    "# dictionary sorted by length of the key string\n",
    "d = OrderedDict(sorted(a.items(), key=lambda t: len(t[0])))\n",
    "\n",
    "print a\n",
    "print b\n",
    "print c\n",
    "print d\n",
    "\n",
    "print a.keys()[0],a.values()[0]\n",
    "print b.keys()[0],b.values()[0]\n",
    "print c.keys()[0],c.values()[0]\n",
    "print d.keys()[0],d.values()[0]\n"
   ]
  }
 ],
 "metadata": {
  "kernelspec": {
   "display_name": "Python 2",
   "language": "python",
   "name": "python2"
  },
  "language_info": {
   "codemirror_mode": {
    "name": "ipython",
    "version": 2
   },
   "file_extension": ".py",
   "mimetype": "text/x-python",
   "name": "python",
   "nbconvert_exporter": "python",
   "pygments_lexer": "ipython2",
   "version": "2.7.13"
  }
 },
 "nbformat": 4,
 "nbformat_minor": 2
}
