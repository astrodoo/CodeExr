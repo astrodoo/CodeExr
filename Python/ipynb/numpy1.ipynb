{
 "cells": [
  {
   "cell_type": "code",
   "execution_count": 2,
   "metadata": {
    "collapsed": false
   },
   "outputs": [],
   "source": [
    "import numpy as np"
   ]
  },
  {
   "cell_type": "code",
   "execution_count": 116,
   "metadata": {
    "collapsed": false
   },
   "outputs": [
    {
     "name": "stdout",
     "output_type": "stream",
     "text": [
      "Populating the interactive namespace from numpy and matplotlib\n"
     ]
    },
    {
     "name": "stderr",
     "output_type": "stream",
     "text": [
      "WARNING: pylab import has clobbered these variables: ['e', 'f']\n",
      "`%matplotlib` prevents importing * from pylab and numpy\n"
     ]
    }
   ],
   "source": [
    "%pylab inline"
   ]
  },
  {
   "cell_type": "code",
   "execution_count": 3,
   "metadata": {
    "collapsed": false
   },
   "outputs": [
    {
     "name": "stdout",
     "output_type": "stream",
     "text": [
      "<type 'numpy.ndarray'>\n",
      "[0 1 2 3]\n"
     ]
    }
   ],
   "source": [
    "a = np.array([0,1,2,3])\n",
    "print type(a)\n",
    "\n",
    "print a"
   ]
  },
  {
   "cell_type": "code",
   "execution_count": 5,
   "metadata": {
    "collapsed": false
   },
   "outputs": [
    {
     "name": "stdout",
     "output_type": "stream",
     "text": [
      "The slowest run took 4.07 times longer than the fastest. This could mean that an intermediate result is being cached.\n",
      "100000 loops, best of 3: 5.69 µs per loop\n",
      "The slowest run took 34.35 times longer than the fastest. This could mean that an intermediate result is being cached.\n",
      "1000000 loops, best of 3: 410 ns per loop\n"
     ]
    }
   ],
   "source": [
    "L = range(100)\n",
    "%timeit [i**2 for i in L]\n",
    "\n",
    "a = np.arange(100)\n",
    "%timeit a**2"
   ]
  },
  {
   "cell_type": "code",
   "execution_count": 11,
   "metadata": {
    "collapsed": false
   },
   "outputs": [
    {
     "name": "stdout",
     "output_type": "stream",
     "text": [
      "Search results for 'square root'\n",
      "--------------------------------\n",
      "numpy.sqrt\n",
      "    Return the positive square-root of an array, element-wise.\n",
      "numpy.ma.sqrt\n",
      "    Return the positive square-root of an array, element-wise.\n",
      "numpy.roots\n",
      "    Return the roots of a polynomial with coefficients given in p.\n",
      "numpy.poly\n",
      "    Find the coefficients of a polynomial with the given sequence of roots.\n",
      "numpy.std\n",
      "    Compute the standard deviation along the specified axis.\n",
      "numpy.nanstd\n",
      "    Compute the standard deviation along the specified axis, while\n",
      "numpy.poly1d\n",
      "    A one-dimensional polynomial class.\n",
      "numpy.ma.std\n",
      "    Compute the standard deviation along the specified axis.\n",
      "numpy.linalg.cond\n",
      "    Compute the condition number of a matrix.\n",
      "numpy.ma.mvoid.std\n",
      "    Compute the standard deviation along the specified axis.\n",
      "numpy.ma.MaskedArray.std\n",
      "    Compute the standard deviation along the specified axis."
     ]
    }
   ],
   "source": [
    "np.lookfor('square root')"
   ]
  },
  {
   "cell_type": "code",
   "execution_count": 12,
   "metadata": {
    "collapsed": true
   },
   "outputs": [],
   "source": [
    "#np.con*?"
   ]
  },
  {
   "cell_type": "markdown",
   "metadata": {},
   "source": [
    "## Arrays"
   ]
  },
  {
   "cell_type": "code",
   "execution_count": 14,
   "metadata": {
    "collapsed": false
   },
   "outputs": [
    {
     "name": "stdout",
     "output_type": "stream",
     "text": [
      "[0 1 2 3]\n",
      "1\n",
      "(4,)\n",
      "4\n"
     ]
    }
   ],
   "source": [
    "a = np.array([0,1,2,3])\n",
    "\n",
    "print a\n",
    "print a.ndim\n",
    "print a.shape\n",
    "print len(a)"
   ]
  },
  {
   "cell_type": "code",
   "execution_count": 15,
   "metadata": {
    "collapsed": false
   },
   "outputs": [
    {
     "name": "stdout",
     "output_type": "stream",
     "text": [
      "[[0 1 2]\n",
      " [3 4 5]]\n",
      "2\n",
      "(2, 3)\n",
      "2\n",
      "[[[1]\n",
      "  [2]]\n",
      "\n",
      " [[3]\n",
      "  [4]]]\n",
      "3\n",
      "(2, 2, 1)\n",
      "2\n"
     ]
    }
   ],
   "source": [
    "b = np.array([[0,1,2],[3,4,5]])    # 2x3 array\n",
    "print b\n",
    "print b.ndim\n",
    "print b.shape\n",
    "print len(b)\n",
    "\n",
    "c = np.array([[[1],[2]],[[3],[4]]])\n",
    "print c\n",
    "print c.ndim\n",
    "print c.shape\n",
    "print len(c)"
   ]
  },
  {
   "cell_type": "code",
   "execution_count": 18,
   "metadata": {
    "collapsed": false
   },
   "outputs": [
    {
     "name": "stdout",
     "output_type": "stream",
     "text": [
      "[0 1 2 3 4 5 6 7 8 9]\n",
      "[1 3 5 7]\n",
      "[ 0.   0.2  0.4  0.6  0.8  1. ]\n",
      "[ 0.   0.2  0.4  0.6  0.8]\n"
     ]
    }
   ],
   "source": [
    "a = np.arange(10)\n",
    "print a\n",
    "\n",
    "b = np.arange(1,9,2)\n",
    "print b\n",
    "\n",
    "c = np.linspace(0,1,6)  # start, end, num-points\n",
    "print c\n",
    "\n",
    "d = np.linspace(0,1,5,endpoint=False)\n",
    "print d"
   ]
  },
  {
   "cell_type": "code",
   "execution_count": 19,
   "metadata": {
    "collapsed": false
   },
   "outputs": [
    {
     "name": "stdout",
     "output_type": "stream",
     "text": [
      "[[ 1.  1.  1.]\n",
      " [ 1.  1.  1.]\n",
      " [ 1.  1.  1.]]\n",
      "[[ 0.  0.]\n",
      " [ 0.  0.]]\n",
      "[[ 1.  0.  0.]\n",
      " [ 0.  1.  0.]\n",
      " [ 0.  0.  1.]]\n",
      "[[1 0 0 0]\n",
      " [0 2 0 0]\n",
      " [0 0 3 0]\n",
      " [0 0 0 4]]\n"
     ]
    }
   ],
   "source": [
    "a = np.ones((3,3))   # tuple\n",
    "print a\n",
    "\n",
    "b = np.zeros((2,2))\n",
    "print b\n",
    "\n",
    "c = np.eye(3)\n",
    "print c\n",
    "\n",
    "d = np.diag(np.array([1,2,3,4]))\n",
    "print d"
   ]
  },
  {
   "cell_type": "code",
   "execution_count": 23,
   "metadata": {
    "collapsed": false
   },
   "outputs": [
    {
     "name": "stdout",
     "output_type": "stream",
     "text": [
      "[ 0.19151945  0.62210877  0.43772774  0.78535858]\n",
      "[ 0.77997581  0.27259261  0.27646426  0.80187218]\n"
     ]
    }
   ],
   "source": [
    "a = np.random.rand(4)   # uniform\n",
    "print a\n",
    "\n",
    "b = np.random.rand(4)   # Gaussian\n",
    "print b\n",
    "\n",
    "np.random.seed(1234)  # seeting the random seed"
   ]
  },
  {
   "cell_type": "code",
   "execution_count": 31,
   "metadata": {
    "collapsed": false
   },
   "outputs": [
    {
     "name": "stdout",
     "output_type": "stream",
     "text": [
      "[ 0  1  2  3  4 10 10 10 10 10]\n",
      "[0 1 2 3 4 4 3 2 1 0]\n"
     ]
    }
   ],
   "source": [
    "a = np.arange(10)\n",
    "a[5:] = 10\n",
    "print a\n",
    "\n",
    "b = np.arange(5)\n",
    "a[5:] = b[::-1]\n",
    "print a"
   ]
  },
  {
   "cell_type": "code",
   "execution_count": 35,
   "metadata": {
    "collapsed": false
   },
   "outputs": [
    {
     "name": "stdout",
     "output_type": "stream",
     "text": [
      "[[ 0  1  2  3  4]\n",
      " [10 11 12 13 14]\n",
      " [20 21 22 23 24]\n",
      " [30 31 32 33 34]\n",
      " [40 41 42 43 44]\n",
      " [50 51 52 53 54]]\n"
     ]
    }
   ],
   "source": [
    "a = np.arange(5) + np.arange(0,51,10)[:,np.newaxis]\n",
    "print a"
   ]
  },
  {
   "cell_type": "code",
   "execution_count": 108,
   "metadata": {
    "collapsed": false
   },
   "outputs": [
    {
     "name": "stdout",
     "output_type": "stream",
     "text": [
      "[[ 0 10 20 30]\n",
      " [ 0 10 20 30]\n",
      " [ 0 10 20 30]]\n",
      "[[ 0  0  0]\n",
      " [10 10 10]\n",
      " [20 20 20]\n",
      " [30 30 30]]\n",
      "[0 0 0]\n",
      "[10 10 10]\n",
      "[20 20 20]\n",
      "[30 30 30]\n",
      "[0 0 0]\n"
     ]
    }
   ],
   "source": [
    "a = np.tile(np.arange(0,40,10),(3,1))\n",
    "print a\n",
    "a = a.T\n",
    "print a\n",
    "\n",
    "b,c,d,e = a\n",
    "print b\n",
    "print c\n",
    "print d\n",
    "print e\n",
    "\n",
    "print a[0]"
   ]
  },
  {
   "cell_type": "code",
   "execution_count": 115,
   "metadata": {
    "collapsed": false
   },
   "outputs": [
    {
     "name": "stdout",
     "output_type": "stream",
     "text": [
      "[ 0 10 20 30]\n",
      "(4,)\n",
      "[[ 0]\n",
      " [10]\n",
      " [20]\n",
      " [30]]\n",
      "(4, 1)\n",
      "[[ 1  2  3]\n",
      " [11 12 13]\n",
      " [21 22 23]\n",
      " [31 32 33]]\n",
      "(4, 3)\n"
     ]
    }
   ],
   "source": [
    "a = np.arange(0,40,10)\n",
    "print a\n",
    "print a.shape\n",
    "\n",
    "a = a[:, np.newaxis]   # adds a new axis  -> 2D array\n",
    "print a\n",
    "print a.shape\n",
    "\n",
    "b = np.array([1,2,3])\n",
    "c = a + b\n",
    "print c\n",
    "print c.shape"
   ]
  },
  {
   "cell_type": "code",
   "execution_count": 122,
   "metadata": {
    "collapsed": false
   },
   "outputs": [
    {
     "name": "stdout",
     "output_type": "stream",
     "text": [
      "[0 1 2 3 4]\n",
      "[[0]\n",
      " [1]\n",
      " [2]\n",
      " [3]\n",
      " [4]]\n",
      "[[ 0.          1.          2.          3.          4.        ]\n",
      " [ 1.          1.41421356  2.23606798  3.16227766  4.12310563]\n",
      " [ 2.          2.23606798  2.82842712  3.60555128  4.47213595]\n",
      " [ 3.          3.16227766  3.60555128  4.24264069  5.        ]\n",
      " [ 4.          4.12310563  4.47213595  5.          5.65685425]]\n",
      "(5, 5)\n"
     ]
    },
    {
     "data": {
      "text/plain": [
       "<matplotlib.colorbar.Colorbar at 0x7f7e3dcae810>"
      ]
     },
     "execution_count": 122,
     "metadata": {},
     "output_type": "execute_result"
    },
    {
     "data": {
      "image/png": "[encoded data removed]",
      "text/plain": [
       "<matplotlib.figure.Figure at 0x7f7e3e468290>"
      ]
     },
     "metadata": {},
     "output_type": "display_data"
    }
   ],
   "source": [
    "import matplotlib.pyplot as plt\n",
    "import numpy as np\n",
    "\n",
    "x, y = np.arange(5), np.arange(5)[:, np.newaxis]\n",
    "print x\n",
    "print y\n",
    "distance = np.sqrt(x**2 + y**2)\n",
    "print distance\n",
    "print distance.shape\n",
    "\n",
    "plt.pcolor(distance)\n",
    "plt.colorbar()"
   ]
  },
  {
   "cell_type": "code",
   "execution_count": 125,
   "metadata": {
    "collapsed": false
   },
   "outputs": [
    {
     "name": "stdout",
     "output_type": "stream",
     "text": [
      "[[0]\n",
      " [1]\n",
      " [2]\n",
      " [3]\n",
      " [4]]\n",
      "[[0 1 2 3 4]]\n",
      "(5, 1) (1, 5)\n",
      "[[ 0.          1.          2.          3.          4.        ]\n",
      " [ 1.          1.41421356  2.23606798  3.16227766  4.12310563]\n",
      " [ 2.          2.23606798  2.82842712  3.60555128  4.47213595]\n",
      " [ 3.          3.16227766  3.60555128  4.24264069  5.        ]\n",
      " [ 4.          4.12310563  4.47213595  5.          5.65685425]]\n"
     ]
    }
   ],
   "source": [
    "x, y = np.ogrid[0:5, 0:5]\n",
    "print x\n",
    "print y\n",
    "\n",
    "print x.shape, y.shape\n",
    "\n",
    "distance = np.sqrt(x**2 + y**2)\n",
    "print distance"
   ]
  },
  {
   "cell_type": "code",
   "execution_count": 128,
   "metadata": {
    "collapsed": false
   },
   "outputs": [
    {
     "name": "stdout",
     "output_type": "stream",
     "text": [
      "[[0 0 0 0]\n",
      " [1 1 1 1]\n",
      " [2 2 2 2]\n",
      " [3 3 3 3]]\n",
      "[[0 1 2 3]\n",
      " [0 1 2 3]\n",
      " [0 1 2 3]\n",
      " [0 1 2 3]]\n",
      "(4, 4) (4, 4)\n"
     ]
    }
   ],
   "source": [
    "x, y = np.mgrid[0:4, 0:4]\n",
    "print x\n",
    "print y\n",
    "print x.shape, y.shape"
   ]
  },
  {
   "cell_type": "markdown",
   "metadata": {},
   "source": [
    "### Array shaping"
   ]
  },
  {
   "cell_type": "code",
   "execution_count": 136,
   "metadata": {
    "collapsed": false
   },
   "outputs": [
    {
     "name": "stdout",
     "output_type": "stream",
     "text": [
      "[[1 2 3]\n",
      " [4 5 6]]\n",
      "(2, 3)\n",
      "[1 2 3 4 5 6]\n",
      "[[1 4]\n",
      " [2 5]\n",
      " [3 6]]\n",
      "[1 4 2 5 3 6]\n",
      "[[1 2]\n",
      " [3 4]\n",
      " [5 6]]\n",
      "(3, 2)\n",
      "[[1 2]\n",
      " [3 4]\n",
      " [5 6]]\n",
      "(3, 2)\n"
     ]
    }
   ],
   "source": [
    "a = np.array([[1,2,3],[4,5,6]])\n",
    "print a\n",
    "print a.shape\n",
    "print a.ravel()\n",
    "print a.T\n",
    "print a.T.ravel()\n",
    "\n",
    "b = a.ravel()\n",
    "b = b.reshape((3,2))\n",
    "print b\n",
    "print b.shape\n",
    "\n",
    "c = a.reshape((3,-1))   # unsapecified (-1) value is inferred\n",
    "print c\n",
    "print c.shape"
   ]
  },
  {
   "cell_type": "code",
   "execution_count": 165,
   "metadata": {
    "collapsed": true
   },
   "outputs": [],
   "source": [
    "a.resize?"
   ]
  },
  {
   "cell_type": "code",
   "execution_count": 162,
   "metadata": {
    "collapsed": false
   },
   "outputs": [
    {
     "data": {
      "text/plain": [
       "array([0, 1, 2, 3, 0, 0, 0, 0])"
      ]
     },
     "execution_count": 162,
     "metadata": {},
     "output_type": "execute_result"
    }
   ],
   "source": [
    "a = np.arange(4)\n",
    "a.resize((8,))\n",
    "a"
   ]
  },
  {
   "cell_type": "code",
   "execution_count": 175,
   "metadata": {
    "collapsed": false
   },
   "outputs": [
    {
     "name": "stdout",
     "output_type": "stream",
     "text": [
      "[0 1 2 3]\n",
      "[0 1 2 3 0 0 0 0]\n",
      "[0 1 2 3 0 0 0 0]\n"
     ]
    }
   ],
   "source": [
    "a = np.arange(4)\n",
    "print a\n",
    "#b = a\n",
    "c = a.copy()\n",
    "a.resize((8,))\n",
    "print a\n",
    "\n",
    "#b.resize((8,))   # referencing array cannot be resized !!     \n",
    "#print b\n",
    "\n",
    "c.resize((8,))\n",
    "print c"
   ]
  },
  {
   "cell_type": "markdown",
   "metadata": {},
   "source": [
    "### Sort"
   ]
  },
  {
   "cell_type": "code",
   "execution_count": 177,
   "metadata": {
    "collapsed": false
   },
   "outputs": [
    {
     "name": "stdout",
     "output_type": "stream",
     "text": [
      "[[3 4 5]\n",
      " [1 1 2]]\n",
      "[[3 4 5]\n",
      " [1 1 2]]\n"
     ]
    }
   ],
   "source": [
    "a = np.array([[4,3,5],[1,2,1]])\n",
    "b = np.sort(a,axis=1)\n",
    "\n",
    "print b\n",
    "\n",
    "# in-place sort\n",
    "a.sort(axis=1)\n",
    "print a"
   ]
  },
  {
   "cell_type": "code",
   "execution_count": 180,
   "metadata": {
    "collapsed": false
   },
   "outputs": [
    {
     "name": "stdout",
     "output_type": "stream",
     "text": [
      "[ 4.  3.  1.  2.]\n",
      "[2 3 1 0]\n",
      "[ 1.  2.  3.  4.]\n"
     ]
    }
   ],
   "source": [
    "a = np.array([4.,3.,1.,2.])\n",
    "j = np.argsort(a)\n",
    "print a\n",
    "print j\n",
    "print a[j]"
   ]
  },
  {
   "cell_type": "code",
   "execution_count": 182,
   "metadata": {
    "collapsed": false
   },
   "outputs": [
    {
     "name": "stdout",
     "output_type": "stream",
     "text": [
      "0 2\n",
      "4.0 1.0\n"
     ]
    }
   ],
   "source": [
    "a = np.array([4.,3.,1.,2.])\n",
    "j_max = np.argmax(a)\n",
    "j_min = np.argmin(a)\n",
    "\n",
    "print j_max, j_min\n",
    "print a[j_max], a[j_min]"
   ]
  },
  {
   "cell_type": "markdown",
   "metadata": {},
   "source": [
    "### Data type"
   ]
  },
  {
   "cell_type": "code",
   "execution_count": 25,
   "metadata": {
    "collapsed": false
   },
   "outputs": [
    {
     "name": "stdout",
     "output_type": "stream",
     "text": [
      "<type 'numpy.ndarray'>\n",
      "int64\n",
      "<type 'numpy.ndarray'>\n",
      "float64\n",
      "<type 'numpy.ndarray'>\n",
      "float64\n"
     ]
    }
   ],
   "source": [
    "a = np.array([1,2,3,4])\n",
    "print type(a)\n",
    "print a.dtype\n",
    "\n",
    "b = np.array([1.,2.,3.,4.])\n",
    "print type(b)\n",
    "print b.dtype\n",
    "\n",
    "c = np.array([1,2,3,4], dtype=float)\n",
    "print type(c)\n",
    "print c.dtype"
   ]
  },
  {
   "cell_type": "code",
   "execution_count": 30,
   "metadata": {
    "collapsed": false
   },
   "outputs": [
    {
     "name": "stdout",
     "output_type": "stream",
     "text": [
      "complex128\n",
      "bool\n",
      "|S7\n"
     ]
    }
   ],
   "source": [
    "d = np.array([1+2j, 3+4j, 5+6*1j])\n",
    "print d.dtype\n",
    "\n",
    "e = np.array([True, False, False, True])\n",
    "print e.dtype\n",
    "\n",
    "f = np.array(['Bonjour', 'Hello', 'Hallo'])\n",
    "print f.dtype"
   ]
  },
  {
   "cell_type": "markdown",
   "metadata": {},
   "source": [
    "### Copies & Views"
   ]
  },
  {
   "cell_type": "code",
   "execution_count": 42,
   "metadata": {
    "collapsed": false
   },
   "outputs": [
    {
     "name": "stdout",
     "output_type": "stream",
     "text": [
      "[0 1 2 3 4 5 6 7 8 9]\n",
      "[0 2 4 6 8]\n",
      "True\n",
      "[12  2  4  6  8]\n",
      "[12  1  2  3  4  5  6  7  8  9]\n",
      "False\n",
      "[1 2 4 6 8]\n",
      "[12  1  2  3  4  5  6  7  8  9]\n"
     ]
    }
   ],
   "source": [
    "a = np.arange(10)\n",
    "print a\n",
    "\n",
    "b = a[::2]\n",
    "print b\n",
    "\n",
    "print np.may_share_memory(a,b)\n",
    "\n",
    "b[0] = 12\n",
    "print b\n",
    "print a\n",
    "\n",
    "c = a[::2].copy()  # not share the memory. Copy of the array\n",
    "print np.may_share_memory(a,c)\n",
    "c[0] = 1\n",
    "print c\n",
    "print a"
   ]
  },
  {
   "cell_type": "code",
   "execution_count": 48,
   "metadata": {
    "collapsed": false
   },
   "outputs": [
    {
     "name": "stdout",
     "output_type": "stream",
     "text": [
      "[10  3  8  0 19 10 11  9 10  6  0 20 12  7 14]\n",
      "[False  True False  True False False False  True False  True  True False\n",
      "  True False False]\n",
      "[ 3  0  9  6  0 12]\n",
      "[10 -1  8 -1 19 10 11 -1 10 -1 -1 20 -1  7 14]\n"
     ]
    }
   ],
   "source": [
    "np.random.seed(3)\n",
    "a = np.random.random_integers(0,20,15)\n",
    "\n",
    "print a\n",
    "\n",
    "mask = (a % 3 == 0)\n",
    "print mask\n",
    "\n",
    "b = a[mask]\n",
    "print b\n",
    "\n",
    "c = a.copy()\n",
    "c[mask] = -1\n",
    "print c"
   ]
  },
  {
   "cell_type": "code",
   "execution_count": 54,
   "metadata": {
    "collapsed": false
   },
   "outputs": [
    {
     "name": "stdout",
     "output_type": "stream",
     "text": [
      "[ 0 10 20 30 40 50 60 70 80 90]\n",
      "[20 30 20 40 20]\n",
      "[90 70]\n"
     ]
    }
   ],
   "source": [
    "a = np.arange(0,100,10)\n",
    "print a\n",
    "\n",
    "b = a[[2,3,2,4,2]]  #note: [2,3,2,4,2] is a Python list\n",
    "print b\n",
    "\n",
    "c = a[[9,7]] \n",
    "print c"
   ]
  },
  {
   "cell_type": "markdown",
   "metadata": {},
   "source": [
    "## Operator"
   ]
  },
  {
   "cell_type": "code",
   "execution_count": 55,
   "metadata": {
    "collapsed": false
   },
   "outputs": [
    {
     "name": "stdout",
     "output_type": "stream",
     "text": [
      "[[ 1.  1.  1.]\n",
      " [ 1.  1.  1.]\n",
      " [ 1.  1.  1.]]\n",
      "[[ 1.  1.  1.]\n",
      " [ 1.  1.  1.]\n",
      " [ 1.  1.  1.]]\n",
      "[[ 3.  3.  3.]\n",
      " [ 3.  3.  3.]\n",
      " [ 3.  3.  3.]]\n"
     ]
    }
   ],
   "source": [
    "a = np.ones((3,3))\n",
    "print a\n",
    "\n",
    "b = a*a     # NOT matric multiplication\n",
    "print b\n",
    "\n",
    "c = a.dot(a)  # matric multiplication\n",
    "print c"
   ]
  },
  {
   "cell_type": "code",
   "execution_count": 59,
   "metadata": {
    "collapsed": false
   },
   "outputs": [
    {
     "name": "stdout",
     "output_type": "stream",
     "text": [
      "[False  True False  True]\n",
      "[False False  True False]\n",
      "False\n",
      "True\n"
     ]
    }
   ],
   "source": [
    "a = np.array([1,2,3,4])\n",
    "b = np.array([4,2,2,4])\n",
    "\n",
    "print a == b\n",
    "print a > b\n",
    "\n",
    "c = np.array([1,2,3,4])\n",
    "print np.array_equal(a,b)\n",
    "print np.array_equal(a,c)"
   ]
  },
  {
   "cell_type": "code",
   "execution_count": 76,
   "metadata": {
    "collapsed": false
   },
   "outputs": [
    {
     "name": "stdout",
     "output_type": "stream",
     "text": [
      "[ True  True  True False]\n",
      "[ True False False False]\n",
      "False\n",
      "True\n",
      "False\n",
      "True\n",
      "True\n"
     ]
    }
   ],
   "source": [
    "a = np.array([1,1,0,0], dtype=bool)\n",
    "b = np.array([1,0,1,0], dtype=bool)\n",
    "\n",
    "print np.logical_or(a,b)\n",
    "\n",
    "print np.logical_and(a,b)\n",
    "\n",
    "print np.all([True, True, False])\n",
    "print np.any([True, True, False])\n",
    "\n",
    "c = np.zeros((100,100))\n",
    "print np.any(c != 0)\n",
    "print np.all(c == c)\n",
    "\n",
    "d = np.array([1,2,3,2])\n",
    "e = np.array([2,2,3,2])\n",
    "f = np.array([6,4,4,5])\n",
    "print ((d <= e) & (e <=f)).all()"
   ]
  },
  {
   "cell_type": "code",
   "execution_count": 68,
   "metadata": {
    "collapsed": false
   },
   "outputs": [
    {
     "name": "stdout",
     "output_type": "stream",
     "text": [
      "10\n",
      "10\n",
      "[[1 1]\n",
      " [2 2]\n",
      " [3 3]]\n",
      "[6 6]\n",
      "6 6\n",
      "[2 4 6]\n",
      "0.597321456146\n",
      "0.597321456146\n"
     ]
    }
   ],
   "source": [
    "x = np.array([1,2,3,4])\n",
    "print np.sum(x)\n",
    "\n",
    "print x.sum()\n",
    "\n",
    "x = np.array([[1,1],[2,2],[3,3]])\n",
    "print x\n",
    "print x.sum(axis=0)\n",
    "print x[:,0].sum(), x[:,1].sum()\n",
    "print x.sum(axis=1)\n",
    "\n",
    "x = np.random.rand(2,2,2)\n",
    "print x.sum(axis=2)[0,1]\n",
    "print x[0,1,:].sum()"
   ]
  },
  {
   "cell_type": "code",
   "execution_count": 71,
   "metadata": {
    "collapsed": false
   },
   "outputs": [
    {
     "name": "stdout",
     "output_type": "stream",
     "text": [
      "1\n",
      "0\n",
      "3\n",
      "1\n"
     ]
    }
   ],
   "source": [
    "x = np.array([1,3,2])\n",
    "print x.min()\n",
    "print x.argmin()    # index of minimum\n",
    "print x.max()\n",
    "print x.argmax()    # index of maximum"
   ]
  },
  {
   "cell_type": "code",
   "execution_count": 82,
   "metadata": {
    "collapsed": false
   },
   "outputs": [
    {
     "name": "stdout",
     "output_type": "stream",
     "text": [
      "1.75\n",
      "1.5\n",
      "[ 2.  5.]\n",
      "0.829156197589\n"
     ]
    }
   ],
   "source": [
    "x = np.array([1,2,3,1])\n",
    "y = np.array([[1,2,3],[5,6,1]])\n",
    "\n",
    "print x.mean()\n",
    "print np.median(x)\n",
    "print np.median(y, axis=-1)\n",
    "print x.std()"
   ]
  },
  {
   "cell_type": "markdown",
   "metadata": {},
   "source": [
    "### Input & Output"
   ]
  },
  {
   "cell_type": "code",
   "execution_count": 89,
   "metadata": {
    "collapsed": false
   },
   "outputs": [
    {
     "name": "stdout",
     "output_type": "stream",
     "text": [
      "1  5.23    2345.\r\n",
      "3  3453.   212.\r\n",
      "5  23.     2345.\r\n",
      "6  234.    345.\r\n",
      "7  23.     234.\r\n"
     ]
    }
   ],
   "source": [
    "!cat ../data/colms.dat"
   ]
  },
  {
   "cell_type": "code",
   "execution_count": 94,
   "metadata": {
    "collapsed": false
   },
   "outputs": [
    {
     "name": "stdout",
     "output_type": "stream",
     "text": [
      "[[  1.00000000e+00   5.23000000e+00   2.34500000e+03]\n",
      " [  3.00000000e+00   3.45300000e+03   2.12000000e+02]\n",
      " [  5.00000000e+00   2.30000000e+01   2.34500000e+03]\n",
      " [  6.00000000e+00   2.34000000e+02   3.45000000e+02]\n",
      " [  7.00000000e+00   2.30000000e+01   2.34000000e+02]]\n",
      "float64\n",
      "[ 1.  3.  5.  6.  7.]\n",
      "[    5.23  3453.      23.     234.      23.  ]\n",
      "[ 2345.   212.  2345.   345.   234.]\n"
     ]
    }
   ],
   "source": [
    "data = np.loadtxt('../data/colms.dat')\n",
    "\n",
    "print data\n",
    "print data.dtype\n",
    "a,b,c = data.T       # Trick (transpose: colums to variables)\n",
    "\n",
    "print a\n",
    "print b\n",
    "print c"
   ]
  }
 ],
 "metadata": {
  "kernelspec": {
   "display_name": "Python 2",
   "language": "python",
   "name": "python2"
  },
  "language_info": {
   "codemirror_mode": {
    "name": "ipython",
    "version": 2
   },
   "file_extension": ".py",
   "mimetype": "text/x-python",
   "name": "python",
   "nbconvert_exporter": "python",
   "pygments_lexer": "ipython2",
   "version": "2.7.11"
  }
 },
 "nbformat": 4,
 "nbformat_minor": 0
}
