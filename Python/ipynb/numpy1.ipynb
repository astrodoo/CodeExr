{
 "cells": [
  {
   "cell_type": "code",
   "execution_count": 2,
   "metadata": {
    "collapsed": false
   },
   "outputs": [],
   "source": [
    "import numpy as np"
   ]
  },
  {
   "cell_type": "code",
   "execution_count": 116,
   "metadata": {
    "collapsed": false
   },
   "outputs": [
    {
     "name": "stdout",
     "output_type": "stream",
     "text": [
      "Populating the interactive namespace from numpy and matplotlib\n"
     ]
    },
    {
     "name": "stderr",
     "output_type": "stream",
     "text": [
      "WARNING: pylab import has clobbered these variables: ['e', 'f']\n",
      "`%matplotlib` prevents importing * from pylab and numpy\n"
     ]
    }
   ],
   "source": [
    "%pylab inline"
   ]
  },
  {
   "cell_type": "code",
   "execution_count": 2,
   "metadata": {
    "collapsed": false
   },
   "outputs": [
    {
     "data": {
      "text/plain": [
       "array(3.1415927410125732, dtype=float32)"
      ]
     },
     "execution_count": 2,
     "metadata": {},
     "output_type": "execute_result"
    }
   ],
   "source": [
    "np.cast['f'](np.pi)"
   ]
  },
  {
   "cell_type": "code",
   "execution_count": 3,
   "metadata": {
    "collapsed": false
   },
   "outputs": [
    {
     "name": "stdout",
     "output_type": "stream",
     "text": [
      "<type 'numpy.ndarray'>\n",
      "[0 1 2 3]\n"
     ]
    }
   ],
   "source": [
    "a = np.array([0,1,2,3])\n",
    "print type(a)\n",
    "\n",
    "print a"
   ]
  },
  {
   "cell_type": "code",
   "execution_count": 5,
   "metadata": {
    "collapsed": false
   },
   "outputs": [
    {
     "name": "stdout",
     "output_type": "stream",
     "text": [
      "The slowest run took 4.07 times longer than the fastest. This could mean that an intermediate result is being cached.\n",
      "100000 loops, best of 3: 5.69 µs per loop\n",
      "The slowest run took 34.35 times longer than the fastest. This could mean that an intermediate result is being cached.\n",
      "1000000 loops, best of 3: 410 ns per loop\n"
     ]
    }
   ],
   "source": [
    "L = range(100)\n",
    "%timeit [i**2 for i in L]\n",
    "\n",
    "a = np.arange(100)\n",
    "%timeit a**2"
   ]
  },
  {
   "cell_type": "code",
   "execution_count": 11,
   "metadata": {
    "collapsed": false
   },
   "outputs": [
    {
     "name": "stdout",
     "output_type": "stream",
     "text": [
      "Search results for 'square root'\n",
      "--------------------------------\n",
      "numpy.sqrt\n",
      "    Return the positive square-root of an array, element-wise.\n",
      "numpy.ma.sqrt\n",
      "    Return the positive square-root of an array, element-wise.\n",
      "numpy.roots\n",
      "    Return the roots of a polynomial with coefficients given in p.\n",
      "numpy.poly\n",
      "    Find the coefficients of a polynomial with the given sequence of roots.\n",
      "numpy.std\n",
      "    Compute the standard deviation along the specified axis.\n",
      "numpy.nanstd\n",
      "    Compute the standard deviation along the specified axis, while\n",
      "numpy.poly1d\n",
      "    A one-dimensional polynomial class.\n",
      "numpy.ma.std\n",
      "    Compute the standard deviation along the specified axis.\n",
      "numpy.linalg.cond\n",
      "    Compute the condition number of a matrix.\n",
      "numpy.ma.mvoid.std\n",
      "    Compute the standard deviation along the specified axis.\n",
      "numpy.ma.MaskedArray.std\n",
      "    Compute the standard deviation along the specified axis."
     ]
    }
   ],
   "source": [
    "np.lookfor('square root')"
   ]
  },
  {
   "cell_type": "code",
   "execution_count": 12,
   "metadata": {
    "collapsed": true
   },
   "outputs": [],
   "source": [
    "#np.con*?"
   ]
  },
  {
   "cell_type": "code",
   "execution_count": 1,
   "metadata": {
    "collapsed": false
   },
   "outputs": [
    {
     "data": {
      "text/plain": [
       "array([1, 6, 1, 2])"
      ]
     },
     "execution_count": 1,
     "metadata": {},
     "output_type": "execute_result"
    }
   ],
   "source": [
    "import numpy as np\n",
    "def addsubtract(a,b):\n",
    "    if a > b:\n",
    "        return a - b\n",
    "    else:\n",
    "        return a + b\n",
    "    \n",
    "vec_addsubtract = np.vectorize(addsubtract)\n",
    "\n",
    "vec_addsubtract([0,3,6,9],[1,3,5,7])"
   ]
  },
  {
   "cell_type": "markdown",
   "metadata": {},
   "source": [
    "## Arrays"
   ]
  },
  {
   "cell_type": "code",
   "execution_count": 14,
   "metadata": {
    "collapsed": false
   },
   "outputs": [
    {
     "name": "stdout",
     "output_type": "stream",
     "text": [
      "[0 1 2 3]\n",
      "1\n",
      "(4,)\n",
      "4\n"
     ]
    }
   ],
   "source": [
    "a = np.array([0,1,2,3])\n",
    "\n",
    "print a\n",
    "print a.ndim\n",
    "print a.shape\n",
    "print len(a)"
   ]
  },
  {
   "cell_type": "code",
   "execution_count": 15,
   "metadata": {
    "collapsed": false
   },
   "outputs": [
    {
     "name": "stdout",
     "output_type": "stream",
     "text": [
      "[[0 1 2]\n",
      " [3 4 5]]\n",
      "2\n",
      "(2, 3)\n",
      "2\n",
      "[[[1]\n",
      "  [2]]\n",
      "\n",
      " [[3]\n",
      "  [4]]]\n",
      "3\n",
      "(2, 2, 1)\n",
      "2\n"
     ]
    }
   ],
   "source": [
    "b = np.array([[0,1,2],[3,4,5]])    # 2x3 array\n",
    "print b\n",
    "print b.ndim\n",
    "print b.shape\n",
    "print len(b)\n",
    "\n",
    "c = np.array([[[1],[2]],[[3],[4]]])\n",
    "print c\n",
    "print c.ndim\n",
    "print c.shape\n",
    "print len(c)"
   ]
  },
  {
   "cell_type": "code",
   "execution_count": 18,
   "metadata": {
    "collapsed": false
   },
   "outputs": [
    {
     "name": "stdout",
     "output_type": "stream",
     "text": [
      "[0 1 2 3 4 5 6 7 8 9]\n",
      "[1 3 5 7]\n",
      "[ 0.   0.2  0.4  0.6  0.8  1. ]\n",
      "[ 0.   0.2  0.4  0.6  0.8]\n"
     ]
    }
   ],
   "source": [
    "a = np.arange(10)\n",
    "print a\n",
    "\n",
    "b = np.arange(1,9,2)\n",
    "print b\n",
    "\n",
    "c = np.linspace(0,1,6)  # start, end, num-points\n",
    "print c\n",
    "\n",
    "d = np.linspace(0,1,5,endpoint=False)\n",
    "print d"
   ]
  },
  {
   "cell_type": "code",
   "execution_count": 19,
   "metadata": {
    "collapsed": false
   },
   "outputs": [
    {
     "name": "stdout",
     "output_type": "stream",
     "text": [
      "[[ 1.  1.  1.]\n",
      " [ 1.  1.  1.]\n",
      " [ 1.  1.  1.]]\n",
      "[[ 0.  0.]\n",
      " [ 0.  0.]]\n",
      "[[ 1.  0.  0.]\n",
      " [ 0.  1.  0.]\n",
      " [ 0.  0.  1.]]\n",
      "[[1 0 0 0]\n",
      " [0 2 0 0]\n",
      " [0 0 3 0]\n",
      " [0 0 0 4]]\n"
     ]
    }
   ],
   "source": [
    "a = np.ones((3,3))   # tuple\n",
    "print a\n",
    "\n",
    "b = np.zeros((2,2))\n",
    "print b\n",
    "\n",
    "c = np.eye(3)\n",
    "print c\n",
    "\n",
    "d = np.diag(np.array([1,2,3,4]))\n",
    "print d"
   ]
  },
  {
   "cell_type": "code",
   "execution_count": 23,
   "metadata": {
    "collapsed": false
   },
   "outputs": [
    {
     "name": "stdout",
     "output_type": "stream",
     "text": [
      "[ 0.19151945  0.62210877  0.43772774  0.78535858]\n",
      "[ 0.77997581  0.27259261  0.27646426  0.80187218]\n"
     ]
    }
   ],
   "source": [
    "a = np.random.rand(4)   # uniform\n",
    "print a\n",
    "\n",
    "b = np.random.rand(4)   # Gaussian\n",
    "print b\n",
    "\n",
    "np.random.seed(1234)  # seeting the random seed"
   ]
  },
  {
   "cell_type": "code",
   "execution_count": 31,
   "metadata": {
    "collapsed": false
   },
   "outputs": [
    {
     "name": "stdout",
     "output_type": "stream",
     "text": [
      "[ 0  1  2  3  4 10 10 10 10 10]\n",
      "[0 1 2 3 4 4 3 2 1 0]\n"
     ]
    }
   ],
   "source": [
    "a = np.arange(10)\n",
    "a[5:] = 10\n",
    "print a\n",
    "\n",
    "b = np.arange(5)\n",
    "a[5:] = b[::-1]\n",
    "print a"
   ]
  },
  {
   "cell_type": "code",
   "execution_count": 35,
   "metadata": {
    "collapsed": false
   },
   "outputs": [
    {
     "name": "stdout",
     "output_type": "stream",
     "text": [
      "[[ 0  1  2  3  4]\n",
      " [10 11 12 13 14]\n",
      " [20 21 22 23 24]\n",
      " [30 31 32 33 34]\n",
      " [40 41 42 43 44]\n",
      " [50 51 52 53 54]]\n"
     ]
    }
   ],
   "source": [
    "a = np.arange(5) + np.arange(0,51,10)[:,np.newaxis]\n",
    "print a"
   ]
  },
  {
   "cell_type": "code",
   "execution_count": 108,
   "metadata": {
    "collapsed": false
   },
   "outputs": [
    {
     "name": "stdout",
     "output_type": "stream",
     "text": [
      "[[ 0 10 20 30]\n",
      " [ 0 10 20 30]\n",
      " [ 0 10 20 30]]\n",
      "[[ 0  0  0]\n",
      " [10 10 10]\n",
      " [20 20 20]\n",
      " [30 30 30]]\n",
      "[0 0 0]\n",
      "[10 10 10]\n",
      "[20 20 20]\n",
      "[30 30 30]\n",
      "[0 0 0]\n"
     ]
    }
   ],
   "source": [
    "a = np.tile(np.arange(0,40,10),(3,1))\n",
    "print a\n",
    "a = a.T\n",
    "print a\n",
    "\n",
    "b,c,d,e = a\n",
    "print b\n",
    "print c\n",
    "print d\n",
    "print e\n",
    "\n",
    "print a[0]"
   ]
  },
  {
   "cell_type": "code",
   "execution_count": 115,
   "metadata": {
    "collapsed": false
   },
   "outputs": [
    {
     "name": "stdout",
     "output_type": "stream",
     "text": [
      "[ 0 10 20 30]\n",
      "(4,)\n",
      "[[ 0]\n",
      " [10]\n",
      " [20]\n",
      " [30]]\n",
      "(4, 1)\n",
      "[[ 1  2  3]\n",
      " [11 12 13]\n",
      " [21 22 23]\n",
      " [31 32 33]]\n",
      "(4, 3)\n"
     ]
    }
   ],
   "source": [
    "a = np.arange(0,40,10)\n",
    "print a\n",
    "print a.shape\n",
    "\n",
    "a = a[:, np.newaxis]   # adds a new axis  -> 2D array\n",
    "print a\n",
    "print a.shape\n",
    "\n",
    "b = np.array([1,2,3])\n",
    "c = a + b\n",
    "print c\n",
    "print c.shape"
   ]
  },
  {
   "cell_type": "code",
   "execution_count": 122,
   "metadata": {
    "collapsed": false
   },
   "outputs": [
    {
     "name": "stdout",
     "output_type": "stream",
     "text": [
      "[0 1 2 3 4]\n",
      "[[0]\n",
      " [1]\n",
      " [2]\n",
      " [3]\n",
      " [4]]\n",
      "[[ 0.          1.          2.          3.          4.        ]\n",
      " [ 1.          1.41421356  2.23606798  3.16227766  4.12310563]\n",
      " [ 2.          2.23606798  2.82842712  3.60555128  4.47213595]\n",
      " [ 3.          3.16227766  3.60555128  4.24264069  5.        ]\n",
      " [ 4.          4.12310563  4.47213595  5.          5.65685425]]\n",
      "(5, 5)\n"
     ]
    },
    {
     "data": {
      "text/plain": [
       "<matplotlib.colorbar.Colorbar at 0x7f7e3dcae810>"
      ]
     },
     "execution_count": 122,
     "metadata": {},
     "output_type": "execute_result"
    },
    {
     "data": {
      "image/png": "[encoded data removed]",
      "text/plain": [
       "<matplotlib.figure.Figure at 0x7f7e3e468290>"
      ]
     },
     "metadata": {},
     "output_type": "display_data"
    }
   ],
   "source": [
    "import matplotlib.pyplot as plt\n",
    "import numpy as np\n",
    "\n",
    "x, y = np.arange(5), np.arange(5)[:, np.newaxis]\n",
    "print x\n",
    "print y\n",
    "distance = np.sqrt(x**2 + y**2)\n",
    "print distance\n",
    "print distance.shape\n",
    "\n",
    "plt.pcolor(distance)\n",
    "plt.colorbar()"
   ]
  },
  {
   "cell_type": "code",
   "execution_count": 125,
   "metadata": {
    "collapsed": false
   },
   "outputs": [
    {
     "name": "stdout",
     "output_type": "stream",
     "text": [
      "[[0]\n",
      " [1]\n",
      " [2]\n",
      " [3]\n",
      " [4]]\n",
      "[[0 1 2 3 4]]\n",
      "(5, 1) (1, 5)\n",
      "[[ 0.          1.          2.          3.          4.        ]\n",
      " [ 1.          1.41421356  2.23606798  3.16227766  4.12310563]\n",
      " [ 2.          2.23606798  2.82842712  3.60555128  4.47213595]\n",
      " [ 3.          3.16227766  3.60555128  4.24264069  5.        ]\n",
      " [ 4.          4.12310563  4.47213595  5.          5.65685425]]\n"
     ]
    }
   ],
   "source": [
    "x, y = np.ogrid[0:5, 0:5]\n",
    "print x\n",
    "print y\n",
    "\n",
    "print x.shape, y.shape\n",
    "\n",
    "distance = np.sqrt(x**2 + y**2)\n",
    "print distance"
   ]
  },
  {
   "cell_type": "code",
   "execution_count": 128,
   "metadata": {
    "collapsed": false
   },
   "outputs": [
    {
     "name": "stdout",
     "output_type": "stream",
     "text": [
      "[[0 0 0 0]\n",
      " [1 1 1 1]\n",
      " [2 2 2 2]\n",
      " [3 3 3 3]]\n",
      "[[0 1 2 3]\n",
      " [0 1 2 3]\n",
      " [0 1 2 3]\n",
      " [0 1 2 3]]\n",
      "(4, 4) (4, 4)\n"
     ]
    }
   ],
   "source": [
    "x, y = np.mgrid[0:4, 0:4]\n",
    "print x\n",
    "print y\n",
    "print x.shape, y.shape"
   ]
  },
  {
   "cell_type": "markdown",
   "metadata": {},
   "source": [
    "### Array shaping"
   ]
  },
  {
   "cell_type": "code",
   "execution_count": 136,
   "metadata": {
    "collapsed": false
   },
   "outputs": [
    {
     "name": "stdout",
     "output_type": "stream",
     "text": [
      "[[1 2 3]\n",
      " [4 5 6]]\n",
      "(2, 3)\n",
      "[1 2 3 4 5 6]\n",
      "[[1 4]\n",
      " [2 5]\n",
      " [3 6]]\n",
      "[1 4 2 5 3 6]\n",
      "[[1 2]\n",
      " [3 4]\n",
      " [5 6]]\n",
      "(3, 2)\n",
      "[[1 2]\n",
      " [3 4]\n",
      " [5 6]]\n",
      "(3, 2)\n"
     ]
    }
   ],
   "source": [
    "a = np.array([[1,2,3],[4,5,6]])\n",
    "print a\n",
    "print a.shape\n",
    "print a.ravel()\n",
    "print a.T\n",
    "print a.T.ravel()\n",
    "\n",
    "b = a.ravel()\n",
    "b = b.reshape((3,2))\n",
    "print b\n",
    "print b.shape\n",
    "\n",
    "c = a.reshape((3,-1))   # unsapecified (-1) value is inferred\n",
    "print c\n",
    "print c.shape"
   ]
  },
  {
   "cell_type": "code",
   "execution_count": 165,
   "metadata": {
    "collapsed": true
   },
   "outputs": [],
   "source": [
    "a.resize?"
   ]
  },
  {
   "cell_type": "code",
   "execution_count": 162,
   "metadata": {
    "collapsed": false
   },
   "outputs": [
    {
     "data": {
      "text/plain": [
       "array([0, 1, 2, 3, 0, 0, 0, 0])"
      ]
     },
     "execution_count": 162,
     "metadata": {},
     "output_type": "execute_result"
    }
   ],
   "source": [
    "a = np.arange(4)\n",
    "a.resize((8,))\n",
    "a"
   ]
  },
  {
   "cell_type": "code",
   "execution_count": 175,
   "metadata": {
    "collapsed": false
   },
   "outputs": [
    {
     "name": "stdout",
     "output_type": "stream",
     "text": [
      "[0 1 2 3]\n",
      "[0 1 2 3 0 0 0 0]\n",
      "[0 1 2 3 0 0 0 0]\n"
     ]
    }
   ],
   "source": [
    "a = np.arange(4)\n",
    "print a\n",
    "#b = a\n",
    "c = a.copy()\n",
    "a.resize((8,))\n",
    "print a\n",
    "\n",
    "#b.resize((8,))   # referencing array cannot be resized !!     \n",
    "#print b\n",
    "\n",
    "c.resize((8,))\n",
    "print c"
   ]
  },
  {
   "cell_type": "markdown",
   "metadata": {},
   "source": [
    "### Sort"
   ]
  },
  {
   "cell_type": "code",
   "execution_count": 177,
   "metadata": {
    "collapsed": false
   },
   "outputs": [
    {
     "name": "stdout",
     "output_type": "stream",
     "text": [
      "[[3 4 5]\n",
      " [1 1 2]]\n",
      "[[3 4 5]\n",
      " [1 1 2]]\n"
     ]
    }
   ],
   "source": [
    "a = np.array([[4,3,5],[1,2,1]])\n",
    "b = np.sort(a,axis=1)\n",
    "\n",
    "print b\n",
    "\n",
    "# in-place sort\n",
    "a.sort(axis=1)\n",
    "print a"
   ]
  },
  {
   "cell_type": "code",
   "execution_count": 180,
   "metadata": {
    "collapsed": false
   },
   "outputs": [
    {
     "name": "stdout",
     "output_type": "stream",
     "text": [
      "[ 4.  3.  1.  2.]\n",
      "[2 3 1 0]\n",
      "[ 1.  2.  3.  4.]\n"
     ]
    }
   ],
   "source": [
    "a = np.array([4.,3.,1.,2.])\n",
    "j = np.argsort(a)\n",
    "print a\n",
    "print j\n",
    "print a[j]"
   ]
  },
  {
   "cell_type": "code",
   "execution_count": 182,
   "metadata": {
    "collapsed": false,
    "scrolled": true
   },
   "outputs": [
    {
     "name": "stdout",
     "output_type": "stream",
     "text": [
      "0 2\n",
      "4.0 1.0\n"
     ]
    }
   ],
   "source": [
    "a = np.array([4.,3.,1.,2.])\n",
    "j_max = np.argmax(a)\n",
    "j_min = np.argmin(a)\n",
    "\n",
    "print j_max, j_min\n",
    "print a[j_max], a[j_min]"
   ]
  },
  {
   "cell_type": "markdown",
   "metadata": {},
   "source": [
    "### Data type"
   ]
  },
  {
   "cell_type": "code",
   "execution_count": 25,
   "metadata": {
    "collapsed": false
   },
   "outputs": [
    {
     "name": "stdout",
     "output_type": "stream",
     "text": [
      "<type 'numpy.ndarray'>\n",
      "int64\n",
      "<type 'numpy.ndarray'>\n",
      "float64\n",
      "<type 'numpy.ndarray'>\n",
      "float64\n"
     ]
    }
   ],
   "source": [
    "a = np.array([1,2,3,4])\n",
    "print type(a)\n",
    "print a.dtype\n",
    "\n",
    "b = np.array([1.,2.,3.,4.])\n",
    "print type(b)\n",
    "print b.dtype\n",
    "\n",
    "c = np.array([1,2,3,4], dtype=float)\n",
    "print type(c)\n",
    "print c.dtype"
   ]
  },
  {
   "cell_type": "code",
   "execution_count": 30,
   "metadata": {
    "collapsed": false
   },
   "outputs": [
    {
     "name": "stdout",
     "output_type": "stream",
     "text": [
      "complex128\n",
      "bool\n",
      "|S7\n"
     ]
    }
   ],
   "source": [
    "d = np.array([1+2j, 3+4j, 5+6*1j])\n",
    "print d.dtype\n",
    "\n",
    "e = np.array([True, False, False, True])\n",
    "print e.dtype\n",
    "\n",
    "f = np.array(['Bonjour', 'Hello', 'Hallo'])\n",
    "print f.dtype"
   ]
  },
  {
   "cell_type": "code",
   "execution_count": 183,
   "metadata": {
    "collapsed": false
   },
   "outputs": [
    {
     "name": "stdout",
     "output_type": "stream",
     "text": [
      "[1 1 1]\n"
     ]
    }
   ],
   "source": [
    "a = np.array([1.7,1.2,1.6])\n",
    "b = a.astype(int)   # truncate to integer\n",
    "print b"
   ]
  },
  {
   "cell_type": "code",
   "execution_count": 184,
   "metadata": {
    "collapsed": false
   },
   "outputs": [
    {
     "name": "stdout",
     "output_type": "stream",
     "text": [
      "[ 1.  2.  2.  2.  4.  4.]\n",
      "[1 2 2 2 4 4]\n"
     ]
    }
   ],
   "source": [
    "a = np.array([1.2,1.5,1.6,2.5,3.5,4.5])\n",
    "b = np.around(a)\n",
    "print b\n",
    "\n",
    "c = np.around(a).astype(int)\n",
    "print c"
   ]
  },
  {
   "cell_type": "code",
   "execution_count": 185,
   "metadata": {
    "collapsed": false
   },
   "outputs": [
    {
     "name": "stdout",
     "output_type": "stream",
     "text": [
      "int64\n",
      "2147483647 2147483647\n",
      "9223372036854775807 9223372036854775807\n"
     ]
    }
   ],
   "source": [
    "\"\"\" Integer \n",
    "int8, int16, int32, int64 (same as int on 64-bit platform) \"\"\"\n",
    "\n",
    "print np.array([1],dtype=int).dtype\n",
    "print np.iinfo(np.int32).max, 2**31 - 1\n",
    "print np.iinfo(np.int64).max, 2**63 - 1"
   ]
  },
  {
   "cell_type": "code",
   "execution_count": 187,
   "metadata": {
    "collapsed": false
   },
   "outputs": [
    {
     "name": "stdout",
     "output_type": "stream",
     "text": [
      "4294967295 4294967295\n",
      "18446744073709551615 18446744073709551615\n"
     ]
    }
   ],
   "source": [
    "\"\"\" Unsigned Integer \n",
    "uint8, uint16, uint32, uint64 \"\"\"\n",
    "\n",
    "print np.iinfo(np.uint32).max, 2**32 - 1\n",
    "print np.iinfo(np.uint64).max, 2**64 - 1"
   ]
  },
  {
   "cell_type": "code",
   "execution_count": 195,
   "metadata": {
    "collapsed": false
   },
   "outputs": [
    {
     "name": "stdout",
     "output_type": "stream",
     "text": [
      "1.19209e-07\n",
      "2.22044604925e-16\n",
      "True\n",
      "False\n"
     ]
    }
   ],
   "source": [
    "\"\"\" Float \n",
    "float16, float32, float64 (same as float), \n",
    "float96, float128 (same as np.longdouble) \"\"\"\n",
    "\n",
    "print np.finfo(np.float32).eps  # The smallest representable positive number\n",
    "print np.finfo(np.float64).eps  # same as float\n",
    "\n",
    "print np.float32(1e-8) + np.float32(1) == 1\n",
    "print np.float64(1e-8) + np.float64(1) == 1"
   ]
  },
  {
   "cell_type": "code",
   "execution_count": 217,
   "metadata": {
    "collapsed": false
   },
   "outputs": [
    {
     "name": "stdout",
     "output_type": "stream",
     "text": [
      "1\n",
      "(6,)\n",
      "[('sensor_code', 'S4'), ('position', '<f8'), ('value', '<f8')]\n",
      "('sensor_code', 'position', 'value')\n",
      "[('', 0.0, 0.0) ('', 0.0, 0.0) ('', 0.0, 0.0) ('', 0.0, 0.0) ('', 0.0, 0.0)\n",
      " ('', 0.0, 0.0)]\n",
      "[('ALFA', 1.0, 0.37) ('BETA', 1.0, 0.11) ('TAU', 1.0, 0.13)\n",
      " ('ALFA', 1.5, 0.37) ('ALFA', 3.0, 0.11) ('TAU', 1.2, 0.13)]\n",
      "['ALFA' 'BETA' 'TAU' 'ALFA' 'ALFA' 'TAU']\n",
      "BETA\n",
      "('ALFA', 1.0, 0.37)\n",
      "[(1.0, 0.37) (1.0, 0.11) (1.0, 0.13) (1.5, 0.37) (3.0, 0.11) (1.2, 0.13)]\n",
      "[('ALFA', 1.0, 0.37) ('ALFA', 1.5, 0.37) ('ALFA', 3.0, 0.11)]\n",
      "[ 1.   1.5  3. ]\n"
     ]
    }
   ],
   "source": [
    "\"\"\" Structured data type \"\"\"\n",
    "\n",
    "samples = np.zeros((6,),dtype=[('sensor_code','S4'),\n",
    "                               ('position',float),('value',float)])\n",
    "print samples.ndim\n",
    "print samples.shape\n",
    "print samples.dtype\n",
    "print samples.dtype.names\n",
    "\n",
    "print samples\n",
    "samples[:] = [('ALFA', 1, 0.37), ('BETA', 1, 0.11), ('TAU', 1, 0.13),\n",
    "              ('ALFA', 1.5, 0.37), ('ALFA', 3, 0.11), ('TAU', 1.2, 0.13)]\n",
    "print samples\n",
    "print samples['sensor_code']\n",
    "print samples['sensor_code'][1]\n",
    "print samples[0]\n",
    "print samples[['position', 'value']]\n",
    "print samples[samples['sensor_code'] == 'ALFA']\n",
    "print samples['position'][samples['sensor_code'] == 'ALFA']"
   ]
  },
  {
   "cell_type": "markdown",
   "metadata": {},
   "source": [
    "## Maskedarray (Missing Data)"
   ]
  },
  {
   "cell_type": "code",
   "execution_count": 221,
   "metadata": {
    "collapsed": true
   },
   "outputs": [],
   "source": [
    "?np.ma"
   ]
  },
  {
   "cell_type": "code",
   "execution_count": 232,
   "metadata": {
    "collapsed": false
   },
   "outputs": [
    {
     "data": {
      "text/plain": [
       "masked_array(data = [1 -- 3 --],\n",
       "             mask = [False  True False  True],\n",
       "       fill_value = 999999)"
      ]
     },
     "execution_count": 232,
     "metadata": {},
     "output_type": "execute_result"
    }
   ],
   "source": [
    "x = np.ma.array([1,2,3,4], mask=[0,1,0,1])\n",
    "x"
   ]
  },
  {
   "cell_type": "code",
   "execution_count": 233,
   "metadata": {
    "collapsed": false
   },
   "outputs": [
    {
     "data": {
      "text/plain": [
       "masked_array(data = [2 -- -- --],\n",
       "             mask = [False  True  True  True],\n",
       "       fill_value = 999999)"
      ]
     },
     "execution_count": 233,
     "metadata": {},
     "output_type": "execute_result"
    }
   ],
   "source": [
    "y = np.ma.array([1,2,3,4], mask=[0,1,1,1])\n",
    "x+y"
   ]
  },
  {
   "cell_type": "code",
   "execution_count": 237,
   "metadata": {
    "collapsed": false
   },
   "outputs": [
    {
     "data": {
      "text/plain": [
       "array([ 1.        ,         nan,  1.41421356,         nan])"
      ]
     },
     "execution_count": 237,
     "metadata": {},
     "output_type": "execute_result"
    }
   ],
   "source": [
    "np.sqrt([1,-1,2,-2])"
   ]
  },
  {
   "cell_type": "code",
   "execution_count": 238,
   "metadata": {
    "collapsed": false
   },
   "outputs": [
    {
     "data": {
      "text/plain": [
       "masked_array(data = [1.0 -- 1.4142135623730951 --],\n",
       "             mask = [False  True False  True],\n",
       "       fill_value = 1e+20)"
      ]
     },
     "execution_count": 238,
     "metadata": {},
     "output_type": "execute_result"
    }
   ],
   "source": [
    "np.ma.sqrt([1,-1,2,-2])"
   ]
  },
  {
   "cell_type": "code",
   "execution_count": 228,
   "metadata": {
    "collapsed": false
   },
   "outputs": [
    {
     "name": "stdout",
     "output_type": "stream",
     "text": [
      "nan\n",
      "[2.0 1.0 3.0 -- 5.0 2.0 3.0 --]\n",
      "2.66666666667 2.66666666667\n"
     ]
    }
   ],
   "source": [
    "x = np.array([2, 1, 3, np.nan, 5, 2, 3, np.nan])\n",
    "print np.mean(x)\n",
    "\n",
    "m = np.ma.masked_array(x, np.isnan(x))\n",
    "print m\n",
    "print np.mean(m), (2.+1.+3.+5.+2.+3.)/6."
   ]
  },
  {
   "cell_type": "markdown",
   "metadata": {},
   "source": [
    "### Copies & Views"
   ]
  },
  {
   "cell_type": "code",
   "execution_count": 42,
   "metadata": {
    "collapsed": false
   },
   "outputs": [
    {
     "name": "stdout",
     "output_type": "stream",
     "text": [
      "[0 1 2 3 4 5 6 7 8 9]\n",
      "[0 2 4 6 8]\n",
      "True\n",
      "[12  2  4  6  8]\n",
      "[12  1  2  3  4  5  6  7  8  9]\n",
      "False\n",
      "[1 2 4 6 8]\n",
      "[12  1  2  3  4  5  6  7  8  9]\n"
     ]
    }
   ],
   "source": [
    "a = np.arange(10)\n",
    "print a\n",
    "\n",
    "b = a[::2]\n",
    "print b\n",
    "\n",
    "print np.may_share_memory(a,b)\n",
    "\n",
    "b[0] = 12\n",
    "print b\n",
    "print a\n",
    "\n",
    "c = a[::2].copy()  # not share the memory. Copy of the array\n",
    "print np.may_share_memory(a,c)\n",
    "c[0] = 1\n",
    "print c\n",
    "print a"
   ]
  },
  {
   "cell_type": "code",
   "execution_count": 48,
   "metadata": {
    "collapsed": false
   },
   "outputs": [
    {
     "name": "stdout",
     "output_type": "stream",
     "text": [
      "[10  3  8  0 19 10 11  9 10  6  0 20 12  7 14]\n",
      "[False  True False  True False False False  True False  True  True False\n",
      "  True False False]\n",
      "[ 3  0  9  6  0 12]\n",
      "[10 -1  8 -1 19 10 11 -1 10 -1 -1 20 -1  7 14]\n"
     ]
    }
   ],
   "source": [
    "np.random.seed(3)\n",
    "a = np.random.random_integers(0,20,15)\n",
    "\n",
    "print a\n",
    "\n",
    "mask = (a % 3 == 0)\n",
    "print mask\n",
    "\n",
    "b = a[mask]\n",
    "print b\n",
    "\n",
    "c = a.copy()\n",
    "c[mask] = -1\n",
    "print c"
   ]
  },
  {
   "cell_type": "code",
   "execution_count": 54,
   "metadata": {
    "collapsed": false
   },
   "outputs": [
    {
     "name": "stdout",
     "output_type": "stream",
     "text": [
      "[ 0 10 20 30 40 50 60 70 80 90]\n",
      "[20 30 20 40 20]\n",
      "[90 70]\n"
     ]
    }
   ],
   "source": [
    "a = np.arange(0,100,10)\n",
    "print a\n",
    "\n",
    "b = a[[2,3,2,4,2]]  #note: [2,3,2,4,2] is a Python list\n",
    "print b\n",
    "\n",
    "c = a[[9,7]] \n",
    "print c"
   ]
  },
  {
   "cell_type": "markdown",
   "metadata": {},
   "source": [
    "## Operator"
   ]
  },
  {
   "cell_type": "code",
   "execution_count": 55,
   "metadata": {
    "collapsed": false
   },
   "outputs": [
    {
     "name": "stdout",
     "output_type": "stream",
     "text": [
      "[[ 1.  1.  1.]\n",
      " [ 1.  1.  1.]\n",
      " [ 1.  1.  1.]]\n",
      "[[ 1.  1.  1.]\n",
      " [ 1.  1.  1.]\n",
      " [ 1.  1.  1.]]\n",
      "[[ 3.  3.  3.]\n",
      " [ 3.  3.  3.]\n",
      " [ 3.  3.  3.]]\n"
     ]
    }
   ],
   "source": [
    "a = np.ones((3,3))\n",
    "print a\n",
    "\n",
    "b = a*a     # NOT matric multiplication\n",
    "print b\n",
    "\n",
    "c = a.dot(a)  # matric multiplication\n",
    "print c"
   ]
  },
  {
   "cell_type": "code",
   "execution_count": 59,
   "metadata": {
    "collapsed": false
   },
   "outputs": [
    {
     "name": "stdout",
     "output_type": "stream",
     "text": [
      "[False  True False  True]\n",
      "[False False  True False]\n",
      "False\n",
      "True\n"
     ]
    }
   ],
   "source": [
    "a = np.array([1,2,3,4])\n",
    "b = np.array([4,2,2,4])\n",
    "\n",
    "print a == b\n",
    "print a > b\n",
    "\n",
    "c = np.array([1,2,3,4])\n",
    "print np.array_equal(a,b)\n",
    "print np.array_equal(a,c)"
   ]
  },
  {
   "cell_type": "code",
   "execution_count": 76,
   "metadata": {
    "collapsed": false
   },
   "outputs": [
    {
     "name": "stdout",
     "output_type": "stream",
     "text": [
      "[ True  True  True False]\n",
      "[ True False False False]\n",
      "False\n",
      "True\n",
      "False\n",
      "True\n",
      "True\n"
     ]
    }
   ],
   "source": [
    "a = np.array([1,1,0,0], dtype=bool)\n",
    "b = np.array([1,0,1,0], dtype=bool)\n",
    "\n",
    "print np.logical_or(a,b)\n",
    "\n",
    "print np.logical_and(a,b)\n",
    "\n",
    "print np.all([True, True, False])\n",
    "print np.any([True, True, False])\n",
    "\n",
    "c = np.zeros((100,100))\n",
    "print np.any(c != 0)\n",
    "print np.all(c == c)\n",
    "\n",
    "d = np.array([1,2,3,2])\n",
    "e = np.array([2,2,3,2])\n",
    "f = np.array([6,4,4,5])\n",
    "print ((d <= e) & (e <=f)).all()"
   ]
  },
  {
   "cell_type": "code",
   "execution_count": 68,
   "metadata": {
    "collapsed": false
   },
   "outputs": [
    {
     "name": "stdout",
     "output_type": "stream",
     "text": [
      "10\n",
      "10\n",
      "[[1 1]\n",
      " [2 2]\n",
      " [3 3]]\n",
      "[6 6]\n",
      "6 6\n",
      "[2 4 6]\n",
      "0.597321456146\n",
      "0.597321456146\n"
     ]
    }
   ],
   "source": [
    "x = np.array([1,2,3,4])\n",
    "print np.sum(x)\n",
    "\n",
    "print x.sum()\n",
    "\n",
    "x = np.array([[1,1],[2,2],[3,3]])\n",
    "print x\n",
    "print x.sum(axis=0)\n",
    "print x[:,0].sum(), x[:,1].sum()\n",
    "print x.sum(axis=1)\n",
    "\n",
    "x = np.random.rand(2,2,2)\n",
    "print x.sum(axis=2)[0,1]\n",
    "print x[0,1,:].sum()"
   ]
  },
  {
   "cell_type": "code",
   "execution_count": 71,
   "metadata": {
    "collapsed": false
   },
   "outputs": [
    {
     "name": "stdout",
     "output_type": "stream",
     "text": [
      "1\n",
      "0\n",
      "3\n",
      "1\n"
     ]
    }
   ],
   "source": [
    "x = np.array([1,3,2])\n",
    "print x.min()\n",
    "print x.argmin()    # index of minimum\n",
    "print x.max()\n",
    "print x.argmax()    # index of maximum"
   ]
  },
  {
   "cell_type": "code",
   "execution_count": 82,
   "metadata": {
    "collapsed": false
   },
   "outputs": [
    {
     "name": "stdout",
     "output_type": "stream",
     "text": [
      "1.75\n",
      "1.5\n",
      "[ 2.  5.]\n",
      "0.829156197589\n"
     ]
    }
   ],
   "source": [
    "x = np.array([1,2,3,1])\n",
    "y = np.array([[1,2,3],[5,6,1]])\n",
    "\n",
    "print x.mean()\n",
    "print np.median(x)\n",
    "print np.median(y, axis=-1)\n",
    "print x.std()"
   ]
  },
  {
   "cell_type": "markdown",
   "metadata": {},
   "source": [
    "### Polynomials"
   ]
  },
  {
   "cell_type": "code",
   "execution_count": 251,
   "metadata": {
    "collapsed": false
   },
   "outputs": [
    {
     "name": "stdout",
     "output_type": "stream",
     "text": [
      "   2\n",
      "3 x + 2 x - 1\n",
      "32\n",
      "[-1.          0.33333333]\n",
      "2\n"
     ]
    }
   ],
   "source": [
    "# 3x^2 + 2x -1:\n",
    "\n",
    "p = np.poly1d([3,2,-1])\n",
    "print p\n",
    "print p(3)\n",
    "\n",
    "print p.roots\n",
    "print p.order"
   ]
  },
  {
   "cell_type": "code",
   "execution_count": 262,
   "metadata": {
    "collapsed": false
   },
   "outputs": [
    {
     "name": "stdout",
     "output_type": "stream",
     "text": [
      "       5         4         3         2\n",
      "7.523 x - 23.43 x + 24.11 x - 10.07 x + 1.288 x + 1.123\n"
     ]
    },
    {
     "data": {
      "text/plain": [
       "[<matplotlib.lines.Line2D at 0x7f7e3d5a5f10>,\n",
       " <matplotlib.lines.Line2D at 0x7f7e3d7b43d0>]"
      ]
     },
     "execution_count": 262,
     "metadata": {},
     "output_type": "execute_result"
    },
    {
     "data": {
      "image/png": "[encoded data removed]",
      "text/plain": [
       "<matplotlib.figure.Figure at 0x7f7e3d7b47d0>"
      ]
     },
     "metadata": {},
     "output_type": "display_data"
    }
   ],
   "source": [
    "import matplotlib.pyplot as plt\n",
    "import numpy as np\n",
    "\n",
    "x = np.linspace(0,1,20)\n",
    "y = np.cos(x) + 0.3*np.random.rand(20)\n",
    "p = np.poly1d(np.polyfit(x,y,5))\n",
    "\n",
    "print p\n",
    "\n",
    "t = np.linspace(0,1,200)\n",
    "plt.plot(x,y,'o', t,p(t),'-')"
   ]
  },
  {
   "cell_type": "code",
   "execution_count": 265,
   "metadata": {
    "collapsed": false
   },
   "outputs": [
    {
     "name": "stdout",
     "output_type": "stream",
     "text": [
      "poly([-1.  2.  3.])\n",
      "[-1.          0.33333333]\n",
      "<bound method Polynomial.degree of Polynomial([-1.,  2.,  3.], [-1,  1], [-1,  1])>\n"
     ]
    }
   ],
   "source": [
    "# 3x^2 + 2x -1:\n",
    "\n",
    "p = np.polynomial.Polynomial([-1,2,3])   # coefs in different order!\n",
    "print p\n",
    "\n",
    "print p.roots()\n",
    "print p.degree    # No 'order' for general polynomials"
   ]
  },
  {
   "cell_type": "code",
   "execution_count": 269,
   "metadata": {
    "collapsed": false
   },
   "outputs": [
    {
     "name": "stdout",
     "output_type": "stream",
     "text": [
      "cheb([  9.14856046e-01   9.16918805e-04  -2.22391095e-01  -2.72710372e-03\n",
      "   9.43318826e-03  -1.19341468e-03   3.11872741e-03  -4.99674000e-03\n",
      "   9.47190487e-04   1.29978645e-03   2.45631667e-03   5.53716487e-03\n",
      "  -3.90342923e-04   2.58664170e-03  -5.51597570e-03  -2.05014948e-03\n",
      "   8.35848616e-04   1.26722344e-03   1.51582847e-04  -2.59160642e-04\n",
      "  -1.86248950e-03  -6.12008945e-04   9.35659030e-04  -6.13731329e-04\n",
      "   2.55125619e-03   3.25321105e-03  -4.38665551e-04  -2.31647572e-04\n",
      "   5.89829504e-03  -1.55267367e-03  -9.73709163e-04  -5.87677606e-03\n",
      "  -2.75849407e-03  -3.33474562e-03  -3.74551336e-03   1.15548082e-03\n",
      "  -3.00258528e-03  -1.75516052e-03  -2.72317217e-03   2.07470179e-03\n",
      "   2.69009890e-03  -1.44861954e-04   9.11518311e-03   2.34877655e-03\n",
      "   1.12255364e-02   4.97067848e-03   9.14475325e-03   2.27544261e-04\n",
      "   5.69083939e-03  -7.38533912e-03   1.08081201e-02  -3.49572635e-03\n",
      "   4.63595837e-03  -8.26202225e-03   2.78447923e-03  -5.59396238e-03\n",
      "   6.15317542e-03  -1.19153826e-03   5.51462610e-03   2.77110400e-03\n",
      "  -1.25810460e-03   4.18757477e-03  -1.83995779e-03  -3.17573375e-03\n",
      "   2.10389810e-03  -1.05472128e-03  -6.44824700e-04   2.49404467e-03\n",
      "  -2.36395205e-03  -1.82244220e-04   1.38539244e-04  -1.09902254e-03\n",
      "  -3.13151484e-03   6.67168429e-04   1.21401450e-03  -2.09255803e-03\n",
      "  -1.03354994e-03  -1.71337632e-03   4.33249679e-03  -2.33786712e-03\n",
      "  -9.70009149e-05   1.18134119e-03   7.04582219e-04   2.65352588e-03\n",
      "   2.39971822e-03  -1.39072637e-03  -8.94988010e-04   6.26294413e-03\n",
      "   1.18127652e-03   4.99757175e-03   5.18550896e-04])\n"
     ]
    },
    {
     "data": {
      "text/plain": [
       "[<matplotlib.lines.Line2D at 0x7f7e3d568190>]"
      ]
     },
     "execution_count": 269,
     "metadata": {},
     "output_type": "execute_result"
    },
    {
     "data": {
      "image/png": "[encoded data removed]",
      "text/plain": [
       "<matplotlib.figure.Figure at 0x7f7e3d6f0950>"
      ]
     },
     "metadata": {},
     "output_type": "display_data"
    }
   ],
   "source": [
    "import matplotlib.pyplot as plt\n",
    "import numpy as np\n",
    "\n",
    "x = np.linspace(-1,1,2000)\n",
    "y = np.cos(x) + 0.3*np.random.rand(2000)\n",
    "p = np.polynomial.Chebyshev.fit(x,y,90)\n",
    "print p\n",
    "\n",
    "t = np.linspace(-1,1,200)\n",
    "plt.plot(x,y,'r.')\n",
    "plt.plot(t,p(t),'k-',lw=3)"
   ]
  },
  {
   "cell_type": "markdown",
   "metadata": {},
   "source": [
    "\n",
    "## Input & Output"
   ]
  },
  {
   "cell_type": "code",
   "execution_count": 89,
   "metadata": {
    "collapsed": false
   },
   "outputs": [
    {
     "name": "stdout",
     "output_type": "stream",
     "text": [
      "1  5.23    2345.\r\n",
      "3  3453.   212.\r\n",
      "5  23.     2345.\r\n",
      "6  234.    345.\r\n",
      "7  23.     234.\r\n"
     ]
    }
   ],
   "source": [
    "!cat ../data/colms.dat"
   ]
  },
  {
   "cell_type": "code",
   "execution_count": 94,
   "metadata": {
    "collapsed": false
   },
   "outputs": [
    {
     "name": "stdout",
     "output_type": "stream",
     "text": [
      "[[  1.00000000e+00   5.23000000e+00   2.34500000e+03]\n",
      " [  3.00000000e+00   3.45300000e+03   2.12000000e+02]\n",
      " [  5.00000000e+00   2.30000000e+01   2.34500000e+03]\n",
      " [  6.00000000e+00   2.34000000e+02   3.45000000e+02]\n",
      " [  7.00000000e+00   2.30000000e+01   2.34000000e+02]]\n",
      "float64\n",
      "[ 1.  3.  5.  6.  7.]\n",
      "[    5.23  3453.      23.     234.      23.  ]\n",
      "[ 2345.   212.  2345.   345.   234.]\n"
     ]
    }
   ],
   "source": [
    "data = np.loadtxt('../data/colms.dat')\n",
    "\n",
    "print data\n",
    "print data.dtype\n",
    "a,b,c = data.T       # Trick (transpose: colums to variables)\n",
    "\n",
    "print a\n",
    "print b\n",
    "print c"
   ]
  },
  {
   "cell_type": "code",
   "execution_count": 270,
   "metadata": {
    "collapsed": false
   },
   "outputs": [
    {
     "name": "stdout",
     "output_type": "stream",
     "text": [
      "# year  hare    lynx    carrot\r\n",
      "1900    30e3    4e3     48300\r\n",
      "1901    47.2e3  6.1e3   48200\r\n",
      "1902    70.2e3  9.8e3   41500\r\n",
      "1902    77.4e3  35.2e3  38200\r\n"
     ]
    }
   ],
   "source": [
    "!cat ../data/populations.txt"
   ]
  },
  {
   "cell_type": "code",
   "execution_count": 273,
   "metadata": {
    "collapsed": false,
    "scrolled": true
   },
   "outputs": [
    {
     "data": {
      "text/plain": [
       "array([[  1900.,  30000.,   4000.,  48300.],\n",
       "       [  1901.,  47200.,   6100.,  48200.],\n",
       "       [  1902.,  70200.,   9800.,  41500.],\n",
       "       [  1902.,  77400.,  35200.,  38200.]])"
      ]
     },
     "execution_count": 273,
     "metadata": {},
     "output_type": "execute_result"
    }
   ],
   "source": [
    "data = np.loadtxt('../data/populations.txt')\n",
    "data"
   ]
  },
  {
   "cell_type": "code",
   "execution_count": 280,
   "metadata": {
    "collapsed": false
   },
   "outputs": [
    {
     "name": "stdout",
     "output_type": "stream",
     "text": [
      "[[  1900.  30000.   4000.  48300.]\n",
      " [  1901.  47200.   6100.  48200.]\n",
      " [  1902.  70200.   9800.  41500.]\n",
      " [  1902.  77400.  35200.  38200.]]\n",
      "float64\n",
      "(4, 4)\n",
      "4\n"
     ]
    }
   ],
   "source": [
    "np.savetxt('../data/pop2.txt',data)\n",
    "data2 = np.loadtxt('../data/pop2.txt')\n",
    "print data2\n",
    "print data2.dtype\n",
    "print data2.shape\n",
    "print len(data2)"
   ]
  },
  {
   "cell_type": "code",
   "execution_count": 281,
   "metadata": {
    "collapsed": false
   },
   "outputs": [
    {
     "name": "stdout",
     "output_type": "stream",
     "text": [
      "[[ 1.  1.  1.]\n",
      " [ 1.  1.  1.]\n",
      " [ 1.  1.  1.]]\n"
     ]
    }
   ],
   "source": [
    "\"\"\" Numpy's own format \"\"\"\n",
    "\n",
    "data = np.ones((3,3))\n",
    "np.save('../data/pop.npy', data)\n",
    "\n",
    "data3 = np.load('../data/pop.npy')\n",
    "print data3"
   ]
  },
  {
   "cell_type": "code",
   "execution_count": null,
   "metadata": {
    "collapsed": true
   },
   "outputs": [],
   "source": []
  }
 ],
 "metadata": {
  "kernelspec": {
   "display_name": "Python 2",
   "language": "python",
   "name": "python2"
  },
  "language_info": {
   "codemirror_mode": {
    "name": "ipython",
    "version": 2
   },
   "file_extension": ".py",
   "mimetype": "text/x-python",
   "name": "python",
   "nbconvert_exporter": "python",
   "pygments_lexer": "ipython2",
   "version": "2.7.11"
  }
 },
 "nbformat": 4,
 "nbformat_minor": 0
}
