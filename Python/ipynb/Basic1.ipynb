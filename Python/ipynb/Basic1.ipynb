{
 "cells": [
  {
   "cell_type": "code",
   "execution_count": 1,
   "metadata": {
    "collapsed": false
   },
   "outputs": [
    {
     "name": "stdout",
     "output_type": "stream",
     "text": [
      "Hello world\n"
     ]
    }
   ],
   "source": [
    "s='Hello world'\n",
    "print s"
   ]
  },
  {
   "cell_type": "code",
   "execution_count": 2,
   "metadata": {
    "collapsed": false
   },
   "outputs": [
    {
     "name": "stdout",
     "output_type": "stream",
     "text": [
      "Variable   Type    Data/Info\n",
      "----------------------------\n",
      "s          str     Hello world\n"
     ]
    }
   ],
   "source": [
    "%whos"
   ]
  },
  {
   "cell_type": "code",
   "execution_count": 3,
   "metadata": {
    "collapsed": false
   },
   "outputs": [
    {
     "data": {
      "text/plain": [
       "int"
      ]
     },
     "execution_count": 3,
     "metadata": {},
     "output_type": "execute_result"
    }
   ],
   "source": [
    "a = 3\n",
    "b = 2*a\n",
    "type(b)"
   ]
  },
  {
   "cell_type": "code",
   "execution_count": 4,
   "metadata": {
    "collapsed": false
   },
   "outputs": [
    {
     "name": "stdout",
     "output_type": "stream",
     "text": [
      "real:  1.5\n",
      "img:   0.5\n",
      "<type 'complex'>\n"
     ]
    }
   ],
   "source": [
    "a = 1.5 + 0.5j\n",
    "print 'real: ', a.real\n",
    "print 'img:  ', a.imag\n",
    "print type(a)"
   ]
  },
  {
   "cell_type": "markdown",
   "metadata": {},
   "source": [
    "### List\n",
    "- mutable\n",
    "\n",
    "mutable objects can be changed in place, while immutable objects cannot be modified once created"
   ]
  },
  {
   "cell_type": "code",
   "execution_count": 5,
   "metadata": {
    "collapsed": false
   },
   "outputs": [
    {
     "name": "stdout",
     "output_type": "stream",
     "text": [
      "red white\n",
      "['green', 'black']\n"
     ]
    }
   ],
   "source": [
    "# Long lines can be broken with \\\n",
    "L = ['red','blue','green', \\\n",
    "     'black','white']\n",
    "type(L)\n",
    "print L[0],L[-1]\n",
    "# important!! range from start to stop-1  [start:stop:step]\n",
    "print L[2:4]"
   ]
  },
  {
   "cell_type": "code",
   "execution_count": 6,
   "metadata": {
    "collapsed": false
   },
   "outputs": [
    {
     "name": "stdout",
     "output_type": "stream",
     "text": [
      "[3, -200, 'hello']\n"
     ]
    },
    {
     "data": {
      "text/plain": [
       "int"
      ]
     },
     "execution_count": 6,
     "metadata": {},
     "output_type": "execute_result"
    }
   ],
   "source": [
    "L=[3,-200,'hello']\n",
    "print L\n",
    "type(L[0])"
   ]
  },
  {
   "cell_type": "code",
   "execution_count": 7,
   "metadata": {
    "collapsed": false,
    "scrolled": true
   },
   "outputs": [
    {
     "name": "stdout",
     "output_type": "stream",
     "text": [
      "['red', 'blue', 'green', 'black', 'white', 'pink']\n",
      "['red', 'blue', 'green', 'black', 'white']\n",
      "<type 'list'>\n",
      "['white', 'black', 'green', 'blue', 'red']\n",
      "['red', 'blue', 'green', 'black', 'white']\n",
      "['black', 'blue', 'green', 'red', 'white']\n",
      "['black', 'blue', 'green', 'red', 'white']\n"
     ]
    }
   ],
   "source": [
    "L = ['red','blue','green','black','white']\n",
    "L.append('pink')\n",
    "print L\n",
    "L.pop()\n",
    "print L\n",
    "\n",
    "r=L[::-1]\n",
    "print type(r)\n",
    "print r\n",
    "r.reverse()\n",
    "print r\n",
    "print sorted(r)\n",
    "r.sort()\n",
    "print r"
   ]
  },
  {
   "cell_type": "code",
   "execution_count": 8,
   "metadata": {
    "collapsed": false
   },
   "outputs": [
    {
     "name": "stdout",
     "output_type": "stream",
     "text": [
      "[0, 1, 4, 9]\n",
      "<type 'list'>\n"
     ]
    }
   ],
   "source": [
    "a = [i**2 for i in range(4)]\n",
    "print a\n",
    "print type(a)"
   ]
  },
  {
   "cell_type": "code",
   "execution_count": 9,
   "metadata": {
    "collapsed": false
   },
   "outputs": [
    {
     "name": "stdout",
     "output_type": "stream",
     "text": [
      "77 [99] [28]\n",
      "23 [99, 42] [99]\n",
      "77 [99, 42] [28]\n"
     ]
    }
   ],
   "source": [
    "\"\"\"mutable vs. immutable\"\"\"\n",
    "def try_to_modify(x,y,z):\n",
    "    x = 23\n",
    "    y.append(42)\n",
    "    z = [99]   # new reference\n",
    "    \n",
    "    print x, y, z\n",
    "\n",
    "a = 77    # immutable variable\n",
    "b = [99]  # mutable variable\n",
    "c = [28]\n",
    "\n",
    "print a, b, c\n",
    "\n",
    "try_to_modify(a,b,c)\n",
    "\n",
    "print a, b, c"
   ]
  },
  {
   "cell_type": "code",
   "execution_count": 10,
   "metadata": {
    "collapsed": false
   },
   "outputs": [
    {
     "name": "stdout",
     "output_type": "stream",
     "text": [
      "<type 'list'>\n",
      "[1, 2, 3, 4, 5]\n",
      "<type 'list'>\n",
      "[1, 2, 3, 4, 5]\n"
     ]
    }
   ],
   "source": [
    "nums = [1,2,3,4,5]\n",
    "a = [i for i in nums]\n",
    "print type(a)\n",
    "print a\n",
    "\n",
    "b = list(i for i in nums)\n",
    "print type(b)\n",
    "print b"
   ]
  },
  {
   "cell_type": "markdown",
   "metadata": {},
   "source": [
    "### Dictionary\n",
    "\n",
    "- mutable"
   ]
  },
  {
   "cell_type": "code",
   "execution_count": 11,
   "metadata": {
    "collapsed": false
   },
   "outputs": [
    {
     "name": "stdout",
     "output_type": "stream",
     "text": [
      "<type 'dict'>\n",
      "{'aaa': 123, 'bbb': 433, 'ccc': 345}\n",
      "aaa =  123\n",
      "['aaa', 'bbb', 'ccc']\n",
      "[123, 433, 345]\n"
     ]
    },
    {
     "data": {
      "text/plain": [
       "True"
      ]
     },
     "execution_count": 11,
     "metadata": {},
     "output_type": "execute_result"
    }
   ],
   "source": [
    "tel = {'aaa': 123, 'ccc': 345}\n",
    "tel['bbb']=433\n",
    "\n",
    "print type(tel)\n",
    "print tel\n",
    "\n",
    "print 'aaa = ', tel['aaa']\n",
    "\n",
    "print tel.keys()\n",
    "print tel.values()\n",
    "\n",
    "'bbb' in tel"
   ]
  },
  {
   "cell_type": "code",
   "execution_count": 12,
   "metadata": {
    "collapsed": false
   },
   "outputs": [],
   "source": [
    "import numpy as np\n",
    "\n",
    "tel = {'a':1,'c':2,'b':3}\n",
    "\n",
    "aaa = {i:np.zeros(10) for i in tel.keys()}\n",
    "\n"
   ]
  },
  {
   "cell_type": "code",
   "execution_count": 13,
   "metadata": {
    "collapsed": false
   },
   "outputs": [
    {
     "name": "stdout",
     "output_type": "stream",
     "text": [
      "{'a': 1, 3: 'hello', 'b': 2}\n",
      "<type 'str'>\n"
     ]
    }
   ],
   "source": [
    "d = {'a':1, 'b':2, 3:'hello'}\n",
    "print d\n",
    "print type(d[3])"
   ]
  },
  {
   "cell_type": "code",
   "execution_count": 14,
   "metadata": {
    "collapsed": false
   },
   "outputs": [
    {
     "name": "stdout",
     "output_type": "stream",
     "text": [
      "<type 'set'>\n",
      "set([0, 1, 2])\n",
      "<type 'dict'>\n",
      "{0: 0, 1: 1, 2: 4}\n"
     ]
    }
   ],
   "source": [
    "a = {i for i in range(3)}\n",
    "print type(a)\n",
    "print a\n",
    "\n",
    "b = {i:i**2 for i in range(3)}\n",
    "print type(b)\n",
    "print b"
   ]
  },
  {
   "cell_type": "markdown",
   "metadata": {},
   "source": [
    "### Tuple\n",
    "\n",
    "- immutable list"
   ]
  },
  {
   "cell_type": "code",
   "execution_count": 15,
   "metadata": {
    "collapsed": false
   },
   "outputs": [
    {
     "name": "stdout",
     "output_type": "stream",
     "text": [
      "<type 'tuple'>\n",
      "(12334, 34522, 'hello!')\n",
      "12334\n"
     ]
    }
   ],
   "source": [
    "t = 12334, 34522, 'hello!'\n",
    "print type(t)\n",
    "print t\n",
    "print t[0]"
   ]
  },
  {
   "cell_type": "markdown",
   "metadata": {},
   "source": [
    "### Operator"
   ]
  },
  {
   "cell_type": "code",
   "execution_count": 16,
   "metadata": {
    "collapsed": false
   },
   "outputs": [
    {
     "name": "stdout",
     "output_type": "stream",
     "text": [
      "<type 'list'>\n",
      "[1, 'hi', 3]\n",
      "[1, 'hi', 3]\n",
      "[1, 'hi', 3]\n"
     ]
    }
   ],
   "source": [
    "a = [1,2,3]\n",
    "print type(a)\n",
    "\n",
    "b = a\n",
    "a is b\n",
    "\n",
    "b[1] = 'hi'\n",
    "\n",
    "print a\n",
    "print a[None:None:None]   # None can be used for empty\n",
    "print a[::]"
   ]
  },
  {
   "cell_type": "code",
   "execution_count": 17,
   "metadata": {
    "collapsed": false
   },
   "outputs": [
    {
     "name": "stdout",
     "output_type": "stream",
     "text": [
      "['a', 'b', 'c']\n",
      "140583728196136\n",
      "[1, 2, 3]\n",
      "140583728196136\n"
     ]
    }
   ],
   "source": [
    "a = ['a','b','c']\n",
    "print a\n",
    "print id(a)\n",
    "\n",
    "a[:] = [1,2,3]\n",
    "print a\n",
    "print id(a)"
   ]
  },
  {
   "cell_type": "code",
   "execution_count": 18,
   "metadata": {
    "collapsed": false
   },
   "outputs": [
    {
     "name": "stdout",
     "output_type": "stream",
     "text": [
      "A lot\n"
     ]
    }
   ],
   "source": [
    "a = 10\n",
    "\n",
    "if a == 1:\n",
    "    pritn(1)\n",
    "elif a == 2:\n",
    "    print(2)\n",
    "else:\n",
    "    print('A lot')"
   ]
  },
  {
   "cell_type": "code",
   "execution_count": 19,
   "metadata": {
    "collapsed": false
   },
   "outputs": [
    {
     "name": "stdout",
     "output_type": "stream",
     "text": [
      "0\n",
      "1\n",
      "2\n",
      "3\n"
     ]
    }
   ],
   "source": [
    "for i in range(4):\n",
    "    print i"
   ]
  },
  {
   "cell_type": "code",
   "execution_count": 20,
   "metadata": {
    "collapsed": false
   },
   "outputs": [
    {
     "name": "stdout",
     "output_type": "stream",
     "text": [
      "Python is cool\n",
      "Python is powerful\n",
      "Python is readable\n"
     ]
    }
   ],
   "source": [
    "for word in ('cool','powerful','readable'):\n",
    "    print 'Python is %s' %word"
   ]
  },
  {
   "cell_type": "code",
   "execution_count": 21,
   "metadata": {
    "collapsed": false
   },
   "outputs": [
    {
     "name": "stdout",
     "output_type": "stream",
     "text": [
      "1.0\n",
      "0.5\n",
      "0.25\n"
     ]
    }
   ],
   "source": [
    "a = [1,0,2,4]\n",
    "for element in a:\n",
    "    if element == 0:\n",
    "        continue\n",
    "    print 1./element"
   ]
  },
  {
   "cell_type": "code",
   "execution_count": 22,
   "metadata": {
    "collapsed": false
   },
   "outputs": [
    {
     "name": "stdout",
     "output_type": "stream",
     "text": [
      "<type 'str'>\n",
      "0 cool\n",
      "1 powerful\n",
      "2 readable\n",
      "0 cool\n",
      "1 powerful\n",
      "2 readable\n"
     ]
    }
   ],
   "source": [
    "words = ('cool','powerful','readable')\n",
    "print type(word)\n",
    "\n",
    "for i in range(0, len(words)):\n",
    "    print i, words[i]\n",
    "\n",
    "for index,item in enumerate(words):\n",
    "    print index, item"
   ]
  },
  {
   "cell_type": "code",
   "execution_count": 23,
   "metadata": {
    "collapsed": false
   },
   "outputs": [
    {
     "name": "stdout",
     "output_type": "stream",
     "text": [
      "Key: a has value: 1\n",
      "Key: c has value: 1j\n",
      "Key: b has value: 1.2\n"
     ]
    }
   ],
   "source": [
    "d = {'a':1,'b':1.2,'c':1j}\n",
    "\n",
    "for key, val in d.iteritems():\n",
    "    print 'Key: %s has value: %s' %(key,val)"
   ]
  },
  {
   "cell_type": "code",
   "execution_count": 24,
   "metadata": {
    "collapsed": false
   },
   "outputs": [
    {
     "name": "stdout",
     "output_type": "stream",
     "text": [
      "(-134+352j)\n"
     ]
    }
   ],
   "source": [
    "z = 1 + 1j\n",
    "while abs(z) < 100:\n",
    "    if z.imag == 0:\n",
    "        break\n",
    "    z = z**2 + 1\n",
    "\n",
    "print z"
   ]
  },
  {
   "cell_type": "code",
   "execution_count": 25,
   "metadata": {
    "collapsed": false
   },
   "outputs": [
    {
     "name": "stdout",
     "output_type": "stream",
     "text": [
      "True\n",
      "False\n",
      "True\n"
     ]
    }
   ],
   "source": [
    "print 1 == 1.\n",
    "print 1 is 1.\n",
    "print 1 is 1"
   ]
  },
  {
   "cell_type": "code",
   "execution_count": 26,
   "metadata": {
    "collapsed": false
   },
   "outputs": [
    {
     "name": "stdout",
     "output_type": "stream",
     "text": [
      "True\n",
      "False\n"
     ]
    }
   ],
   "source": [
    "b = [1,2,3]\n",
    "print 2 in b\n",
    "print 5 in b"
   ]
  },
  {
   "cell_type": "code",
   "execution_count": 27,
   "metadata": {
    "collapsed": false
   },
   "outputs": [
    {
     "name": "stdout",
     "output_type": "stream",
     "text": [
      "['Hellow', 'how', 'are', 'you?']\n",
      "Hellow\n",
      "how\n",
      "are\n",
      "you?\n"
     ]
    }
   ],
   "source": [
    "message = \"Hellow how are you?\"\n",
    "mlist = message.split()\n",
    "print mlist\n",
    "\n",
    "for word in mlist:\n",
    "    print word"
   ]
  },
  {
   "cell_type": "markdown",
   "metadata": {},
   "source": [
    "### Functions"
   ]
  },
  {
   "cell_type": "code",
   "execution_count": 28,
   "metadata": {
    "collapsed": false
   },
   "outputs": [
    {
     "name": "stdout",
     "output_type": "stream",
     "text": [
      "4\n",
      "6\n"
     ]
    }
   ],
   "source": [
    "def double_it(x=2):     # x=2 is the optional parameter in case of no input.\n",
    "    return x*2\n",
    "\n",
    "print double_it()\n",
    "\n",
    "print double_it(3)"
   ]
  },
  {
   "cell_type": "code",
   "execution_count": 29,
   "metadata": {
    "collapsed": false
   },
   "outputs": [
    {
     "name": "stdout",
     "output_type": "stream",
     "text": [
      "x is 10\n",
      "5\n",
      "x is 10\n",
      "10\n"
     ]
    }
   ],
   "source": [
    "\"\"\" global variables cannot be modified within the function, \n",
    "unless declared global in the funciton \"\"\"\n",
    "\n",
    "x = 5\n",
    "\n",
    "# not declare\n",
    "def setx(y):\n",
    "    x = y\n",
    "    print 'x is %d' %x\n",
    "    \n",
    "setx(10)\n",
    "print x\n",
    "\n",
    "# declare\n",
    "def setx(y):\n",
    "    global x\n",
    "    x = y\n",
    "    print 'x is %d' %x\n",
    "\n",
    "setx(10)\n",
    "print x"
   ]
  },
  {
   "cell_type": "markdown",
   "metadata": {},
   "source": [
    "### Special forms of parameters\n",
    "\n",
    "- *args: any number of positional arguments packed into a tuple\n",
    "- **kwargs: any number of keyword arguments packed into a dictionary "
   ]
  },
  {
   "cell_type": "code",
   "execution_count": 30,
   "metadata": {
    "collapsed": false
   },
   "outputs": [
    {
     "name": "stdout",
     "output_type": "stream",
     "text": [
      "args is ('one', 'two')\n",
      "kwargs is {'y': 2, 'x': 1, 'z': 3}\n"
     ]
    }
   ],
   "source": [
    "def variable_args(*args, **kwargs):\n",
    "    print 'args is', args\n",
    "    print 'kwargs is', kwargs\n",
    "\n",
    "variable_args('one','two',x=1,y=2,z=3)"
   ]
  },
  {
   "cell_type": "markdown",
   "metadata": {},
   "source": [
    "### Importing objects from moduels\n",
    "\n",
    "- Note: if you re-import an object in the old sesseion, you have to reload it\n",
    "\n",
    "--> reload(objname)"
   ]
  },
  {
   "cell_type": "code",
   "execution_count": 31,
   "metadata": {
    "collapsed": false
   },
   "outputs": [
    {
     "name": "stdout",
     "output_type": "stream",
     "text": [
      "['/home/astrodoo/Enthought/Canopy_64bit/User/lib/python2.7/site-packages/ipykernel/__main__.py', '-f', '/run/user/1000/jupyter/kernel-f4ba4ff4-dc35-433b-bbda-eacc851c8fc7.json']\n",
      "['', '/home/astrodoo/Enthought/Canopy_64bit/User/lib/python2.7/site-packages/pyhdf-0.9.0-py2.7-linux-x86_64.egg', '/home/astrodoo/heasoft-6.19/x86_64-unknown-linux-gnu-libc2.23-0/lib/python', '/home/astrodoo/heasoft-6.19/x86_64-unknown-linux-gnu-libc2.23-0/lib', '/home/astrodoo/CodeExr/Python/ipynb', '/home/astrodoo/lib/python', '/home/astrodoo/Canopy/appdata/canopy-1.7.2.3327.rh5-x86_64/lib/python27.zip', '/home/astrodoo/Canopy/appdata/canopy-1.7.2.3327.rh5-x86_64/lib/python2.7', '/home/astrodoo/Canopy/appdata/canopy-1.7.2.3327.rh5-x86_64/lib/python2.7/plat-linux2', '/home/astrodoo/Canopy/appdata/canopy-1.7.2.3327.rh5-x86_64/lib/python2.7/lib-tk', '/home/astrodoo/Canopy/appdata/canopy-1.7.2.3327.rh5-x86_64/lib/python2.7/lib-old', '/home/astrodoo/Canopy/appdata/canopy-1.7.2.3327.rh5-x86_64/lib/python2.7/lib-dynload', '/home/astrodoo/Enthought/Canopy_64bit/User/lib/python2.7/site-packages', '/home/astrodoo/Canopy/appdata/canopy-1.7.2.3327.rh5-x86_64/lib/python2.7/site-packages', '/home/astrodoo/Enthought/Canopy_64bit/User/lib/python2.7/site-packages/IPython/extensions', '/home/astrodoo/.ipython']\n"
     ]
    }
   ],
   "source": [
    "import sys\n",
    "\n",
    "print sys.argv\n",
    "print sys.path"
   ]
  },
  {
   "cell_type": "code",
   "execution_count": 32,
   "metadata": {
    "collapsed": false
   },
   "outputs": [
    {
     "name": "stdout",
     "output_type": "stream",
     "text": [
      "<module 'os' from '/home/astrodoo/Canopy/appdata/canopy-1.7.2.3327.rh5-x86_64/lib/python2.7/os.pyc'>\n"
     ]
    },
    {
     "data": {
      "text/plain": [
       "['Untitled.ipynb',\n",
       " 'Matplotlib3.ipynb',\n",
       " 'Astropy1.ipynb',\n",
       " 'matplotlib2.ipynb',\n",
       " 'numpy1.ipynb',\n",
       " '.ipynb_checkpoints',\n",
       " 'Sympy.ipynb',\n",
       " 'Scipy1.ipynb',\n",
       " 'matplotlib1.ipynb',\n",
       " 'Basic1.ipynb']"
      ]
     },
     "execution_count": 32,
     "metadata": {},
     "output_type": "execute_result"
    }
   ],
   "source": [
    "import os\n",
    "\n",
    "print os\n",
    "\n",
    "os.listdir('.')"
   ]
  },
  {
   "cell_type": "code",
   "execution_count": 33,
   "metadata": {
    "collapsed": false
   },
   "outputs": [],
   "source": [
    "import pygoods"
   ]
  },
  {
   "cell_type": "code",
   "execution_count": 34,
   "metadata": {
    "collapsed": false
   },
   "outputs": [
    {
     "name": "stdout",
     "output_type": "stream",
     "text": [
      "L\t a\t aaa\t b\t c\t d\t double_it\t element\t i\t \n",
      "index\t item\t key\t message\t mlist\t np\t nums\t os\t pygoods\t \n",
      "r\t s\t setx\t sys\t t\t tel\t try_to_modify\t val\t variable_args\t \n",
      "word\t words\t x\t z\t \n"
     ]
    }
   ],
   "source": [
    "who"
   ]
  },
  {
   "cell_type": "code",
   "execution_count": 35,
   "metadata": {
    "collapsed": false
   },
   "outputs": [
    {
     "name": "stdout",
     "output_type": "stream",
     "text": [
      "Variable        Type        Data/Info\n",
      "-------------------------------------\n",
      "L               list        n=5\n",
      "a               list        n=4\n",
      "aaa             dict        n=3\n",
      "b               list        n=3\n",
      "c               list        n=1\n",
      "d               dict        n=3\n",
      "double_it       function    <function double_it at 0x7fdc39230f50>\n",
      "element         int         4\n",
      "i               int         2\n",
      "index           int         2\n",
      "item            str         readable\n",
      "key             str         b\n",
      "message         str         Hellow how are you?\n",
      "mlist           list        n=4\n",
      "np              module      <module 'numpy' from '/ho<...>ages/numpy/__init__.pyc'>\n",
      "nums            list        n=5\n",
      "os              module      <module 'os' from '/home/<...>64/lib/python2.7/os.pyc'>\n",
      "pygoods         module      <module 'pygoods' from '/<...>on/pygoods/__init__.pyc'>\n",
      "r               list        n=5\n",
      "s               str         Hello world\n",
      "setx            function    <function setx at 0x7fdc39230c80>\n",
      "sys             module      <module 'sys' (built-in)>\n",
      "t               tuple       n=3\n",
      "tel             dict        n=3\n",
      "try_to_modify   function    <function try_to_modify at 0x7fdc33cbeb18>\n",
      "val             float       1.2\n",
      "variable_args   function    <function variable_args at 0x7fdc39230b90>\n",
      "word            str         you?\n",
      "words           tuple       n=3\n",
      "x               int         10\n",
      "z               complex     (-134+352j)\n"
     ]
    }
   ],
   "source": [
    "whos"
   ]
  },
  {
   "cell_type": "code",
   "execution_count": 36,
   "metadata": {
    "collapsed": false
   },
   "outputs": [
    {
     "data": {
      "text/plain": [
       "['__doc__', '__init__', '__module__', 'close', 'getcol', 'getcols']"
      ]
     },
     "execution_count": 36,
     "metadata": {},
     "output_type": "execute_result"
    }
   ],
   "source": [
    "dir(pygoods.readcol)"
   ]
  },
  {
   "cell_type": "code",
   "execution_count": 37,
   "metadata": {
    "collapsed": false
   },
   "outputs": [],
   "source": [
    "from pygoods import readcol"
   ]
  },
  {
   "cell_type": "code",
   "execution_count": 38,
   "metadata": {
    "collapsed": false
   },
   "outputs": [
    {
     "data": {
      "text/plain": [
       "['__doc__', '__init__', '__module__', 'close', 'getcol', 'getcols']"
      ]
     },
     "execution_count": 38,
     "metadata": {},
     "output_type": "execute_result"
    }
   ],
   "source": [
    "dir(readcol)"
   ]
  },
  {
   "cell_type": "markdown",
   "metadata": {},
   "source": [
    "## Input & Output\n",
    "\n",
    "- Read-only: r\n",
    "- Write-only: w\n",
    "- Append a file: a\n",
    "- Read/Write: r+\n",
    "- Binary mode: b"
   ]
  },
  {
   "cell_type": "code",
   "execution_count": 39,
   "metadata": {
    "collapsed": false
   },
   "outputs": [
    {
     "name": "stdout",
     "output_type": "stream",
     "text": [
      "<type 'file'>\n"
     ]
    }
   ],
   "source": [
    "f = open('../data/workfile','w')\n",
    "print type(f)\n",
    "\n",
    "f.write('This is a test \\nand another test')\n",
    "f.close()"
   ]
  },
  {
   "cell_type": "code",
   "execution_count": 40,
   "metadata": {
    "collapsed": true
   },
   "outputs": [],
   "source": [
    "\"\"\" Making a data table with formmated data \"\"\"\n",
    "import numpy as np\n",
    "\n",
    "Te = np.linspace(0.,100.,1000)\n",
    "cool = Te**2.\n",
    "coolX = Te**3.\n",
    "\n",
    "f = open('../data/CoolingX.dat','w')\n",
    "f.write('Temperature (K)    Cooling (erg cm^3 s^-1)    Cooling (0.3<Ebin<8 keV) \\n')\n",
    "for i in range(len(Te)):\n",
    "    f.write('%10.6e \\t %10.6e \\t %10.6e \\n' %(Te[i],cool[i],coolX[i]))\n",
    "    \n",
    "f.close()"
   ]
  },
  {
   "cell_type": "code",
   "execution_count": 41,
   "metadata": {
    "collapsed": true
   },
   "outputs": [],
   "source": [
    "\"\"\" Read the data with column \"\"\"\n",
    "\n",
    "coolf = open('../data/CoolingX.dat','r')\n",
    "text = coolf.readlines(); text = text[1:len(text)]; coolf.close()\n",
    "cool_all = np.array([[float(num) for num in line.split()] for line in text])\n",
    "\n",
    "col = {\"T\":0, \"Cool\":1, \"Coolx\":2}\n",
    "\n",
    "Temp = cool_all[:,col[\"T\"]]\n",
    "Cool = cool_all[:,col[\"Cool\"]]     # Cooling for all energy bins  (erg cm^3 s^-1)\n",
    "Coolx = cool_all[:,col[\"Coolx\"]]   # Cooling at the energy bins between 0.3 and 8 keV"
   ]
  },
  {
   "cell_type": "code",
   "execution_count": 42,
   "metadata": {
    "collapsed": true
   },
   "outputs": [],
   "source": [
    "\"\"\" set the zero values to the minimum of non-zero value \"\"\"\n",
    "\n",
    "Coolx[Coolx==0.]=np.min(Coolx[np.nonzero(Coolx)])    # set the zero values to be minimum of non-zero value"
   ]
  },
  {
   "cell_type": "code",
   "execution_count": 43,
   "metadata": {
    "collapsed": false
   },
   "outputs": [
    {
     "name": "stdout",
     "output_type": "stream",
     "text": [
      "This is a test \n",
      "and another test\n"
     ]
    }
   ],
   "source": [
    "f = open('../data/workfile','r')\n",
    "\n",
    "s = f.read()\n",
    "\n",
    "print s\n",
    "\n",
    "f.close()"
   ]
  },
  {
   "cell_type": "code",
   "execution_count": 44,
   "metadata": {
    "collapsed": false
   },
   "outputs": [
    {
     "name": "stdout",
     "output_type": "stream",
     "text": [
      "This is a test \n",
      "\n",
      "and another test\n"
     ]
    }
   ],
   "source": [
    "f = open('../data/workfile','r')\n",
    "\n",
    "for line in f:\n",
    "    print line\n",
    "    \n",
    "f.close()"
   ]
  },
  {
   "cell_type": "code",
   "execution_count": 45,
   "metadata": {
    "collapsed": false
   },
   "outputs": [
    {
     "name": "stdout",
     "output_type": "stream",
     "text": [
      "['Untitled.ipynb', 'Matplotlib3.ipynb', 'Astropy1.ipynb', 'matplotlib2.ipynb', 'numpy1.ipynb', 'Sympy.ipynb', 'Scipy1.ipynb', 'matplotlib1.ipynb', 'Basic1.ipynb']\n"
     ]
    }
   ],
   "source": [
    "import glob\n",
    "\n",
    "fnames = glob.glob('*.ipynb')\n",
    "\n",
    "print fnames"
   ]
  },
  {
   "cell_type": "code",
   "execution_count": 46,
   "metadata": {
    "collapsed": false
   },
   "outputs": [
    {
     "name": "stdout",
     "output_type": "stream",
     "text": [
      "[1, 2, 3, 4, 5.0, 6]\n"
     ]
    }
   ],
   "source": [
    "import pickle\n",
    "\n",
    "l = [1,2,3,4,5.,6]\n",
    "pickle.dump(l,file('../data/test.pkl','w'))\n",
    "\n",
    "pickle.load(file('../data/test.pkl'))\n",
    "print l"
   ]
  },
  {
   "cell_type": "markdown",
   "metadata": {},
   "source": [
    "# Using IDL script in python\n",
    "* requires to install pIDLy package "
   ]
  },
  {
   "cell_type": "code",
   "execution_count": 47,
   "metadata": {
    "collapsed": false
   },
   "outputs": [
    {
     "name": "stdout",
     "output_type": "stream",
     "text": [
      "% Compiled module: READ_INP.\n",
      "% Compiled module: STRSPLIT.\n",
      "1.21 1.66666674614 0.0025 250.0\n"
     ]
    }
   ],
   "source": [
    "import pidly   # for using idl script in python\n",
    "\n",
    "idl=pidly.IDL('/home/astrodoo/idl/idl/bin/bin.linux.x86_64/idl')\n",
    "idl('read_inp,\"../data/zmp_inp\",/python,ggen1=ggen1,ggen2=ggen2,eqos=eqos,unit=unit')\n",
    "rmin, rmax, x1rat, Nr = idl.ggen1[\"x1min\"], idl.ggen1[\"x1max\"], idl.ggen1[\"x1rat\"], idl.ggen1[\"nbl\"]\n",
    "thmin, thmax, Nth     = idl.ggen2[\"x2min\"], idl.ggen2[\"x2max\"], idl.ggen2[\"nbl\"]\n",
    "mmw   = idl.eqos[\"mmw\"]\n",
    "gamma = idl.eqos[\"gamma\"]\n",
    "idl.close()\n",
    "\n",
    "print mmw,gamma,rmin,rmax"
   ]
  },
  {
   "cell_type": "markdown",
   "metadata": {},
   "source": [
    "# Object-oriented Programming (CLASS)\n",
    "\n",
    "- to organize the code\n",
    "- to re-use code in similar contexts"
   ]
  },
  {
   "cell_type": "code",
   "execution_count": 48,
   "metadata": {
    "collapsed": false
   },
   "outputs": [
    {
     "name": "stdout",
     "output_type": "stream",
     "text": [
      "anna 21 astronomy\n"
     ]
    }
   ],
   "source": [
    "class Student(object):\n",
    "    def __init__(self, name):\n",
    "        self.name = name\n",
    "    def set_age(self, age):\n",
    "        self.age = age\n",
    "    def set_major(self, major):\n",
    "        self.major = major\n",
    "\n",
    "anna = Student('anna')\n",
    "anna.set_age(21)\n",
    "anna.set_major('astronomy')\n",
    "\n",
    "print anna.name, anna.age, anna.major"
   ]
  },
  {
   "cell_type": "code",
   "execution_count": 49,
   "metadata": {
    "collapsed": false
   },
   "outputs": [
    {
     "name": "stdout",
     "output_type": "stream",
     "text": [
      "mandatory, from March to June\n",
      "23\n"
     ]
    }
   ],
   "source": [
    "\"\"\" inherit the methods & attributes from previous class \n",
    "and add an additional attribute \"\"\"\n",
    "\n",
    "class MasterStudent(Student):\n",
    "    internship = 'mandatory, from March to June'\n",
    "    \n",
    "james = MasterStudent('james')\n",
    "print james.internship\n",
    "james.set_age(23)\n",
    "print james.age"
   ]
  },
  {
   "cell_type": "code",
   "execution_count": null,
   "metadata": {
    "collapsed": true
   },
   "outputs": [],
   "source": []
  }
 ],
 "metadata": {
  "kernelspec": {
   "display_name": "Python 2",
   "language": "python",
   "name": "python2"
  },
  "language_info": {
   "codemirror_mode": {
    "name": "ipython",
    "version": 2
   },
   "file_extension": ".py",
   "mimetype": "text/x-python",
   "name": "python",
   "nbconvert_exporter": "python",
   "pygments_lexer": "ipython2",
   "version": "2.7.11"
  }
 },
 "nbformat": 4,
 "nbformat_minor": 0
}
