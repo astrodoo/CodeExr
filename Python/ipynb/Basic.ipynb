{
 "cells": [
  {
   "cell_type": "code",
   "execution_count": 1,
   "metadata": {},
   "outputs": [
    {
     "name": "stdout",
     "output_type": "stream",
     "text": [
      "Hello world\n"
     ]
    }
   ],
   "source": [
    "s='Hello world'\n",
    "print s"
   ]
  },
  {
   "cell_type": "code",
   "execution_count": 2,
   "metadata": {},
   "outputs": [
    {
     "name": "stdout",
     "output_type": "stream",
     "text": [
      "Variable   Type    Data/Info\n",
      "----------------------------\n",
      "s          str     Hello world\n"
     ]
    }
   ],
   "source": [
    "%whos"
   ]
  },
  {
   "cell_type": "code",
   "execution_count": 3,
   "metadata": {},
   "outputs": [
    {
     "data": {
      "text/plain": [
       "int"
      ]
     },
     "execution_count": 3,
     "metadata": {},
     "output_type": "execute_result"
    }
   ],
   "source": [
    "a = 3\n",
    "b = 2*a\n",
    "type(b)"
   ]
  },
  {
   "cell_type": "code",
   "execution_count": 4,
   "metadata": {},
   "outputs": [
    {
     "name": "stdout",
     "output_type": "stream",
     "text": [
      "real:  1.5\n",
      "img:   0.5\n",
      "<type 'complex'>\n"
     ]
    }
   ],
   "source": [
    "a = 1.5 + 0.5j\n",
    "print 'real: ', a.real\n",
    "print 'img:  ', a.imag\n",
    "print type(a)"
   ]
  },
  {
   "cell_type": "markdown",
   "metadata": {},
   "source": [
    "# Type of Arrays "
   ]
  },
  {
   "cell_type": "markdown",
   "metadata": {},
   "source": [
    "## List\n",
    "- mutable\n",
    "\n",
    "mutable objects can be changed in place, while immutable objects cannot be modified once created"
   ]
  },
  {
   "cell_type": "code",
   "execution_count": 2,
   "metadata": {},
   "outputs": [
    {
     "name": "stdout",
     "output_type": "stream",
     "text": [
      "red white\n",
      "['green', 'black']\n",
      "True\n",
      "False\n"
     ]
    }
   ],
   "source": [
    "# Long lines can be broken with \\\n",
    "L = ['red','blue','green','black','white']\n",
    "type(L)\n",
    "print(L[0],L[-1])\n",
    "\n",
    "# important!! range from start to stop-1  [start:stop:step]\n",
    "print(L[2:4])\n",
    "\n",
    "print('red' in L)\n",
    "print('yellow' in L)"
   ]
  },
  {
   "cell_type": "code",
   "execution_count": 3,
   "metadata": {},
   "outputs": [
    {
     "name": "stdout",
     "output_type": "stream",
     "text": [
      "[3, -200, 'hello']\n"
     ]
    },
    {
     "data": {
      "text/plain": [
       "int"
      ]
     },
     "execution_count": 3,
     "metadata": {},
     "output_type": "execute_result"
    }
   ],
   "source": [
    "L=[3,-200,'hello']\n",
    "print(L)\n",
    "type(L[0])"
   ]
  },
  {
   "cell_type": "code",
   "execution_count": 5,
   "metadata": {
    "scrolled": true
   },
   "outputs": [
    {
     "name": "stdout",
     "output_type": "stream",
     "text": [
      "['red', 'blue', 'green', 'black', 'white', 'pink']\n",
      "['red', 'blue', 'green', 'black', 'white']\n",
      "['red', 'blue', 'black', 'white']\n",
      "<class 'list'>\n",
      "['white', 'black', 'blue', 'red']\n",
      "['red', 'blue', 'black', 'white']\n",
      "['black', 'blue', 'red', 'white']\n",
      "['black', 'blue', 'red', 'white']\n"
     ]
    }
   ],
   "source": [
    "L = ['red','blue','green','black','white']\n",
    "L.append('pink')\n",
    "print(L)\n",
    "L.pop()\n",
    "print(L)\n",
    "L.pop(2)\n",
    "print(L)\n",
    "\n",
    "r=L[::-1]\n",
    "print(type(r))\n",
    "print(r)\n",
    "r.reverse()\n",
    "print(r)\n",
    "print(sorted(r))\n",
    "r.sort()\n",
    "print(r)"
   ]
  },
  {
   "cell_type": "code",
   "execution_count": 7,
   "metadata": {},
   "outputs": [
    {
     "name": "stdout",
     "output_type": "stream",
     "text": [
      "[0, 1, 4, 9]\n",
      "<class 'list'>\n"
     ]
    }
   ],
   "source": [
    "a = [i**2 for i in range(4)]\n",
    "print(a)\n",
    "print(type(a))"
   ]
  },
  {
   "cell_type": "code",
   "execution_count": 9,
   "metadata": {},
   "outputs": [
    {
     "name": "stdout",
     "output_type": "stream",
     "text": [
      "77 [99] [28]\n",
      "23 [99, 42] [99]\n",
      "77 [99, 42] [28]\n"
     ]
    }
   ],
   "source": [
    "\"\"\"mutable vs. immutable\"\"\"\n",
    "def try_to_modify(x,y,z):\n",
    "    x = 23\n",
    "    y.append(42)\n",
    "    z = [99]   # new reference\n",
    "    \n",
    "    print(x, y, z)\n",
    "\n",
    "a = 77    # immutable variable\n",
    "b = [99]  # mutable variable\n",
    "c = [28]\n",
    "\n",
    "print(a, b, c)\n",
    "\n",
    "try_to_modify(a,b,c)\n",
    "\n",
    "print(a, b, c)"
   ]
  },
  {
   "cell_type": "code",
   "execution_count": 10,
   "metadata": {},
   "outputs": [
    {
     "name": "stdout",
     "output_type": "stream",
     "text": [
      "<class 'list'>\n",
      "[1, 2, 3, 4, 5]\n",
      "<class 'list'>\n",
      "[1, 2, 3, 4, 5]\n"
     ]
    }
   ],
   "source": [
    "nums = [1,2,3,4,5]\n",
    "a = [i for i in nums]\n",
    "print(type(a))\n",
    "print(a)\n",
    "\n",
    "b = list(i for i in nums)\n",
    "print(type(b))\n",
    "print(b)"
   ]
  },
  {
   "cell_type": "code",
   "execution_count": null,
   "metadata": {},
   "outputs": [],
   "source": []
  },
  {
   "cell_type": "markdown",
   "metadata": {},
   "source": [
    "## Dictionary\n",
    "\n",
    "- mutable"
   ]
  },
  {
   "cell_type": "code",
   "execution_count": 11,
   "metadata": {},
   "outputs": [
    {
     "name": "stdout",
     "output_type": "stream",
     "text": [
      "<class 'dict'>\n",
      "{'aaa': 123, 'ccc': 345, 'bbb': 433}\n",
      "aaa =  123\n",
      "dict_keys(['aaa', 'ccc', 'bbb'])\n",
      "dict_values([123, 345, 433])\n"
     ]
    },
    {
     "data": {
      "text/plain": [
       "True"
      ]
     },
     "execution_count": 11,
     "metadata": {},
     "output_type": "execute_result"
    }
   ],
   "source": [
    "tel = {'aaa': 123, 'ccc': 345}\n",
    "tel['bbb']=433\n",
    "\n",
    "print(type(tel))\n",
    "print(tel)\n",
    "\n",
    "print('aaa = ', tel['aaa'])\n",
    "\n",
    "print(tel.keys())\n",
    "print(tel.values())\n",
    "\n",
    "'bbb' in tel"
   ]
  },
  {
   "cell_type": "code",
   "execution_count": 12,
   "metadata": {},
   "outputs": [
    {
     "name": "stdout",
     "output_type": "stream",
     "text": [
      "{'a': array([0., 0., 0., 0., 0., 0., 0., 0., 0., 0.]), 'c': array([0., 0., 0., 0., 0., 0., 0., 0., 0., 0.]), 'b': array([0., 0., 0., 0., 0., 0., 0., 0., 0., 0.])}\n"
     ]
    }
   ],
   "source": [
    "import numpy as np\n",
    "\n",
    "tel = {'a':1,'c':2,'b':3}\n",
    "\n",
    "aaa = {i:np.zeros(10) for i in tel.keys()}\n",
    "\n",
    "print(aaa)"
   ]
  },
  {
   "cell_type": "code",
   "execution_count": 13,
   "metadata": {},
   "outputs": [
    {
     "name": "stdout",
     "output_type": "stream",
     "text": [
      "{'a': 1, 'b': 2, 3: 'hello'}\n",
      "<class 'str'>\n"
     ]
    }
   ],
   "source": [
    "d = {'a':1, 'b':2, 3:'hello'}\n",
    "print(d)\n",
    "print(type(d[3]))"
   ]
  },
  {
   "cell_type": "code",
   "execution_count": 14,
   "metadata": {},
   "outputs": [
    {
     "name": "stdout",
     "output_type": "stream",
     "text": [
      "<class 'set'>\n",
      "{0, 1, 2}\n",
      "<class 'dict'>\n",
      "{0: 0, 1: 1, 2: 4}\n"
     ]
    }
   ],
   "source": [
    "a = {i for i in range(3)}\n",
    "print(type(a))\n",
    "print(a)\n",
    "\n",
    "b = {i:i**2 for i in range(3)}\n",
    "print(type(b))\n",
    "print(b)"
   ]
  },
  {
   "cell_type": "markdown",
   "metadata": {},
   "source": [
    "### the list of dictionary"
   ]
  },
  {
   "cell_type": "code",
   "execution_count": 15,
   "metadata": {},
   "outputs": [
    {
     "name": "stdout",
     "output_type": "stream",
     "text": [
      "{'b': 0.0, 'c': 1.0}\n",
      "[{'b': 1.0, 'c': 1.0}, {'b': 1.0, 'c': 1.0}, {'b': 1.0, 'c': 1.0}]\n",
      "memory id:  140477802060288\n",
      "memory id:  140477802060288\n",
      "memory id:  140477802060288\n",
      "[{'b': 1.0, 'c': 1.0}, {'b': 1.0, 'c': 1.0}, {'b': 1.0, 'c': 1.0}]\n",
      "memory id:  140477802060288\n",
      "memory id:  140477802060288\n",
      "memory id:  140477802060288\n"
     ]
    }
   ],
   "source": [
    "\"\"\" when create the list of dictionary, if you copy the values like blow, it will point to same memory \"\"\"\n",
    "\n",
    "\n",
    "a = {'b':0.,'c':1.}\n",
    "print(a)\n",
    "\n",
    "# 1) simply copied\n",
    "al = [a]*3\n",
    "\n",
    "al[0]['b']=1.\n",
    "print(al)\n",
    "\n",
    "for i in al:\n",
    "    print('memory id: ', id(i))\n",
    "\n",
    "\n",
    "# 2) copied by loop\n",
    "bl = []\n",
    "for i in range(3): bl.append(a)\n",
    "print(bl)\n",
    "\n",
    "for i in bl:\n",
    "    print('memory id: ', id(i))\n",
    "\n"
   ]
  },
  {
   "cell_type": "code",
   "execution_count": 17,
   "metadata": {},
   "outputs": [
    {
     "name": "stdout",
     "output_type": "stream",
     "text": [
      "{'b': 0.0, 'c': 1.0}\n",
      "[{'b': 100.0, 'c': 1.0}, {'b': 0.0, 'c': 1.0}, {'b': 0.0, 'c': 1.0}]\n",
      "memory id:  140477802063424\n",
      "memory id:  140477802064128\n",
      "memory id:  140477802051328\n"
     ]
    }
   ],
   "source": [
    "\"\"\" Therefore, we need to be careful that it should be append the 'copy' value not the value itself \"\"\"\n",
    "\n",
    "a = {'b':0.,'c':1.}\n",
    "print(a)\n",
    "\n",
    "cl = []\n",
    "for i in range(3): cl.append(a.copy())  ##### important #####\n",
    "\n",
    "cl[0]['b'] = 100.    \n",
    "print(cl)\n",
    "\n",
    "for i in cl:\n",
    "    print('memory id: ', id(i))"
   ]
  },
  {
   "cell_type": "code",
   "execution_count": null,
   "metadata": {},
   "outputs": [],
   "source": []
  },
  {
   "cell_type": "markdown",
   "metadata": {},
   "source": [
    "### Ordered Dictionary"
   ]
  },
  {
   "cell_type": "code",
   "execution_count": 16,
   "metadata": {},
   "outputs": [
    {
     "name": "stdout",
     "output_type": "stream",
     "text": [
      "{'banana': 3, 'apple': 4, 'pear': 1, 'orange': 2}\n",
      "OrderedDict([('apple', 4), ('banana', 3), ('orange', 2), ('pear', 1)])\n",
      "OrderedDict([('pear', 1), ('orange', 2), ('banana', 3), ('apple', 4)])\n",
      "OrderedDict([('pear', 1), ('apple', 4), ('banana', 3), ('orange', 2)])\n"
     ]
    }
   ],
   "source": [
    "from collections import OrderedDict\n",
    "\n",
    "# regular unsorted dictionary\n",
    "a = {'banana': 3, 'apple': 4, 'pear': 1, 'orange': 2}\n",
    "\n",
    "# dictionary sorted by key\n",
    "b = OrderedDict(sorted(a.items(), key=lambda t: t[0]))\n",
    "\n",
    "# dictionary sorted by value\n",
    "c = OrderedDict(sorted(a.items(), key=lambda t: t[1]))\n",
    "\n",
    "# dictionary sorted by length of the key string\n",
    "d = OrderedDict(sorted(a.items(), key=lambda t: len(t[0])))\n",
    "\n",
    "print(a)\n",
    "print(b)\n",
    "print(c)\n",
    "print(d)\n",
    "\n",
    "#print(a.keys()[0],a.values()[0])\n",
    "#print(b.keys()[0],b.values()[0])\n",
    "#print(c.keys()[0],c.values()[0])\n",
    "#print(d.keys()[0],d.values()[0])\n"
   ]
  },
  {
   "cell_type": "code",
   "execution_count": null,
   "metadata": {},
   "outputs": [],
   "source": []
  },
  {
   "cell_type": "markdown",
   "metadata": {},
   "source": [
    "## Tuple\n",
    "\n",
    "- immutable list"
   ]
  },
  {
   "cell_type": "code",
   "execution_count": 18,
   "metadata": {},
   "outputs": [
    {
     "name": "stdout",
     "output_type": "stream",
     "text": [
      "<class 'tuple'>\n",
      "(12334, 34522, 'hello!')\n",
      "12334\n"
     ]
    }
   ],
   "source": [
    "t = 12334, 34522, 'hello!'\n",
    "print(type(t))\n",
    "print(t)\n",
    "print(t[0])"
   ]
  },
  {
   "cell_type": "code",
   "execution_count": 19,
   "metadata": {},
   "outputs": [
    {
     "name": "stdout",
     "output_type": "stream",
     "text": [
      "2 (2,)\n"
     ]
    }
   ],
   "source": [
    "def func(x,y):\n",
    "    a = x+1\n",
    "    b = y+1\n",
    "    return (a,)\n",
    "\n",
    "c, = func(1,2)\n",
    "d = func(1,2)\n",
    "print(c,d)"
   ]
  },
  {
   "cell_type": "code",
   "execution_count": null,
   "metadata": {},
   "outputs": [],
   "source": []
  },
  {
   "cell_type": "code",
   "execution_count": null,
   "metadata": {},
   "outputs": [],
   "source": []
  },
  {
   "cell_type": "markdown",
   "metadata": {},
   "source": [
    "### Named Tuple\n",
    "- create structure & substructure"
   ]
  },
  {
   "cell_type": "code",
   "execution_count": 3,
   "metadata": {},
   "outputs": [
    {
     "name": "stdout",
     "output_type": "stream",
     "text": [
      "11 22\n",
      "12 34\n",
      "11 34\n",
      "('x', 'y')\n"
     ]
    }
   ],
   "source": [
    "\"\"\" basic usage \"\"\"\n",
    "from collections import namedtuple\n",
    "\n",
    "Point = namedtuple('Point','x,y')\n",
    "\n",
    "a = Point(11,22)\n",
    "b = Point(x=12,y=34)\n",
    "\n",
    "print(a[0],a[1])\n",
    "print(b[0],b[1])\n",
    "print(a.x, b.y)\n",
    "print(a._fields)"
   ]
  },
  {
   "cell_type": "code",
   "execution_count": 8,
   "metadata": {},
   "outputs": [
    {
     "name": "stdout",
     "output_type": "stream",
     "text": [
      "33 22\n"
     ]
    }
   ],
   "source": [
    "\"\"\" replace \"\"\"\n",
    "from collections import namedtuple\n",
    "\n",
    "Point = namedtuple('Point','x,y')\n",
    "\n",
    "a = Point(x=11,y=22)\n",
    "\n",
    "b = a._replace(x=33)\n",
    "\n",
    "#print(b)\n",
    "print(b.x,b.y)"
   ]
  },
  {
   "cell_type": "code",
   "execution_count": 6,
   "metadata": {},
   "outputs": [
    {
     "name": "stdout",
     "output_type": "stream",
     "text": [
      "{'x': 11, 'y': 22}\n"
     ]
    }
   ],
   "source": [
    "\"\"\" transform to dictionary \"\"\"\n",
    "from collections import namedtuple\n",
    "\n",
    "Point = namedtuple('Point','x,y')\n",
    "\n",
    "a = Point(x=11,y=22)\n",
    "\n",
    "b = a._asdict()\n",
    "\n",
    "print(b)\n",
    "#print(b['x'],b['y'])"
   ]
  },
  {
   "cell_type": "code",
   "execution_count": 9,
   "metadata": {},
   "outputs": [
    {
     "name": "stdout",
     "output_type": "stream",
     "text": [
      "1 hey 23.0 1\n"
     ]
    }
   ],
   "source": [
    "\"\"\" Substructures \"\"\"\n",
    "from collections import namedtuple\n",
    "\n",
    "Struc1 = namedtuple('Struc1','a,b,c')\n",
    "Struc2 = namedtuple('Struc2','d,e')\n",
    "\n",
    "aa = Struc1(a=1,b='hey',c=Struc2(d=23.,e=1))\n",
    "\n",
    "print(aa.a, aa.b, aa.c.d, aa.c.e)"
   ]
  },
  {
   "cell_type": "code",
   "execution_count": 10,
   "metadata": {},
   "outputs": [
    {
     "name": "stdout",
     "output_type": "stream",
     "text": [
      "2 hey 3.0 <class '__main__.mysubstruc.kk'> 5.0 12.0\n"
     ]
    }
   ],
   "source": [
    "\"\"\" alternative way: substructures by class \"\"\"\n",
    "class mysubstruc:\n",
    "    a = 2\n",
    "    b = 'hey'\n",
    "    c = 3.\n",
    "    class kk:\n",
    "        d = 5.\n",
    "        e = 12.\n",
    "\n",
    "xx = mysubstruc()\n",
    "print(xx.a, xx.b, xx.c, xx.kk, xx.kk.d, xx.kk.e)"
   ]
  },
  {
   "cell_type": "code",
   "execution_count": null,
   "metadata": {},
   "outputs": [],
   "source": []
  },
  {
   "cell_type": "code",
   "execution_count": null,
   "metadata": {},
   "outputs": [],
   "source": []
  },
  {
   "cell_type": "markdown",
   "metadata": {},
   "source": [
    "# Operator"
   ]
  },
  {
   "cell_type": "code",
   "execution_count": 20,
   "metadata": {},
   "outputs": [
    {
     "name": "stdout",
     "output_type": "stream",
     "text": [
      "<class 'list'>\n",
      "True\n",
      "[1, 'hi', 3]\n",
      "[1, 'hi', 3]\n",
      "[1, 'hi', 3]\n"
     ]
    }
   ],
   "source": [
    "a = [1,2,3]\n",
    "print(type(a))\n",
    "\n",
    "b = a\n",
    "print(a is b)\n",
    "\n",
    "b[1] = 'hi'\n",
    "\n",
    "print(a)\n",
    "print(a[None:None:None])   # None can be used for empty\n",
    "print(a[::])"
   ]
  },
  {
   "cell_type": "code",
   "execution_count": 21,
   "metadata": {},
   "outputs": [
    {
     "name": "stdout",
     "output_type": "stream",
     "text": [
      "['a', 'b', 'c']\n",
      "140477801846976\n",
      "[1, 2, 3]\n",
      "140477801846976\n"
     ]
    }
   ],
   "source": [
    "a = ['a','b','c']\n",
    "print(a)\n",
    "print(id(a))\n",
    "\n",
    "a[:] = [1,2,3]\n",
    "print(a)\n",
    "print(id(a))"
   ]
  },
  {
   "cell_type": "code",
   "execution_count": 22,
   "metadata": {},
   "outputs": [
    {
     "name": "stdout",
     "output_type": "stream",
     "text": [
      "Python is cool\n",
      "Python is powerful\n",
      "Python is readable\n"
     ]
    }
   ],
   "source": [
    "for word in ('cool','powerful','readable'):\n",
    "    print('Python is %s' %word)"
   ]
  },
  {
   "cell_type": "code",
   "execution_count": 23,
   "metadata": {},
   "outputs": [
    {
     "name": "stdout",
     "output_type": "stream",
     "text": [
      "1.0\n",
      "0.5\n",
      "0.25\n"
     ]
    }
   ],
   "source": [
    "a = [1,0,2,4]\n",
    "for element in a:\n",
    "    if element == 0:\n",
    "        continue\n",
    "    print(1./element)"
   ]
  },
  {
   "cell_type": "code",
   "execution_count": 25,
   "metadata": {},
   "outputs": [
    {
     "name": "stdout",
     "output_type": "stream",
     "text": [
      "<class 'str'>\n",
      "0 cool\n",
      "1 powerful\n",
      "2 readable\n",
      "0 cool\n",
      "1 powerful\n",
      "2 readable\n"
     ]
    }
   ],
   "source": [
    "words = ('cool','powerful','readable')\n",
    "print(type(word))\n",
    "\n",
    "for i in range(0, len(words)):\n",
    "    print(i, words[i])\n",
    "\n",
    "for index,item in enumerate(words):\n",
    "    print(index, item)"
   ]
  },
  {
   "cell_type": "code",
   "execution_count": 29,
   "metadata": {},
   "outputs": [
    {
     "name": "stdout",
     "output_type": "stream",
     "text": [
      "True\n",
      "False\n"
     ]
    }
   ],
   "source": [
    "b = [1,2,3]\n",
    "print(2 in b)\n",
    "print(5 in b)"
   ]
  },
  {
   "cell_type": "code",
   "execution_count": 30,
   "metadata": {},
   "outputs": [
    {
     "name": "stdout",
     "output_type": "stream",
     "text": [
      "['Hellow', 'how', 'are', 'you?']\n",
      "Hellow\n",
      "how\n",
      "are\n",
      "you?\n"
     ]
    }
   ],
   "source": [
    "message = \"Hellow how are you?\"\n",
    "mlist = message.split()\n",
    "print(mlist)\n",
    "\n",
    "for word in mlist:\n",
    "    print(word)"
   ]
  },
  {
   "cell_type": "code",
   "execution_count": null,
   "metadata": {},
   "outputs": [],
   "source": []
  },
  {
   "cell_type": "markdown",
   "metadata": {},
   "source": [
    "# Functions"
   ]
  },
  {
   "cell_type": "code",
   "execution_count": 32,
   "metadata": {},
   "outputs": [
    {
     "name": "stdout",
     "output_type": "stream",
     "text": [
      "x is 10\n",
      "5\n",
      "x is 10\n",
      "10\n"
     ]
    }
   ],
   "source": [
    "\"\"\" global variables cannot be modified within the function, \n",
    "unless declared global in the funciton \"\"\"\n",
    "\n",
    "x = 5\n",
    "\n",
    "# not declare\n",
    "def setx(y):\n",
    "    x = y\n",
    "    print('x is %d' %x)\n",
    "    \n",
    "setx(10)\n",
    "print(x)\n",
    "\n",
    "# declare\n",
    "def setx(y):\n",
    "    global x\n",
    "    x = y\n",
    "    print('x is %d' %x)\n",
    "\n",
    "setx(10)\n",
    "print(x)"
   ]
  },
  {
   "cell_type": "code",
   "execution_count": null,
   "metadata": {},
   "outputs": [],
   "source": []
  },
  {
   "cell_type": "code",
   "execution_count": null,
   "metadata": {},
   "outputs": [],
   "source": []
  },
  {
   "cell_type": "markdown",
   "metadata": {},
   "source": [
    "## Intrinsic Functions"
   ]
  },
  {
   "cell_type": "markdown",
   "metadata": {},
   "source": [
    "### zip()\n",
    "* combine two (same size; n-elements) list to produce n-elements list, at which each element has tuple of two data points"
   ]
  },
  {
   "cell_type": "code",
   "execution_count": 31,
   "metadata": {},
   "outputs": [
    {
     "name": "stdout",
     "output_type": "stream",
     "text": [
      "<zip object at 0x7ff85d01d2c0>\n"
     ]
    }
   ],
   "source": [
    "\"\"\" Basic example of zip function \"\"\"\n",
    "x = [1, 2, 3]\n",
    "y = [4, 5, 6]\n",
    "zipped = zip(x, y)\n",
    "print(zipped)\n",
    "#print(len(zipped))\n",
    "#print(zipped[0])"
   ]
  },
  {
   "cell_type": "code",
   "execution_count": 35,
   "metadata": {},
   "outputs": [
    {
     "data": {
      "text/plain": [
       "\" '*' can be used for unzip \""
      ]
     },
     "execution_count": 35,
     "metadata": {},
     "output_type": "execute_result"
    }
   ],
   "source": [
    "\"\"\" '*' can be used for unzip \"\"\"\n",
    "#print(zip(*zipped))\n",
    "\n",
    "#x2, y2 = zip(*zipped)\n",
    "#print(((x==list(x2)) & (y==list(y2))))"
   ]
  },
  {
   "cell_type": "code",
   "execution_count": 36,
   "metadata": {},
   "outputs": [
    {
     "name": "stdout",
     "output_type": "stream",
     "text": [
      "a1 b1\n",
      "a2 b2\n",
      "a3 b3\n"
     ]
    }
   ],
   "source": [
    "\"\"\" zip function with for-loop \"\"\"\n",
    "\n",
    "alist = ['a1', 'a2', 'a3']\n",
    "blist = ['b1', 'b2', 'b3']\n",
    "\n",
    "for a, b in zip(alist, blist):\n",
    "    print(a, b)"
   ]
  },
  {
   "cell_type": "code",
   "execution_count": 37,
   "metadata": {},
   "outputs": [
    {
     "name": "stdout",
     "output_type": "stream",
     "text": [
      "0 a1 b1\n",
      "1 a2 b2\n",
      "2 a3 b3\n"
     ]
    }
   ],
   "source": [
    "\"\"\" zip function with enumerated for-loop \"\"\"\n",
    "alist = ['a1', 'a2', 'a3']\n",
    "blist = ['b1', 'b2', 'b3']\n",
    "\n",
    "for i, (a, b) in enumerate(zip(alist, blist)):\n",
    "    print(i, a, b)"
   ]
  },
  {
   "cell_type": "code",
   "execution_count": null,
   "metadata": {},
   "outputs": [],
   "source": []
  },
  {
   "cell_type": "code",
   "execution_count": null,
   "metadata": {},
   "outputs": [],
   "source": []
  },
  {
   "cell_type": "markdown",
   "metadata": {},
   "source": [
    "### map()\n",
    "* map(some_function, some_iterable) --> return the list"
   ]
  },
  {
   "cell_type": "code",
   "execution_count": 39,
   "metadata": {},
   "outputs": [
    {
     "name": "stdout",
     "output_type": "stream",
     "text": [
      "range(0, 5) <map object at 0x7ff85cfa5bb0>\n",
      "range(0, 5) [10, 11, 12, 13, 14]\n"
     ]
    }
   ],
   "source": [
    "def func(x):\n",
    "    return x+10\n",
    "\n",
    "xx = range(5)\n",
    "\n",
    "yy = map(func,xx)\n",
    "print(xx, yy)\n",
    "\n",
    "# such map function is equivalent to list-comprehenive\n",
    "yy2 = [func(x) for x in xx]\n",
    "print(xx, yy2)"
   ]
  },
  {
   "cell_type": "code",
   "execution_count": 40,
   "metadata": {},
   "outputs": [
    {
     "name": "stdout",
     "output_type": "stream",
     "text": [
      "range(0, 5) range(0, 5) <map object at 0x7ff85cfa55b0>\n",
      "range(0, 5) range(0, 5) [0, 2, 4, 6, 8]\n"
     ]
    }
   ],
   "source": [
    "def func(a,b):\n",
    "    return a+b\n",
    "\n",
    "aa = range(5)\n",
    "bb = range(5)\n",
    "\n",
    "yy = map(func,aa,bb)\n",
    "print(aa,bb,yy)\n",
    "\n",
    "# such map function is equivalent to list-comprehenive\n",
    "\n",
    "yy2 = [func(a,b) for a,b in zip(aa,bb)]\n",
    "print(aa,bb,yy2)"
   ]
  },
  {
   "cell_type": "code",
   "execution_count": 45,
   "metadata": {},
   "outputs": [
    {
     "name": "stdout",
     "output_type": "stream",
     "text": [
      "2\n",
      "2\n",
      "9\n",
      "4\n",
      "9\n"
     ]
    }
   ],
   "source": [
    "\"\"\" useful implication with lambda function\"\"\"\n",
    "a = [1, 2, 3, 4, 5]\n",
    "b = [2, 2, 9, 0, 9]\n",
    "\n",
    "c = map(lambda pair: max(pair), zip(a, b))\n",
    "#print(c)\n",
    "\n",
    "for ic in c:\n",
    "    print(ic)"
   ]
  },
  {
   "cell_type": "code",
   "execution_count": null,
   "metadata": {},
   "outputs": [],
   "source": []
  },
  {
   "cell_type": "markdown",
   "metadata": {},
   "source": [
    "### lambda()\n",
    "\n",
    "* one-line mini-function"
   ]
  },
  {
   "cell_type": "code",
   "execution_count": 46,
   "metadata": {},
   "outputs": [
    {
     "name": "stdout",
     "output_type": "stream",
     "text": [
      "6\n",
      "6\n"
     ]
    }
   ],
   "source": [
    "g = lambda x: x*2\n",
    "\n",
    "print(g(3))\n",
    "\n",
    "# it is equivalent to\n",
    "def g2(x):\n",
    "    return x*2\n",
    "\n",
    "print(g2(3))"
   ]
  },
  {
   "cell_type": "code",
   "execution_count": 47,
   "metadata": {},
   "outputs": [
    {
     "name": "stdout",
     "output_type": "stream",
     "text": [
      "3\n"
     ]
    }
   ],
   "source": [
    "\"\"\" multiple inputs \"\"\"\n",
    "\n",
    "f = lambda x,y: x+y\n",
    "\n",
    "print(f(1,2))"
   ]
  },
  {
   "cell_type": "code",
   "execution_count": null,
   "metadata": {},
   "outputs": [],
   "source": []
  },
  {
   "cell_type": "markdown",
   "metadata": {},
   "source": [
    "## Special forms of parameters\n",
    "\n",
    "- *args: any number of positional arguments packed into a tuple\n",
    "- **kwargs: any number of keyword arguments packed into a dictionary "
   ]
  },
  {
   "cell_type": "code",
   "execution_count": 33,
   "metadata": {},
   "outputs": [
    {
     "name": "stdout",
     "output_type": "stream",
     "text": [
      "args is ('one', 'two')\n",
      "kwargs is {'x': 1, 'y': 2, 'z': 3}\n"
     ]
    }
   ],
   "source": [
    "def variable_args(*args, **kwargs):\n",
    "    print('args is', args)\n",
    "    print('kwargs is', kwargs)\n",
    "\n",
    "variable_args('one','two',x=1,y=2,z=3)"
   ]
  },
  {
   "cell_type": "code",
   "execution_count": null,
   "metadata": {},
   "outputs": [],
   "source": []
  },
  {
   "cell_type": "markdown",
   "metadata": {},
   "source": [
    "# Importing objects from moduels\n",
    "\n",
    "- Note: if you re-import an object in the old sesseion, you have to reload it\n",
    "\n",
    "--> reload(objname)"
   ]
  },
  {
   "cell_type": "code",
   "execution_count": 35,
   "metadata": {},
   "outputs": [
    {
     "name": "stdout",
     "output_type": "stream",
     "text": [
      "['/Users/astrodoo/opt/anaconda3/lib/python3.8/site-packages/ipykernel_launcher.py', '-f', '/Users/astrodoo/Library/Jupyter/runtime/kernel-1f6eed22-40e8-43ba-9e54-5ed646835629.json']\n",
      "['/Users/astrodoo/CodeExr/Python/ipynb', '/Users/astrodoo/CodeExr/Python/ipynb', '/Users/astrodoo/lib/pylib', '/Users/astrodoo/opt/anaconda3/lib/python38.zip', '/Users/astrodoo/opt/anaconda3/lib/python3.8', '/Users/astrodoo/opt/anaconda3/lib/python3.8/lib-dynload', '', '/Users/astrodoo/opt/anaconda3/lib/python3.8/site-packages', '/Users/astrodoo/opt/anaconda3/lib/python3.8/site-packages/aeosa', '/Users/astrodoo/opt/anaconda3/lib/python3.8/site-packages/IPython/extensions', '/Users/astrodoo/.ipython']\n"
     ]
    }
   ],
   "source": [
    "import sys\n",
    "\n",
    "print(sys.argv)\n",
    "print(sys.path)"
   ]
  },
  {
   "cell_type": "code",
   "execution_count": 36,
   "metadata": {},
   "outputs": [
    {
     "name": "stdout",
     "output_type": "stream",
     "text": [
      ":/Users/astrodoo/lib/pylib\n",
      "/Users/astrodoo/CodeExr/Python/ipynb\n",
      "['dummy.ipynb', 'Basic1.ipynb', 'Sympy.ipynb', 'astrounit.ipynb', 'img2data.ipynb', 'numpy1.ipynb', 'Untitled.ipynb', 'test.eps', 'Sod ShockTube.ipynb', 'Astropy1.ipynb', 'Interactive Plot.ipynb', 'Basic2.ipynb', 'notebook.pdf', 'matplotlib3.ipynb', 'matplotlib1.ipynb', 'Bondi Solution - rk4.ipynb', '.ipynb_checkpoints', 'Scipy1.ipynb', 'mimic_alpha.ipynb', 'matplotlib4.ipynb', 'matplotlib2.ipynb']\n",
      "['dummy.ipynb', 'Basic1.ipynb', 'Sympy.ipynb', 'astrounit.ipynb', 'img2data.ipynb', 'numpy1.ipynb', 'Untitled.ipynb', 'test.eps', 'Sod ShockTube.ipynb', 'Astropy1.ipynb', 'Interactive Plot.ipynb', 'Basic2.ipynb', 'notebook.pdf', 'matplotlib3.ipynb', 'matplotlib1.ipynb', 'Bondi Solution - rk4.ipynb', '.ipynb_checkpoints', 'Scipy1.ipynb', 'mimic_alpha.ipynb', 'matplotlib4.ipynb', 'matplotlib2.ipynb']\n"
     ]
    }
   ],
   "source": [
    "import os\n",
    "\n",
    "pypath = os.environ['PYTHONPATH']    # environment check\n",
    "print(pypath)\n",
    "\n",
    "print(os.getcwd())  # current directory\n",
    "\n",
    "print(os.listdir(os.getcwd()) )\n",
    "print(os.listdir('.'))    # '.' represent the current directory"
   ]
  },
  {
   "cell_type": "code",
   "execution_count": 37,
   "metadata": {},
   "outputs": [
    {
     "name": "stdout",
     "output_type": "stream",
     "text": [
      "L\t a\t aaa\t al\t b\t bl\t c\t cl\t d\t \n",
      "element\t func\t i\t index\t item\t message\t mlist\t nums\t os\t \n",
      "pypath\t r\t setx\t sys\t t\t tel\t try_to_modify\t variable_args\t word\t \n",
      "words\t x\t \n"
     ]
    }
   ],
   "source": [
    "who"
   ]
  },
  {
   "cell_type": "code",
   "execution_count": 38,
   "metadata": {},
   "outputs": [
    {
     "name": "stdout",
     "output_type": "stream",
     "text": [
      "Variable        Type        Data/Info\n",
      "-------------------------------------\n",
      "L               list        n=4\n",
      "a               list        n=4\n",
      "aaa             dict        n=3\n",
      "al              list        n=3\n",
      "b               list        n=3\n",
      "bl              list        n=3\n",
      "c               int         2\n",
      "cl              list        n=3\n",
      "d               dict        n=3\n",
      "element         int         4\n",
      "func            function    <function func at 0x7fc38977cd30>\n",
      "i               int         2\n",
      "index           int         2\n",
      "item            str         readable\n",
      "message         str         Hellow how are you?\n",
      "mlist           list        n=4\n",
      "nums            list        n=5\n",
      "os              module      <module 'os' from '/Users<...>da3/lib/python3.8/os.py'>\n",
      "pypath          str         :/Users/astrodoo/lib/pylib\n",
      "r               list        n=4\n",
      "setx            function    <function setx at 0x7fc38983af70>\n",
      "sys             module      <module 'sys' (built-in)>\n",
      "t               tuple       n=3\n",
      "tel             dict        n=3\n",
      "try_to_modify   function    <function try_to_modify at 0x7fc38977ca60>\n",
      "variable_args   function    <function variable_args at 0x7fc38983ae50>\n",
      "word            str         you?\n",
      "words           tuple       n=3\n",
      "x               int         10\n"
     ]
    }
   ],
   "source": [
    "whos"
   ]
  },
  {
   "cell_type": "code",
   "execution_count": 39,
   "metadata": {},
   "outputs": [
    {
     "data": {
      "text/plain": [
       "['__builtins__',\n",
       " '__cached__',\n",
       " '__doc__',\n",
       " '__file__',\n",
       " '__loader__',\n",
       " '__name__',\n",
       " '__package__',\n",
       " '__path__',\n",
       " '__spec__',\n",
       " 'astrounit',\n",
       " 'bhscale',\n",
       " 'info']"
      ]
     },
     "execution_count": 39,
     "metadata": {},
     "output_type": "execute_result"
    }
   ],
   "source": [
    "import pyds\n",
    "dir(pyds.astro)"
   ]
  },
  {
   "cell_type": "code",
   "execution_count": null,
   "metadata": {},
   "outputs": [],
   "source": []
  },
  {
   "cell_type": "code",
   "execution_count": null,
   "metadata": {},
   "outputs": [],
   "source": []
  },
  {
   "cell_type": "markdown",
   "metadata": {},
   "source": [
    "# Input & Output\n",
    "\n",
    "- Read-only: r\n",
    "- Write-only: w\n",
    "- Append a file: a\n",
    "- Read/Write: r+\n",
    "- Binary mode: b"
   ]
  },
  {
   "cell_type": "code",
   "execution_count": 40,
   "metadata": {},
   "outputs": [
    {
     "name": "stdout",
     "output_type": "stream",
     "text": [
      "<class '_io.TextIOWrapper'>\n"
     ]
    }
   ],
   "source": [
    "f = open('../data/workfile','w')\n",
    "print(type(f))\n",
    "\n",
    "f.write('This is a test \\nand another test')\n",
    "f.close()"
   ]
  },
  {
   "cell_type": "code",
   "execution_count": 41,
   "metadata": {},
   "outputs": [],
   "source": [
    "\"\"\" Making a data table with formmated data \"\"\"\n",
    "import numpy as np\n",
    "\n",
    "Te = np.linspace(0.,100.,1000)\n",
    "cool = Te**2.\n",
    "coolX = Te**3.\n",
    "\n",
    "f = open('../data/CoolingX.dat','w')\n",
    "f.write('Temperature (K)    Cooling (erg cm^3 s^-1)    Cooling (0.3<Ebin<8 keV) \\n')\n",
    "for i in range(len(Te)):\n",
    "    f.write('%10.6e \\t %10.6e \\t %10.6e \\n' %(Te[i],cool[i],coolX[i]))\n",
    "    \n",
    "f.close()"
   ]
  },
  {
   "cell_type": "code",
   "execution_count": 42,
   "metadata": {},
   "outputs": [],
   "source": [
    "\"\"\" Read the data with column \"\"\"\n",
    "\n",
    "coolf = open('../data/CoolingX.dat','r')\n",
    "text = coolf.readlines(); text = text[1:len(text)]; coolf.close()\n",
    "cool_all = np.array([[float(num) for num in line.split()] for line in text])\n",
    "\n",
    "col = {\"T\":0, \"Cool\":1, \"Coolx\":2}\n",
    "\n",
    "Temp = cool_all[:,col[\"T\"]]\n",
    "Cool = cool_all[:,col[\"Cool\"]]     # Cooling for all energy bins  (erg cm^3 s^-1)\n",
    "Coolx = cool_all[:,col[\"Coolx\"]]   # Cooling at the energy bins between 0.3 and 8 keV"
   ]
  },
  {
   "cell_type": "code",
   "execution_count": 43,
   "metadata": {},
   "outputs": [],
   "source": [
    "\"\"\" set the zero values to the minimum of non-zero value \"\"\"\n",
    "\n",
    "Coolx[Coolx==0.]=np.min(Coolx[np.nonzero(Coolx)])    # set the zero values to be minimum of non-zero value"
   ]
  },
  {
   "cell_type": "code",
   "execution_count": 44,
   "metadata": {},
   "outputs": [
    {
     "name": "stdout",
     "output_type": "stream",
     "text": [
      "This is a test \n",
      "and another test\n"
     ]
    }
   ],
   "source": [
    "f = open('../data/workfile','r')\n",
    "\n",
    "s = f.read()\n",
    "\n",
    "print(s)\n",
    "\n",
    "f.close()"
   ]
  },
  {
   "cell_type": "code",
   "execution_count": 46,
   "metadata": {},
   "outputs": [
    {
     "name": "stdout",
     "output_type": "stream",
     "text": [
      "This is a test \n",
      "\n",
      "and another test\n"
     ]
    }
   ],
   "source": [
    "f = open('../data/workfile','r')\n",
    "\n",
    "for line in f:\n",
    "    print(line)\n",
    "    \n",
    "f.close()"
   ]
  },
  {
   "cell_type": "code",
   "execution_count": 47,
   "metadata": {},
   "outputs": [
    {
     "name": "stdout",
     "output_type": "stream",
     "text": [
      "['dummy.ipynb', 'Basic1.ipynb', 'Sympy.ipynb', 'astrounit.ipynb', 'img2data.ipynb', 'numpy1.ipynb', 'Untitled.ipynb', 'Sod ShockTube.ipynb', 'Astropy1.ipynb', 'Interactive Plot.ipynb', 'Basic2.ipynb', 'matplotlib3.ipynb', 'matplotlib1.ipynb', 'Bondi Solution - rk4.ipynb', 'Scipy1.ipynb', 'mimic_alpha.ipynb', 'matplotlib4.ipynb', 'matplotlib2.ipynb']\n"
     ]
    }
   ],
   "source": [
    "import glob\n",
    "\n",
    "fnames = glob.glob('*.ipynb')\n",
    "\n",
    "print(fnames)"
   ]
  },
  {
   "cell_type": "code",
   "execution_count": null,
   "metadata": {},
   "outputs": [],
   "source": []
  },
  {
   "cell_type": "code",
   "execution_count": null,
   "metadata": {},
   "outputs": [],
   "source": []
  },
  {
   "cell_type": "markdown",
   "metadata": {},
   "source": [
    "# Using IDL script in python\n",
    "* requires to install pIDLy package "
   ]
  },
  {
   "cell_type": "code",
   "execution_count": 45,
   "metadata": {},
   "outputs": [
    {
     "name": "stdout",
     "output_type": "stream",
     "text": [
      "% Compiled module: READ_INP.\n",
      "% Compiled module: STRSPLIT.\n",
      "1.21 1.66666674614 0.0025 250.0\n"
     ]
    }
   ],
   "source": [
    "import pidly   # for using idl script in python\n",
    "\n",
    "idl=pidly.IDL('/home/astrodoo/idl/idl/bin/bin.linux.x86_64/idl')\n",
    "idl('read_inp,\"../data/zmp_inp\",/python,ggen1=ggen1,ggen2=ggen2,eqos=eqos,unit=unit')\n",
    "rmin, rmax, x1rat, Nr = idl.ggen1[\"x1min\"], idl.ggen1[\"x1max\"], idl.ggen1[\"x1rat\"], idl.ggen1[\"nbl\"]\n",
    "thmin, thmax, Nth     = idl.ggen2[\"x2min\"], idl.ggen2[\"x2max\"], idl.ggen2[\"nbl\"]\n",
    "mmw   = idl.eqos[\"mmw\"]\n",
    "gamma = idl.eqos[\"gamma\"]\n",
    "idl.close()\n",
    "\n",
    "print mmw,gamma,rmin,rmax"
   ]
  },
  {
   "cell_type": "markdown",
   "metadata": {},
   "source": [
    "# Object-oriented Programming (CLASS)\n",
    "\n",
    "- to organize the code\n",
    "- to re-use code in similar contexts"
   ]
  },
  {
   "cell_type": "code",
   "execution_count": 49,
   "metadata": {},
   "outputs": [
    {
     "name": "stdout",
     "output_type": "stream",
     "text": [
      "anna 21 astronomy\n"
     ]
    }
   ],
   "source": [
    "class Student(object):\n",
    "    def __init__(self, name):\n",
    "        self.name = name\n",
    "    def set_age(self, age):\n",
    "        self.age = age\n",
    "    def set_major(self, major):\n",
    "        self.major = major\n",
    "\n",
    "anna = Student('anna')\n",
    "anna.set_age(21)\n",
    "anna.set_major('astronomy')\n",
    "\n",
    "print(anna.name, anna.age, anna.major)"
   ]
  },
  {
   "cell_type": "code",
   "execution_count": 50,
   "metadata": {},
   "outputs": [
    {
     "name": "stdout",
     "output_type": "stream",
     "text": [
      "mandatory, from March to June\n",
      "23\n"
     ]
    }
   ],
   "source": [
    "\"\"\" inherit the methods & attributes from previous class \n",
    "and add an additional attribute \"\"\"\n",
    "\n",
    "class MasterStudent(Student):\n",
    "    internship = 'mandatory, from March to June'\n",
    "    \n",
    "james = MasterStudent('james')\n",
    "print(james.internship)\n",
    "james.set_age(23)\n",
    "print(james.age)"
   ]
  },
  {
   "cell_type": "code",
   "execution_count": 52,
   "metadata": {},
   "outputs": [
    {
     "name": "stdout",
     "output_type": "stream",
     "text": [
      "0! = 1\n",
      "1! = 1\n",
      "2! = 2\n",
      "3! = 6\n",
      "4! = 24\n",
      "5! = 120\n",
      "6! = 720\n",
      "7! = 5040\n",
      "8! = 40320\n",
      "9! = 362880\n"
     ]
    }
   ],
   "source": [
    "\"\"\" Callable Class \"\"\"\n",
    "\n",
    "class Factorial:\n",
    "    def __init__(self):\n",
    "        self.cache = {}\n",
    "    def __call__(self, n):\n",
    "        if n not in self.cache:\n",
    "            if n == 0:\n",
    "                self.cache[n] = 1\n",
    "            else:\n",
    "                self.cache[n] = n * self.__call__(n-1)\n",
    "        return self.cache[n]\n",
    "\n",
    "fact = Factorial()\n",
    "\n",
    "for i in range(10):                                                             \n",
    "    print(\"{}! = {}\".format(i, fact(i)))"
   ]
  },
  {
   "cell_type": "code",
   "execution_count": null,
   "metadata": {},
   "outputs": [],
   "source": []
  },
  {
   "cell_type": "markdown",
   "metadata": {},
   "source": [
    "## Mutable & Immutable Class\n",
    "\n",
    "http://www.blog.pythonlibrary.org/2014/01/17/how-to-create-immutable-classes-in-python/"
   ]
  },
  {
   "cell_type": "code",
   "execution_count": 17,
   "metadata": {},
   "outputs": [],
   "source": [
    "\"\"\" Mutable example (default of class) \"\"\"\n",
    "\n",
    "class Mutable(object):\n",
    "    \"\"\"\n",
    "    A mutable class\n",
    "    \"\"\"\n",
    " \n",
    "    #----------------------------------------------------------------------\n",
    "    def __init__(self):\n",
    "        \"\"\"Constructor\"\"\"\n",
    "        pass"
   ]
  },
  {
   "cell_type": "code",
   "execution_count": 18,
   "metadata": {},
   "outputs": [
    {
     "name": "stdout",
     "output_type": "stream",
     "text": [
      "tamarin\n"
     ]
    }
   ],
   "source": [
    "mut_obj = Mutable()\n",
    "mut_obj.monkey = \"tamarin\"\n",
    "print(mut_obj.monkey)"
   ]
  },
  {
   "cell_type": "code",
   "execution_count": 19,
   "metadata": {},
   "outputs": [],
   "source": [
    "class Immutable(object):\n",
    "    \"\"\"\n",
    "    An immutable class\n",
    "    \"\"\"\n",
    "    __slots__ = [\"one\", \"two\", \"three\"]\n",
    " \n",
    "    #----------------------------------------------------------------------\n",
    "    def __init__(self, one, two, three):\n",
    "        \"\"\"Constructor\"\"\"\n",
    "        super(Immutable, self).__setattr__(\"one\", one)\n",
    "        super(Immutable, self).__setattr__(\"two\", two)\n",
    "        super(Immutable, self).__setattr__(\"three\", three)\n",
    "        \n",
    "    #----------------------------------------------------------------------\n",
    "    def __setattr__(self, name, value):\n",
    "        \"\"\"\"\"\"\n",
    "        msg = \"'%s' has no attribute %s\" % (self.__class__,\n",
    "                                            name)\n",
    "        raise AttributeError(msg)"
   ]
  },
  {
   "cell_type": "code",
   "execution_count": 20,
   "metadata": {},
   "outputs": [],
   "source": [
    "i = Immutable(1,2,3)\n",
    "#i.one = 4\n",
    "#i.four = 3\n",
    "#print i.one"
   ]
  },
  {
   "cell_type": "code",
   "execution_count": 21,
   "metadata": {},
   "outputs": [],
   "source": [
    "# 'object' should be written (meaning of no inheritance.)\n",
    "# Following example shows mutable class but not allow to have additional attributes other than in slots.\n",
    "class Immutable(object):\n",
    "    \"\"\"\n",
    "    mutable class but only in slots\n",
    "    \"\"\"\n",
    "    __slots__ = (\"one\", \"two\", \"three\")\n",
    "    \n",
    "#    aa = 3\n",
    " \n",
    "    #----------------------------------------------------------------------\n",
    "    def __init__(self, one, two, three):\n",
    "        \"\"\"Constructor\"\"\"\n",
    "        self.one = one\n",
    "        self.two = two\n",
    "        self.three = three\n",
    "#        self.bb = 3\n",
    "        #self.four = 21"
   ]
  },
  {
   "cell_type": "code",
   "execution_count": 22,
   "metadata": {},
   "outputs": [
    {
     "name": "stdout",
     "output_type": "stream",
     "text": [
      "1\n"
     ]
    }
   ],
   "source": [
    "i = Immutable(1,2,3)\n",
    "\n",
    "#print i.cc\n",
    "#i.one =43\n",
    "print(i.one)\n",
    "#print i.four"
   ]
  },
  {
   "cell_type": "code",
   "execution_count": 23,
   "metadata": {},
   "outputs": [
    {
     "name": "stdout",
     "output_type": "stream",
     "text": [
      "2\n"
     ]
    }
   ],
   "source": [
    "class hey(object):\n",
    "    __slots__ = ('x',)\n",
    "    #__statics__ = {'x','y'}\n",
    "    \n",
    "    def __init__(self):\n",
    "        #self.__class__.y = 1\n",
    "        self.x = 2\n",
    "        #self.z = 3\n",
    "        #self.x = 1\n",
    "    #pass\n",
    "    \n",
    "a = hey()\n",
    "\n",
    "hey().x = 3\n",
    "#a.x = 2\n",
    "\n",
    "print(a.x)\n",
    "#a.x = 2\n",
    "#hey.y = 2\n",
    "#print a.__dict__\n",
    "#print a.__class__.__dict__"
   ]
  },
  {
   "cell_type": "code",
   "execution_count": 24,
   "metadata": {},
   "outputs": [
    {
     "name": "stdout",
     "output_type": "stream",
     "text": [
      "hey\n",
      "3 2\n",
      "20 2\n"
     ]
    }
   ],
   "source": [
    "\"\"\" Class attribute and instance attribute \"\"\"\n",
    "\n",
    "class test(object):\n",
    "    c=2\n",
    "    __slots__ = ('a',)\n",
    "    \n",
    "    def __init__(self):\n",
    "        self.a = 20\n",
    "    #@classmethod    \n",
    "    @staticmethod\n",
    "    def aa():\n",
    "        print('hey')\n",
    "        pass\n",
    "\n",
    "test.b = 3\n",
    "test.aa()\n",
    "print(test.b, test.c)\n",
    "inst = test()\n",
    "print(inst.a, inst.c)\n",
    "#inst.b = 10\n",
    "#print inst.b"
   ]
  },
  {
   "cell_type": "markdown",
   "metadata": {},
   "source": [
    "## Class: classmethod vs. staticmethod\n",
    "\n",
    "class Dummy(object):\n",
    "\n",
    "    @classmethod\n",
    "    def some_function(cls,*args,**kwargs):\n",
    "        print cls\n",
    "\n",
    "#both of these will have exactly the same effect\n",
    "\n",
    "Dummy.some_function()\n",
    "\n",
    "Dummy().some_function()\n",
    "\n",
    "================================\n",
    "\n",
    "class MyClass(object):\n",
    "\n",
    "    def some_instance_method(self, *args, **kwds):\n",
    "        pass\n",
    "\n",
    "    @classmethod\n",
    "    def some_class_method(cls, *args, **kwds):\n",
    "        pass\n",
    "\n",
    "    @staticmethod\n",
    "    def some_static_method(*args, **kwds):\n",
    "        pass\n",
    "\n",
    "* classmethod must have a reference to a class object as the first parameter, whereas staticmethod can have no parameters at all."
   ]
  },
  {
   "cell_type": "code",
   "execution_count": 25,
   "metadata": {},
   "outputs": [
    {
     "name": "stdout",
     "output_type": "stream",
     "text": [
      "11 9 2012\n"
     ]
    }
   ],
   "source": [
    "class Date(object):\n",
    "\n",
    "    def __init__(self, day=0, month=0, year=0):\n",
    "        self.day = day\n",
    "        self.month = month\n",
    "        self.year = year\n",
    "        \n",
    "    @classmethod\n",
    "    def from_string(cls, date_as_string):\n",
    "        day, month, year = map(int, date_as_string.split('-'))\n",
    "        \n",
    "        # cls should have same args (or params) with __init__()\n",
    "        date1 = cls(day, month, year)\n",
    "        return date1\n",
    "\n",
    "date2 = Date.from_string('11-09-2012')\n",
    "print(date2.day, date2.month, date2.year)"
   ]
  },
  {
   "cell_type": "code",
   "execution_count": 26,
   "metadata": {},
   "outputs": [
    {
     "name": "stdout",
     "output_type": "stream",
     "text": [
      "True\n"
     ]
    }
   ],
   "source": [
    "class Date(object):\n",
    "\n",
    "    def __init__(self, day=0, month=0, year=0):\n",
    "        self.day = day\n",
    "        self.month = month\n",
    "        self.year = year\n",
    "    \n",
    "    @staticmethod\n",
    "    def is_date_valid(date_as_string):\n",
    "        day, month, year = map(int, date_as_string.split('-'))\n",
    "        return day <= 31 and month <= 12 and year <= 3999\n",
    "\n",
    "# usage:\n",
    "is_date = Date.is_date_valid('11-09-2012')\n",
    "print(is_date)"
   ]
  },
  {
   "cell_type": "code",
   "execution_count": 27,
   "metadata": {},
   "outputs": [
    {
     "name": "stdout",
     "output_type": "stream",
     "text": [
      "this is static method!\n",
      "this is class method!\n",
      "bb\n",
      "this is general method!\n",
      "aa bb\n"
     ]
    }
   ],
   "source": [
    "class tmp(object):\n",
    "    \n",
    "    def __init__(self, aa):\n",
    "        self.aa = aa\n",
    "    \n",
    "    bb = 'bb'\n",
    "    \n",
    "    # staticmethod cannot read neither class attributes nor instances.\n",
    "    @staticmethod\n",
    "    def sttm():\n",
    "        print('this is static method!')\n",
    "    \n",
    "    # classmethod can read class attributes but instances.\n",
    "    @classmethod\n",
    "    def clsm(cls):\n",
    "        print('this is class method!')\n",
    "        print(cls.bb)\n",
    "    \n",
    "    # general functions can read class instances and attributes\n",
    "    def generalm(self):\n",
    "        print('this is general method!')\n",
    "        print(self.aa, self.bb)\n",
    "\n",
    "kk = tmp('aa')\n",
    "kk.sttm()\n",
    "kk.clsm()\n",
    "kk.generalm()"
   ]
  },
  {
   "cell_type": "code",
   "execution_count": null,
   "metadata": {},
   "outputs": [],
   "source": []
  },
  {
   "cell_type": "code",
   "execution_count": null,
   "metadata": {},
   "outputs": [],
   "source": []
  },
  {
   "cell_type": "markdown",
   "metadata": {},
   "source": [
    "# exec (execute) or eval"
   ]
  },
  {
   "cell_type": "code",
   "execution_count": 54,
   "metadata": {},
   "outputs": [
    {
     "name": "stdout",
     "output_type": "stream",
     "text": [
      "hi from test2\n"
     ]
    }
   ],
   "source": [
    "def func():\n",
    "    exec('print(\"hi from test2\")',{})\n",
    "    def subfunction():\n",
    "        return None\n",
    "    \n",
    "func()"
   ]
  },
  {
   "cell_type": "code",
   "execution_count": 55,
   "metadata": {},
   "outputs": [
    {
     "name": "stdout",
     "output_type": "stream",
     "text": [
      "[3, 5, 6]\n",
      "None\n"
     ]
    }
   ],
   "source": [
    "def func(var):\n",
    "    a = ['aa','bb']\n",
    "    aa = [1,2,3]\n",
    "    bb = [3,5,6]\n",
    "    \n",
    "    print(eval(a[var]))\n",
    "        \n",
    "    return None\n",
    "    \n",
    "print(func(1))"
   ]
  },
  {
   "cell_type": "code",
   "execution_count": null,
   "metadata": {},
   "outputs": [],
   "source": []
  }
 ],
 "metadata": {
  "kernelspec": {
   "display_name": "Python 3",
   "language": "python",
   "name": "python3"
  },
  "language_info": {
   "codemirror_mode": {
    "name": "ipython",
    "version": 3
   },
   "file_extension": ".py",
   "mimetype": "text/x-python",
   "name": "python",
   "nbconvert_exporter": "python",
   "pygments_lexer": "ipython3",
   "version": "3.8.3"
  }
 },
 "nbformat": 4,
 "nbformat_minor": 4
}
