{
 "cells": [
  {
   "cell_type": "code",
   "execution_count": 1,
   "metadata": {
    "collapsed": true
   },
   "outputs": [],
   "source": [
    "import pygoods"
   ]
  },
  {
   "cell_type": "code",
   "execution_count": 2,
   "metadata": {
    "collapsed": true
   },
   "outputs": [],
   "source": [
    "import pyhdf"
   ]
  },
  {
   "cell_type": "code",
   "execution_count": 3,
   "metadata": {
    "collapsed": false
   },
   "outputs": [
    {
     "name": "stdout",
     "output_type": "stream",
     "text": [
      "['', '/home/astrodoo/Enthought/Canopy_64bit/User/lib/python2.7/site-packages/pyhdf-0.9.0-py2.7-linux-x86_64.egg', '/home/astrodoo/heasoft-6.19/x86_64-unknown-linux-gnu-libc2.23-0/lib/python', '/home/astrodoo/heasoft-6.19/x86_64-unknown-linux-gnu-libc2.23-0/lib', '/home/astrodoo/CodeExr/Python/ipynb', '/home/astrodoo/lib/python', '/home/astrodoo/Canopy/appdata/canopy-1.7.2.3327.rh5-x86_64/lib/python27.zip', '/home/astrodoo/Canopy/appdata/canopy-1.7.2.3327.rh5-x86_64/lib/python2.7', '/home/astrodoo/Canopy/appdata/canopy-1.7.2.3327.rh5-x86_64/lib/python2.7/plat-linux2', '/home/astrodoo/Canopy/appdata/canopy-1.7.2.3327.rh5-x86_64/lib/python2.7/lib-tk', '/home/astrodoo/Canopy/appdata/canopy-1.7.2.3327.rh5-x86_64/lib/python2.7/lib-old', '/home/astrodoo/Canopy/appdata/canopy-1.7.2.3327.rh5-x86_64/lib/python2.7/lib-dynload', '/home/astrodoo/Enthought/Canopy_64bit/User/lib/python2.7/site-packages', '/home/astrodoo/Canopy/appdata/canopy-1.7.2.3327.rh5-x86_64/lib/python2.7/site-packages', '/home/astrodoo/Enthought/Canopy_64bit/User/lib/python2.7/site-packages/IPython/extensions', '/home/astrodoo/.ipython']\n"
     ]
    }
   ],
   "source": [
    "import sys\n",
    "\n",
    "print sys.path"
   ]
  },
  {
   "cell_type": "code",
   "execution_count": 1,
   "metadata": {
    "collapsed": true
   },
   "outputs": [],
   "source": [
    "import matplotlib as mpl"
   ]
  },
  {
   "cell_type": "code",
   "execution_count": 2,
   "metadata": {
    "collapsed": false
   },
   "outputs": [
    {
     "name": "stdout",
     "output_type": "stream",
     "text": [
      "2.0.0\n"
     ]
    }
   ],
   "source": [
    "print mpl.__version__"
   ]
  },
  {
   "cell_type": "code",
   "execution_count": null,
   "metadata": {
    "collapsed": true
   },
   "outputs": [],
   "source": []
  }
 ],
 "metadata": {
  "kernelspec": {
   "display_name": "Python 2",
   "language": "python",
   "name": "python2"
  },
  "language_info": {
   "codemirror_mode": {
    "name": "ipython",
    "version": 2
   },
   "file_extension": ".py",
   "mimetype": "text/x-python",
   "name": "python",
   "nbconvert_exporter": "python",
   "pygments_lexer": "ipython2",
   "version": "2.7.13"
  }
 },
 "nbformat": 4,
 "nbformat_minor": 0
}
