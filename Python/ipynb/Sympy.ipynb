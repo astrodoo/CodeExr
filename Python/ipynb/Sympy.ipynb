{
 "cells": [
  {
   "cell_type": "markdown",
   "metadata": {},
   "source": [
    "# Sympy Basic\n",
    "- Sympy is designed to calucate for symbolic mathematics in a full featured computer algebra system that can complete directly with commercial alternatives (Mathematica, Maple)."
   ]
  },
  {
   "cell_type": "code",
   "execution_count": 1,
   "metadata": {},
   "outputs": [],
   "source": [
    "import sympy as sp"
   ]
  },
  {
   "cell_type": "code",
   "execution_count": 2,
   "metadata": {
    "collapsed": false,
    "jupyter": {
     "outputs_hidden": false
    }
   },
   "outputs": [
    {
     "name": "stdout",
     "output_type": "stream",
     "text": [
      "<class 'sympy.core.numbers.Half'>\n",
      "1/2\n"
     ]
    }
   ],
   "source": [
    "a = sp.Rational(1,2)\n",
    "print(type(a))\n",
    "print(a)"
   ]
  },
  {
   "cell_type": "code",
   "execution_count": 3,
   "metadata": {
    "collapsed": false,
    "jupyter": {
     "outputs_hidden": false
    }
   },
   "outputs": [
    {
     "name": "stdout",
     "output_type": "stream",
     "text": [
      "pi**2\n",
      "3.14159265358979\n",
      "8.53973422267357\n"
     ]
    }
   ],
   "source": [
    "print(sp.pi**2)\n",
    "\n",
    "print(sp.pi.evalf())\n",
    "print((sp.pi*sp.exp(1)).evalf())"
   ]
  },
  {
   "cell_type": "code",
   "execution_count": 5,
   "metadata": {
    "collapsed": false,
    "jupyter": {
     "outputs_hidden": false
    }
   },
   "outputs": [
    {
     "name": "stdout",
     "output_type": "stream",
     "text": [
      "True\n",
      "oo\n"
     ]
    }
   ],
   "source": [
    "\"\"\" infinity is 'oo' \"\"\"\n",
    "\n",
    "print(sp.oo > 99999)\n",
    "print(sp.oo + 1)"
   ]
  },
  {
   "cell_type": "code",
   "execution_count": 6,
   "metadata": {
    "collapsed": false,
    "jupyter": {
     "outputs_hidden": false
    }
   },
   "outputs": [
    {
     "name": "stdout",
     "output_type": "stream",
     "text": [
      "2*x - y\n",
      "(x + y)**2\n"
     ]
    }
   ],
   "source": [
    "x = sp.Symbol('x')\n",
    "y = sp.Symbol('y')\n",
    "\n",
    "print(x+y+x-2*y)\n",
    "print((x+y)**2)"
   ]
  },
  {
   "cell_type": "markdown",
   "metadata": {},
   "source": [
    "# expand"
   ]
  },
  {
   "cell_type": "code",
   "execution_count": 7,
   "metadata": {
    "collapsed": false,
    "jupyter": {
     "outputs_hidden": false
    }
   },
   "outputs": [
    {
     "name": "stdout",
     "output_type": "stream",
     "text": [
      "x**3 + 3*x**2*y + 3*x*y**2 + y**3\n",
      "re(x) + re(y) + I*im(x) + I*im(y)\n",
      "-sin(x)*sin(y) + cos(x)*cos(y)\n"
     ]
    }
   ],
   "source": [
    "print(sp.expand((x+y)**3))\n",
    "\n",
    "print(sp.expand(x+y, complex=True))\n",
    "\n",
    "print(sp.expand(sp.cos(x+y), trig=True))"
   ]
  },
  {
   "cell_type": "markdown",
   "metadata": {},
   "source": [
    "# simplify"
   ]
  },
  {
   "cell_type": "code",
   "execution_count": 8,
   "metadata": {
    "collapsed": false,
    "jupyter": {
     "outputs_hidden": false
    }
   },
   "outputs": [
    {
     "name": "stdout",
     "output_type": "stream",
     "text": [
      "2 + y/x\n"
     ]
    }
   ],
   "source": [
    "print(sp.simplify((x+x+y)/x))"
   ]
  },
  {
   "cell_type": "markdown",
   "metadata": {},
   "source": [
    "# Calculus"
   ]
  },
  {
   "cell_type": "markdown",
   "metadata": {},
   "source": [
    "## limit"
   ]
  },
  {
   "cell_type": "code",
   "execution_count": 10,
   "metadata": {
    "collapsed": false,
    "jupyter": {
     "outputs_hidden": false
    }
   },
   "outputs": [
    {
     "name": "stdout",
     "output_type": "stream",
     "text": [
      "1\n"
     ]
    }
   ],
   "source": [
    "\"\"\" f(x) as x -> 0 \"\"\"\n",
    "\n",
    "print(sp.limit(sp.sin(x)/x, x, 0))"
   ]
  },
  {
   "cell_type": "code",
   "execution_count": 11,
   "metadata": {
    "collapsed": false,
    "jupyter": {
     "outputs_hidden": false
    }
   },
   "outputs": [
    {
     "name": "stdout",
     "output_type": "stream",
     "text": [
      "oo\n",
      "0\n",
      "1\n"
     ]
    }
   ],
   "source": [
    "print(sp.limit(x,x,sp.oo))\n",
    "print(sp.limit(1/x,x,sp.oo))\n",
    "print(sp.limit(x**x,x,0))"
   ]
  },
  {
   "cell_type": "markdown",
   "metadata": {},
   "source": [
    "## differentiation"
   ]
  },
  {
   "cell_type": "code",
   "execution_count": 12,
   "metadata": {
    "collapsed": false,
    "jupyter": {
     "outputs_hidden": false
    }
   },
   "outputs": [
    {
     "name": "stdout",
     "output_type": "stream",
     "text": [
      "cos(x)\n",
      "2*cos(2*x)\n",
      "tan(x)**2 + 1\n",
      "tan(x)**2 + 1\n"
     ]
    }
   ],
   "source": [
    "print(sp.diff(sp.sin(x),x))\n",
    "print(sp.diff(sp.sin(2*x),x))\n",
    "\n",
    "print(sp.diff(sp.tan(x),x))\n",
    "print(sp.limit((sp.tan(x+y)-sp.tan(x))/y,y,0))"
   ]
  },
  {
   "cell_type": "code",
   "execution_count": 13,
   "metadata": {
    "collapsed": false,
    "jupyter": {
     "outputs_hidden": false
    }
   },
   "outputs": [
    {
     "name": "stdout",
     "output_type": "stream",
     "text": [
      "2*cos(2*x)\n",
      "-4*sin(2*x)\n",
      "-8*cos(2*x)\n"
     ]
    }
   ],
   "source": [
    "\"\"\" higher derivatives \"\"\"\n",
    "\n",
    "print(sp.diff(sp.sin(2*x), x, 1))\n",
    "print(sp.diff(sp.sin(2*x), x, 2))\n",
    "print(sp.diff(sp.sin(2*x), x, 3))"
   ]
  },
  {
   "cell_type": "markdown",
   "metadata": {},
   "source": [
    "## Taylor series expansion"
   ]
  },
  {
   "cell_type": "code",
   "execution_count": 14,
   "metadata": {
    "collapsed": false,
    "jupyter": {
     "outputs_hidden": false
    }
   },
   "outputs": [
    {
     "name": "stdout",
     "output_type": "stream",
     "text": [
      "1 - x**2/2 + x**4/24 - x**6/720 + x**8/40320 + O(x**10)\n",
      "1 + x**2/2 + 5*x**4/24 + O(x**6)\n"
     ]
    }
   ],
   "source": [
    "print(sp.series(sp.cos(x), x, n=10))\n",
    "\n",
    "print(sp.series(1/sp.cos(x), x))"
   ]
  },
  {
   "cell_type": "markdown",
   "metadata": {},
   "source": [
    "## integration"
   ]
  },
  {
   "cell_type": "code",
   "execution_count": 15,
   "metadata": {
    "collapsed": false,
    "jupyter": {
     "outputs_hidden": false
    }
   },
   "outputs": [
    {
     "name": "stdout",
     "output_type": "stream",
     "text": [
      "x**6\n",
      "-cos(x)\n",
      "x*log(x) - x\n",
      "x**2 + cosh(x)\n",
      "sqrt(pi)*erf(x)**2/4\n"
     ]
    }
   ],
   "source": [
    "print(sp.integrate(6*x**5, x))\n",
    "\n",
    "print(sp.integrate(sp.sin(x), x))\n",
    "print(sp.integrate(sp.log(x), x))\n",
    "print(sp.integrate(2*x + sp.sinh(x), x))\n",
    "\n",
    "print(sp.integrate(sp.exp(-x**2)*sp.erf(x), x))"
   ]
  },
  {
   "cell_type": "code",
   "execution_count": 16,
   "metadata": {
    "collapsed": false,
    "jupyter": {
     "outputs_hidden": false
    }
   },
   "outputs": [
    {
     "name": "stdout",
     "output_type": "stream",
     "text": [
      "0\n",
      "1\n",
      "2\n"
     ]
    }
   ],
   "source": [
    "print(sp.integrate(x**3, (x, -1, 1)))\n",
    "\n",
    "print(sp.integrate(sp.sin(x), (x, 0 , sp.pi/2)))\n",
    "\n",
    "print(sp.integrate(sp.cos(x), (x, -sp.pi/2, sp.pi/2)))"
   ]
  },
  {
   "cell_type": "code",
   "execution_count": 17,
   "metadata": {
    "collapsed": false,
    "jupyter": {
     "outputs_hidden": false
    }
   },
   "outputs": [
    {
     "name": "stdout",
     "output_type": "stream",
     "text": [
      "1\n",
      "sqrt(pi)\n"
     ]
    }
   ],
   "source": [
    "print(sp.integrate(sp.exp(-x), (x, 0, sp.oo)))\n",
    "\n",
    "print(sp.integrate(sp.exp(-x**2), (x, -sp.oo, sp.oo)))"
   ]
  },
  {
   "cell_type": "code",
   "execution_count": null,
   "metadata": {},
   "outputs": [],
   "source": []
  },
  {
   "cell_type": "code",
   "execution_count": null,
   "metadata": {},
   "outputs": [],
   "source": []
  },
  {
   "cell_type": "markdown",
   "metadata": {},
   "source": [
    "# Equation solving"
   ]
  },
  {
   "cell_type": "code",
   "execution_count": 18,
   "metadata": {
    "collapsed": false,
    "jupyter": {
     "outputs_hidden": false
    }
   },
   "outputs": [
    {
     "name": "stdout",
     "output_type": "stream",
     "text": [
      "<class 'list'>\n",
      "[-1, 1, -I, I]\n"
     ]
    }
   ],
   "source": [
    "a = sp.solve(x**4 - 1, x)\n",
    "print(type(a))\n",
    "print(a)"
   ]
  },
  {
   "cell_type": "code",
   "execution_count": 19,
   "metadata": {
    "collapsed": false,
    "jupyter": {
     "outputs_hidden": false
    }
   },
   "outputs": [
    {
     "name": "stdout",
     "output_type": "stream",
     "text": [
      "<class 'dict'>\n",
      "{x: -3, y: 1}\n"
     ]
    }
   ],
   "source": [
    "b = sp.solve([x + 5*y - 2, -3*x + 6*y -15],[x,y])\n",
    "print(type(b))\n",
    "print(b)"
   ]
  },
  {
   "cell_type": "code",
   "execution_count": 20,
   "metadata": {
    "collapsed": false,
    "jupyter": {
     "outputs_hidden": false
    }
   },
   "outputs": [
    {
     "name": "stdout",
     "output_type": "stream",
     "text": [
      "[I*pi]\n"
     ]
    }
   ],
   "source": [
    "print(sp.solve(sp.exp(x)+1, x))"
   ]
  },
  {
   "cell_type": "code",
   "execution_count": 21,
   "metadata": {
    "collapsed": false,
    "jupyter": {
     "outputs_hidden": false
    }
   },
   "outputs": [
    {
     "name": "stdout",
     "output_type": "stream",
     "text": [
      "(x**2 - x - 1)*(x**2 + x - 1)\n"
     ]
    }
   ],
   "source": [
    "\"\"\" polynomial factorization \"\"\"\n",
    "\n",
    "f = x**4 - 3*x**2 + 1\n",
    "print(sp.factor(f))"
   ]
  },
  {
   "cell_type": "code",
   "execution_count": null,
   "metadata": {},
   "outputs": [],
   "source": []
  },
  {
   "cell_type": "code",
   "execution_count": null,
   "metadata": {},
   "outputs": [],
   "source": []
  },
  {
   "cell_type": "markdown",
   "metadata": {},
   "source": [
    "# Linear Algebra"
   ]
  },
  {
   "cell_type": "code",
   "execution_count": 26,
   "metadata": {
    "collapsed": false,
    "jupyter": {
     "outputs_hidden": false
    }
   },
   "outputs": [
    {
     "name": "stdout",
     "output_type": "stream",
     "text": [
      "<class 'sympy.matrices.dense.MutableDenseMatrix'>\n",
      "Matrix([[1, 0], [0, 1]])\n"
     ]
    }
   ],
   "source": [
    "a = sp.Matrix([[1,0], [0,1]])\n",
    "print(type(a))\n",
    "print(a)"
   ]
  },
  {
   "cell_type": "code",
   "execution_count": 23,
   "metadata": {
    "collapsed": false,
    "jupyter": {
     "outputs_hidden": false
    }
   },
   "outputs": [
    {
     "name": "stdout",
     "output_type": "stream",
     "text": [
      "Matrix([[1, x], [y, 1]])\n",
      "Matrix([[x*y + 1, 2*x], [2*y, x*y + 1]])\n"
     ]
    }
   ],
   "source": [
    "\"\"\" unlike to Numpy Array, you can also put Symbols in the Matrix \"\"\"\n",
    "\n",
    "x = sp.Symbol('x')\n",
    "y = sp.Symbol('y')\n",
    "\n",
    "a = sp.Matrix([[1,x],[y,1]])\n",
    "print(a)\n",
    "\n",
    "print(a**2)"
   ]
  },
  {
   "cell_type": "markdown",
   "metadata": {},
   "source": [
    "# ordinary differential equations"
   ]
  },
  {
   "cell_type": "code",
   "execution_count": 30,
   "metadata": {
    "collapsed": false,
    "jupyter": {
     "outputs_hidden": false
    }
   },
   "outputs": [
    {
     "name": "stdout",
     "output_type": "stream",
     "text": [
      "f(x) + Derivative(f(x), (x, 2))\n",
      "Eq(f(x), C1*sin(x) + C2*cos(x))\n"
     ]
    }
   ],
   "source": [
    "from sympy.abc import x\n",
    "\n",
    "f = sp.Function('f')\n",
    "print(f(x).diff(x,x) + f(x))\n",
    "\n",
    "print(sp.ode.dsolve(f(x).diff(x,x) + f(x), f(x)))"
   ]
  },
  {
   "cell_type": "code",
   "execution_count": null,
   "metadata": {},
   "outputs": [],
   "source": []
  },
  {
   "cell_type": "code",
   "execution_count": null,
   "metadata": {},
   "outputs": [],
   "source": []
  }
 ],
 "metadata": {
  "kernelspec": {
   "display_name": "Python 3",
   "language": "python",
   "name": "python3"
  },
  "language_info": {
   "codemirror_mode": {
    "name": "ipython",
    "version": 3
   },
   "file_extension": ".py",
   "mimetype": "text/x-python",
   "name": "python",
   "nbconvert_exporter": "python",
   "pygments_lexer": "ipython3",
   "version": "3.8.3"
  }
 },
 "nbformat": 4,
 "nbformat_minor": 4
}
