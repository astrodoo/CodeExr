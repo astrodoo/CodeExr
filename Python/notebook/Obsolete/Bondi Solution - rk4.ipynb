{
 "cells": [
  {
   "cell_type": "code",
   "execution_count": null,
   "metadata": {},
   "outputs": [],
   "source": [
    "from math import e\n",
    "from scipy.integrate import odeint\n",
    "\n",
    "import numpy as np\n",
    "\n",
    "def fun(u,r):\n",
    "    return - u / (u - 1.) * 4./r**2. * (1. - r)\n",
    "\n",
    "rr = np.linspace(1e-3,2,10000)\n",
    "u0 = 1e-2\n",
    "uu = odeint(fun, u0, rr)\n",
    "uu = np.array(uu).flatten() "
   ]
  },
  {
   "cell_type": "code",
   "execution_count": null,
   "metadata": {},
   "outputs": [],
   "source": [
    "import matplotlib.pyplot as plt\n",
    "%matplotlib inline\n",
    "\n",
    "fig,ax = plt.subplots()\n",
    "\n",
    "ax.plot(rr,np.sqrt(uu))"
   ]
  },
  {
   "cell_type": "code",
   "execution_count": null,
   "metadata": {},
   "outputs": [],
   "source": []
  },
  {
   "cell_type": "code",
   "execution_count": null,
   "metadata": {},
   "outputs": [],
   "source": []
  },
  {
   "cell_type": "code",
   "execution_count": null,
   "metadata": {},
   "outputs": [],
   "source": [
    "from math import e\n",
    "from scipy import integrate as inte\n",
    "\n",
    "\n",
    "def fun(r,u):\n",
    "    return - u / (u - 1.) * 4./r**2. * (1. - r)\n",
    "\n",
    "\n",
    "solution = inte.RK45(fun, 1.1 , [1.1] , 2.)\n",
    "\n",
    "# collect data\n",
    "r_values = []\n",
    "u_values = []\n",
    "for i in range(10000):\n",
    "    # get solution step state\n",
    "    solution.step()\n",
    "    r_values.append(solution.t)\n",
    "    u_values.append(solution.y[0])\n",
    "    # break loop after modeling is finished\n",
    "    if solution.status == 'finished':\n",
    "        break\n",
    "    \n",
    "data = zip(r_values, u_values)"
   ]
  },
  {
   "cell_type": "code",
   "execution_count": null,
   "metadata": {},
   "outputs": [],
   "source": [
    "for i in data:\n",
    "    print(i)"
   ]
  },
  {
   "cell_type": "code",
   "execution_count": null,
   "metadata": {},
   "outputs": [],
   "source": [
    "import matplotlib.pyplot as plt\n",
    "%matplotlib inline\n",
    "\n",
    "fig, ax = plt.subplots()\n",
    "\n",
    "ax.plot(r_values, u_values)"
   ]
  },
  {
   "cell_type": "code",
   "execution_count": null,
   "metadata": {},
   "outputs": [],
   "source": [
    "import matplotlib.pyplot as plt\n",
    "%matplotlib inline\n",
    "\n",
    "fig, ax = plt.subplots()\n",
    "\n",
    "ax.plot(r_values, u_values)"
   ]
  },
  {
   "cell_type": "code",
   "execution_count": null,
   "metadata": {},
   "outputs": [],
   "source": []
  },
  {
   "cell_type": "code",
   "execution_count": null,
   "metadata": {},
   "outputs": [],
   "source": [
    "#from math import e\n",
    "#from scipy import integrate as inte\n",
    "from scipy.integrate import odeint\n",
    "import numpy as np\n",
    "\n",
    "def f(y,x):\n",
    "    return 2.*x\n",
    "\n",
    "xs = np.linspace(0,5,100)\n",
    "y0 = 0.\n",
    "ys = odeint(f, y0, xs)\n",
    "ys = np.array(ys).flatten()"
   ]
  },
  {
   "cell_type": "code",
   "execution_count": null,
   "metadata": {},
   "outputs": [],
   "source": [
    "import matplotlib.pyplot as plt\n",
    "import numpy as np\n",
    "%matplotlib inline\n",
    "\n",
    "fig, ax = plt.subplots()\n",
    "\n",
    "xx = np.linspace(0,5,100)\n",
    "\n",
    "ax.plot(xs,ys)\n",
    "ax.plot(xx,xx*xx,ls='--')"
   ]
  },
  {
   "cell_type": "code",
   "execution_count": null,
   "metadata": {},
   "outputs": [],
   "source": []
  },
  {
   "cell_type": "code",
   "execution_count": null,
   "metadata": {},
   "outputs": [],
   "source": []
  },
  {
   "cell_type": "code",
   "execution_count": null,
   "metadata": {},
   "outputs": [],
   "source": [
    "from math import e\n",
    "from scipy import integrate as inte\n",
    "\n",
    "\n",
    "def f(t,x):\n",
    "    return 2.*t\n",
    "\n",
    "solution = inte.RK45(f, 0 , [1] , 10 ,1, 0.001, e**-6)\n",
    "\n",
    "# collect data\n",
    "t_values = []\n",
    "y_values = []\n",
    "for i in range(100):\n",
    "    # get solution step state\n",
    "    solution.step()\n",
    "    t_values.append(solution.t)\n",
    "    y_values.append(solution.y[0])\n",
    "    # break loop after modeling is finished\n",
    "    if solution.status == 'finished':\n",
    "        break\n",
    "    \n",
    "data = zip(t_values, y_values)"
   ]
  },
  {
   "cell_type": "code",
   "execution_count": null,
   "metadata": {},
   "outputs": [],
   "source": [
    "import matplotlib.pyplot as plt\n",
    "import numpy as np\n",
    "%matplotlib inline\n",
    "\n",
    "fig, ax = plt.subplots()\n",
    "\n",
    "tt = np.linspace(0.,10,100)\n",
    "\n",
    "ax.plot(t_values, y_values)\n",
    "ax.plot(tt,tt*tt)"
   ]
  },
  {
   "cell_type": "code",
   "execution_count": null,
   "metadata": {},
   "outputs": [],
   "source": []
  },
  {
   "cell_type": "code",
   "execution_count": null,
   "metadata": {},
   "outputs": [],
   "source": []
  },
  {
   "cell_type": "code",
   "execution_count": null,
   "metadata": {},
   "outputs": [],
   "source": []
  },
  {
   "cell_type": "code",
   "execution_count": null,
   "metadata": {},
   "outputs": [],
   "source": [
    "from math import e\n",
    "from scipy import integrate as inte\n",
    "\n",
    "\n",
    "def f(t,x):\n",
    "    return -x\n",
    "\n",
    "solution = inte.RK45(f, 0 , [1] , 10 ,1, 0.001, e**-6)\n",
    "\n",
    "# collect data\n",
    "t_values = []\n",
    "y_values = []\n",
    "for i in range(100):\n",
    "    # get solution step state\n",
    "    solution.step()\n",
    "    t_values.append(solution.t)\n",
    "    y_values.append(solution.y[0])\n",
    "    # break loop after modeling is finished\n",
    "    if solution.status == 'finished':\n",
    "        break\n",
    "    \n",
    "data = zip(t_values, y_values)"
   ]
  },
  {
   "cell_type": "code",
   "execution_count": null,
   "metadata": {},
   "outputs": [],
   "source": [
    "for i in data:\n",
    "    print(i)"
   ]
  },
  {
   "cell_type": "code",
   "execution_count": null,
   "metadata": {},
   "outputs": [],
   "source": []
  }
 ],
 "metadata": {
  "kernelspec": {
   "display_name": "Python 3",
   "language": "python",
   "name": "python3"
  },
  "language_info": {
   "codemirror_mode": {
    "name": "ipython",
    "version": 3
   },
   "file_extension": ".py",
   "mimetype": "text/x-python",
   "name": "python",
   "nbconvert_exporter": "python",
   "pygments_lexer": "ipython3",
   "version": "3.7.3"
  },
  "toc": {
   "base_numbering": 1,
   "nav_menu": {},
   "number_sections": true,
   "sideBar": true,
   "skip_h1_title": false,
   "title_cell": "Table of Contents",
   "title_sidebar": "Contents",
   "toc_cell": false,
   "toc_position": {},
   "toc_section_display": true,
   "toc_window_display": false
  }
 },
 "nbformat": 4,
 "nbformat_minor": 2
}
