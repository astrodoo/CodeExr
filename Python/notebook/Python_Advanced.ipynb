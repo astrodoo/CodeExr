{
 "cells": [
  {
   "cell_type": "markdown",
   "id": "99cbec91-0537-47d3-8e92-03b5be7bb181",
   "metadata": {},
   "source": [
    "# Pipeline\n",
    "\n",
    "Source: https://medium.com/@ayush-thakur02/wait-what-are-pipelines-in-python-628f4b5021fd\n",
    "\n",
    "- a way of organizing a series of operations or functions that process some data \n",
    "- The output of one operation becomes the input of the next one, and so on, until the final result is obtained."
   ]
  },
  {
   "cell_type": "markdown",
   "id": "4f343960-0b25-46e2-b7ad-ca560e936b76",
   "metadata": {},
   "source": [
    "Mock Example:\n",
    "- Filter out the odd numbers\n",
    "- Multiply each number by 10\n",
    "- Add 5 to each number\n",
    "- Calculate the average of the resulting numbers"
   ]
  },
  {
   "cell_type": "code",
   "execution_count": 2,
   "id": "4f8eb642-c8cb-4ccb-9e8f-0ee6cbb8ce55",
   "metadata": {
    "tags": []
   },
   "outputs": [
    {
     "name": "stdout",
     "output_type": "stream",
     "text": [
      "65.0\n"
     ]
    }
   ],
   "source": [
    "\"\"\" Old ways \"\"\"\n",
    "\n",
    "numbers = [1, 2, 3, 4, 5, 6, 7, 8, 9, 10]\n",
    "\n",
    "filtered = []\n",
    "for n in numbers:\n",
    "    if n % 2 == 0:\n",
    "        filtered.append(n)\n",
    "\n",
    "multiplied = []\n",
    "for n in filtered:\n",
    "    multiplied.append(n * 10)\n",
    "\n",
    "added = []\n",
    "for n in multiplied:\n",
    "    added.append(n + 5)\n",
    "\n",
    "total = 0\n",
    "count = 0\n",
    "for n in added:\n",
    "    total += n\n",
    "    count += 1\n",
    "\n",
    "average = total / count\n",
    "print(average)"
   ]
  },
  {
   "cell_type": "code",
   "execution_count": 11,
   "id": "bc476fd1-fe15-4a24-ba19-83a9fef7bacf",
   "metadata": {
    "tags": []
   },
   "outputs": [
    {
     "name": "stdout",
     "output_type": "stream",
     "text": [
      "65.0\n"
     ]
    }
   ],
   "source": [
    "\"\"\" use concise functions \"\"\"\n",
    "\n",
    "numbers = [1, 2, 3, 4, 5, 6, 7, 8, 9, 10]\n",
    "average = sum(map(lambda n: n + 5, map(lambda n: n * 10, filter(lambda n: n % 2 == 0, numbers)))) \\\n",
    "         / len(list(filter(lambda n: n % 2 == 0, numbers)))\n",
    "\n",
    "print(average)"
   ]
  },
  {
   "cell_type": "code",
   "execution_count": 43,
   "id": "fde478cf-4e96-4198-b63c-f090317a446f",
   "metadata": {
    "tags": []
   },
   "outputs": [
    {
     "name": "stdout",
     "output_type": "stream",
     "text": [
      "65.0\n"
     ]
    }
   ],
   "source": [
    "\"\"\" use pipelines \"\"\"\n",
    "from toolz import pipe\n",
    "\n",
    "numbers = [1, 2, 3, 4, 5, 6, 7, 8, 9, 10]\n",
    "average = pipe(numbers, \n",
    "               lambda nbs: filter(lambda n: n % 2 == 0, nbs),\n",
    "               lambda nbs: map(lambda n: n * 10, nbs), \n",
    "               lambda nbs: list(map(lambda n: n + 5, nbs)),   # it should be the form of list (not object) to proceed the next step! (sum/len)\n",
    "               lambda x: sum(x) / len(x))\n",
    "\n",
    "print(average)"
   ]
  },
  {
   "cell_type": "markdown",
   "id": "79e02996-46f0-4a20-91c3-4097a13f49e1",
   "metadata": {},
   "source": [
    "> See also:\n",
    "- https://stackoverflow.com/questions/44149947/understanding-toolz-use-cases"
   ]
  },
  {
   "cell_type": "code",
   "execution_count": 50,
   "id": "144088b2-9fd8-4b86-8b6b-2905b27d131a",
   "metadata": {
    "tags": []
   },
   "outputs": [
    {
     "name": "stdout",
     "output_type": "stream",
     "text": [
      "65.0\n"
     ]
    }
   ],
   "source": [
    "\"\"\" further improvement \"\"\"\n",
    "\n",
    "from toolz import curried\n",
    "\n",
    "numbers = [1, 2, 3, 4, 5, 6, 7, 8, 9, 10]\n",
    "average = pipe(numbers, \n",
    "               curried.filter(lambda n: n % 2 == 0),       # no need to imploy the variables\n",
    "               curried.map(lambda n: n * 10), \n",
    "               lambda nbs: list(map(lambda n: n + 5, nbs)), \n",
    "               lambda x: sum(x) / len(list(x)))\n",
    "\n",
    "print(average)"
   ]
  }
 ],
 "metadata": {
  "kernelspec": {
   "display_name": "Python 3 (ipykernel)",
   "language": "python",
   "name": "python3"
  },
  "language_info": {
   "codemirror_mode": {
    "name": "ipython",
    "version": 3
   },
   "file_extension": ".py",
   "mimetype": "text/x-python",
   "name": "python",
   "nbconvert_exporter": "python",
   "pygments_lexer": "ipython3",
   "version": "3.11.3"
  }
 },
 "nbformat": 4,
 "nbformat_minor": 5
}
